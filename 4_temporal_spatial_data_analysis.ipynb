{
 "cells": [
  {
   "attachments": {},
   "cell_type": "markdown",
   "metadata": {},
   "source": [
    "# Project 1: Analysis and Forecasting of NYC Taxi Rides"
   ]
  },
  {
   "cell_type": "code",
   "execution_count": 1,
   "metadata": {
    "ExecuteTime": {
     "end_time": "2023-06-09T07:23:54.059914Z",
     "start_time": "2023-06-09T07:23:46.706763Z"
    }
   },
   "outputs": [],
   "source": [
    "# The code makes sure that once there is change in the 'src/' folder, the \n",
    "# change will be automatically reloaded in the notebook.\n",
    "%reload_ext autoreload\n",
    "%autoreload 2\n",
    "%aimport src"
   ]
  },
  {
   "attachments": {},
   "cell_type": "markdown",
   "metadata": {},
   "source": [
    "### Task 1: Understanding the Data\n",
    "\n",
    "Yellow and green taxi trip records include fields capturing \n",
    "- pick-up and drop-off dates/times\n",
    "- pick-up and drop-off locations\n",
    "- trip distances\n",
    "- itemized fares\n",
    "- rate types\n",
    "- payment types\n",
    "- driver-reported passenger counts \n",
    "  \n",
    "The data used in the attached datasets were collected and provided to the NYC Taxi and Limousine Commission (TLC) by technology providers authorized under the Taxicab & Livery Passenger Enhancement Programs (TPEP/LPEP). The trip data was not created by the TLC, and TLC makes no representations as to the accuracy of these data.\n",
    "\n",
    "**Remark**: Feel free to change the *months* and *year* in the code below, if you need more/less data. "
   ]
  },
  {
   "cell_type": "code",
   "execution_count": 2,
   "metadata": {
    "ExecuteTime": {
     "end_time": "2023-06-09T07:24:08.086837Z",
     "start_time": "2023-06-09T07:23:46.843303Z"
    }
   },
   "outputs": [],
   "source": [
    "import pandas as pd\n",
    "from src.utils import load_data_from_google_drive\n",
    "\n",
    "# Define the base URLs for the yellow and green taxi data\n",
    "base_url_yellow = \"https://d37ci6vzurychx.cloudfront.net/trip-data/yellow_tripdata_{year}-{month}.parquet\"\n",
    "base_url_green = \"https://d37ci6vzurychx.cloudfront.net/trip-data/green_tripdata_{year}-{month}.parquet\"\n",
    "zones_url = 'https://drive.google.com/file/d/12VgjWXkyEBsxzuKFxIkAevEbao85ei0T/view?usp=sharing'\n",
    "\n",
    "# Define the months and year you're interested in\n",
    "months = ['01', '02']\n",
    "year = '2022'\n",
    "\n",
    "# Create empty lists to store the dataframes\n",
    "df_yellow_list = []\n",
    "df_green_list = []\n",
    "\n",
    "# Loop over the months\n",
    "for month in months:\n",
    "    # Create the full URL for the yellow and green taxi data\n",
    "    dfy = pd.read_parquet(base_url_yellow.format(year=year, month=month))\n",
    "    dfg = pd.read_parquet(base_url_green.format(year=year, month=month))\n",
    "    \n",
    "    # Download the data and append it to the list\n",
    "    df_yellow_list.append(dfy)\n",
    "    df_green_list.append(dfg)\n",
    "\n",
    "# Concatenate the list of dataframes into a single dataframe\n",
    "df_yellow = pd.concat(df_yellow_list)\n",
    "df_green = pd.concat(df_green_list)\n",
    "\n",
    "df_zones = load_data_from_google_drive(url=zones_url)"
   ]
  },
  {
   "cell_type": "code",
   "execution_count": 3,
   "metadata": {
    "ExecuteTime": {
     "end_time": "2023-06-09T07:24:08.345339Z",
     "start_time": "2023-06-09T07:24:08.088526Z"
    }
   },
   "outputs": [
    {
     "data": {
      "text/plain": "   VendorID tpep_pickup_datetime tpep_dropoff_datetime  passenger_count  \\\n0         1  2022-01-01 00:35:40   2022-01-01 00:53:29              2.0   \n1         1  2022-01-01 00:33:43   2022-01-01 00:42:07              1.0   \n2         2  2022-01-01 00:53:21   2022-01-01 01:02:19              1.0   \n3         2  2022-01-01 00:25:21   2022-01-01 00:35:23              1.0   \n4         2  2022-01-01 00:36:48   2022-01-01 01:14:20              1.0   \n\n   trip_distance  RatecodeID store_and_fwd_flag  PULocationID  DOLocationID  \\\n0           3.80         1.0                  N           142           236   \n1           2.10         1.0                  N           236            42   \n2           0.97         1.0                  N           166           166   \n3           1.09         1.0                  N           114            68   \n4           4.30         1.0                  N            68           163   \n\n   payment_type  fare_amount  extra  mta_tax  tip_amount  tolls_amount  \\\n0             1         14.5    3.0      0.5        3.65           0.0   \n1             1          8.0    0.5      0.5        4.00           0.0   \n2             1          7.5    0.5      0.5        1.76           0.0   \n3             2          8.0    0.5      0.5        0.00           0.0   \n4             1         23.5    0.5      0.5        3.00           0.0   \n\n   improvement_surcharge  total_amount  congestion_surcharge  airport_fee  \n0                    0.3         21.95                   2.5          0.0  \n1                    0.3         13.30                   0.0          0.0  \n2                    0.3         10.56                   0.0          0.0  \n3                    0.3         11.80                   2.5          0.0  \n4                    0.3         30.30                   2.5          0.0  ",
      "text/html": "<div>\n<style scoped>\n    .dataframe tbody tr th:only-of-type {\n        vertical-align: middle;\n    }\n\n    .dataframe tbody tr th {\n        vertical-align: top;\n    }\n\n    .dataframe thead th {\n        text-align: right;\n    }\n</style>\n<table border=\"1\" class=\"dataframe\">\n  <thead>\n    <tr style=\"text-align: right;\">\n      <th></th>\n      <th>VendorID</th>\n      <th>tpep_pickup_datetime</th>\n      <th>tpep_dropoff_datetime</th>\n      <th>passenger_count</th>\n      <th>trip_distance</th>\n      <th>RatecodeID</th>\n      <th>store_and_fwd_flag</th>\n      <th>PULocationID</th>\n      <th>DOLocationID</th>\n      <th>payment_type</th>\n      <th>fare_amount</th>\n      <th>extra</th>\n      <th>mta_tax</th>\n      <th>tip_amount</th>\n      <th>tolls_amount</th>\n      <th>improvement_surcharge</th>\n      <th>total_amount</th>\n      <th>congestion_surcharge</th>\n      <th>airport_fee</th>\n    </tr>\n  </thead>\n  <tbody>\n    <tr>\n      <th>0</th>\n      <td>1</td>\n      <td>2022-01-01 00:35:40</td>\n      <td>2022-01-01 00:53:29</td>\n      <td>2.0</td>\n      <td>3.80</td>\n      <td>1.0</td>\n      <td>N</td>\n      <td>142</td>\n      <td>236</td>\n      <td>1</td>\n      <td>14.5</td>\n      <td>3.0</td>\n      <td>0.5</td>\n      <td>3.65</td>\n      <td>0.0</td>\n      <td>0.3</td>\n      <td>21.95</td>\n      <td>2.5</td>\n      <td>0.0</td>\n    </tr>\n    <tr>\n      <th>1</th>\n      <td>1</td>\n      <td>2022-01-01 00:33:43</td>\n      <td>2022-01-01 00:42:07</td>\n      <td>1.0</td>\n      <td>2.10</td>\n      <td>1.0</td>\n      <td>N</td>\n      <td>236</td>\n      <td>42</td>\n      <td>1</td>\n      <td>8.0</td>\n      <td>0.5</td>\n      <td>0.5</td>\n      <td>4.00</td>\n      <td>0.0</td>\n      <td>0.3</td>\n      <td>13.30</td>\n      <td>0.0</td>\n      <td>0.0</td>\n    </tr>\n    <tr>\n      <th>2</th>\n      <td>2</td>\n      <td>2022-01-01 00:53:21</td>\n      <td>2022-01-01 01:02:19</td>\n      <td>1.0</td>\n      <td>0.97</td>\n      <td>1.0</td>\n      <td>N</td>\n      <td>166</td>\n      <td>166</td>\n      <td>1</td>\n      <td>7.5</td>\n      <td>0.5</td>\n      <td>0.5</td>\n      <td>1.76</td>\n      <td>0.0</td>\n      <td>0.3</td>\n      <td>10.56</td>\n      <td>0.0</td>\n      <td>0.0</td>\n    </tr>\n    <tr>\n      <th>3</th>\n      <td>2</td>\n      <td>2022-01-01 00:25:21</td>\n      <td>2022-01-01 00:35:23</td>\n      <td>1.0</td>\n      <td>1.09</td>\n      <td>1.0</td>\n      <td>N</td>\n      <td>114</td>\n      <td>68</td>\n      <td>2</td>\n      <td>8.0</td>\n      <td>0.5</td>\n      <td>0.5</td>\n      <td>0.00</td>\n      <td>0.0</td>\n      <td>0.3</td>\n      <td>11.80</td>\n      <td>2.5</td>\n      <td>0.0</td>\n    </tr>\n    <tr>\n      <th>4</th>\n      <td>2</td>\n      <td>2022-01-01 00:36:48</td>\n      <td>2022-01-01 01:14:20</td>\n      <td>1.0</td>\n      <td>4.30</td>\n      <td>1.0</td>\n      <td>N</td>\n      <td>68</td>\n      <td>163</td>\n      <td>1</td>\n      <td>23.5</td>\n      <td>0.5</td>\n      <td>0.5</td>\n      <td>3.00</td>\n      <td>0.0</td>\n      <td>0.3</td>\n      <td>30.30</td>\n      <td>2.5</td>\n      <td>0.0</td>\n    </tr>\n  </tbody>\n</table>\n</div>"
     },
     "execution_count": 3,
     "metadata": {},
     "output_type": "execute_result"
    }
   ],
   "source": [
    "df_yellow.head(5)"
   ]
  },
  {
   "cell_type": "code",
   "execution_count": 4,
   "metadata": {
    "ExecuteTime": {
     "end_time": "2023-06-09T07:24:08.718314Z",
     "start_time": "2023-06-09T07:24:08.346082Z"
    }
   },
   "outputs": [
    {
     "data": {
      "text/plain": "   VendorID lpep_pickup_datetime lpep_dropoff_datetime store_and_fwd_flag  \\\n0         2  2022-01-01 00:14:21   2022-01-01 00:15:33                  N   \n1         1  2022-01-01 00:20:55   2022-01-01 00:29:38                  N   \n2         1  2022-01-01 00:57:02   2022-01-01 01:13:14                  N   \n3         2  2022-01-01 00:07:42   2022-01-01 00:15:57                  N   \n4         2  2022-01-01 00:07:50   2022-01-01 00:28:52                  N   \n\n   RatecodeID  PULocationID  DOLocationID  passenger_count  trip_distance  \\\n0         1.0            42            42              1.0           0.44   \n1         1.0           116            41              1.0           2.10   \n2         1.0            41           140              1.0           3.70   \n3         1.0           181           181              1.0           1.69   \n4         1.0            33           170              1.0           6.26   \n\n   fare_amount  extra  mta_tax  tip_amount  tolls_amount ehail_fee  \\\n0          3.5   0.50      0.5        0.00           0.0      None   \n1          9.5   0.50      0.5        0.00           0.0      None   \n2         14.5   3.25      0.5        4.60           0.0      None   \n3          8.0   0.50      0.5        0.00           0.0      None   \n4         22.0   0.50      0.5        5.21           0.0      None   \n\n   improvement_surcharge  total_amount  payment_type  trip_type  \\\n0                    0.3          4.80           2.0        1.0   \n1                    0.3         10.80           2.0        1.0   \n2                    0.3         23.15           1.0        1.0   \n3                    0.3          9.30           2.0        1.0   \n4                    0.3         31.26           1.0        1.0   \n\n   congestion_surcharge  \n0                  0.00  \n1                  0.00  \n2                  2.75  \n3                  0.00  \n4                  2.75  ",
      "text/html": "<div>\n<style scoped>\n    .dataframe tbody tr th:only-of-type {\n        vertical-align: middle;\n    }\n\n    .dataframe tbody tr th {\n        vertical-align: top;\n    }\n\n    .dataframe thead th {\n        text-align: right;\n    }\n</style>\n<table border=\"1\" class=\"dataframe\">\n  <thead>\n    <tr style=\"text-align: right;\">\n      <th></th>\n      <th>VendorID</th>\n      <th>lpep_pickup_datetime</th>\n      <th>lpep_dropoff_datetime</th>\n      <th>store_and_fwd_flag</th>\n      <th>RatecodeID</th>\n      <th>PULocationID</th>\n      <th>DOLocationID</th>\n      <th>passenger_count</th>\n      <th>trip_distance</th>\n      <th>fare_amount</th>\n      <th>extra</th>\n      <th>mta_tax</th>\n      <th>tip_amount</th>\n      <th>tolls_amount</th>\n      <th>ehail_fee</th>\n      <th>improvement_surcharge</th>\n      <th>total_amount</th>\n      <th>payment_type</th>\n      <th>trip_type</th>\n      <th>congestion_surcharge</th>\n    </tr>\n  </thead>\n  <tbody>\n    <tr>\n      <th>0</th>\n      <td>2</td>\n      <td>2022-01-01 00:14:21</td>\n      <td>2022-01-01 00:15:33</td>\n      <td>N</td>\n      <td>1.0</td>\n      <td>42</td>\n      <td>42</td>\n      <td>1.0</td>\n      <td>0.44</td>\n      <td>3.5</td>\n      <td>0.50</td>\n      <td>0.5</td>\n      <td>0.00</td>\n      <td>0.0</td>\n      <td>None</td>\n      <td>0.3</td>\n      <td>4.80</td>\n      <td>2.0</td>\n      <td>1.0</td>\n      <td>0.00</td>\n    </tr>\n    <tr>\n      <th>1</th>\n      <td>1</td>\n      <td>2022-01-01 00:20:55</td>\n      <td>2022-01-01 00:29:38</td>\n      <td>N</td>\n      <td>1.0</td>\n      <td>116</td>\n      <td>41</td>\n      <td>1.0</td>\n      <td>2.10</td>\n      <td>9.5</td>\n      <td>0.50</td>\n      <td>0.5</td>\n      <td>0.00</td>\n      <td>0.0</td>\n      <td>None</td>\n      <td>0.3</td>\n      <td>10.80</td>\n      <td>2.0</td>\n      <td>1.0</td>\n      <td>0.00</td>\n    </tr>\n    <tr>\n      <th>2</th>\n      <td>1</td>\n      <td>2022-01-01 00:57:02</td>\n      <td>2022-01-01 01:13:14</td>\n      <td>N</td>\n      <td>1.0</td>\n      <td>41</td>\n      <td>140</td>\n      <td>1.0</td>\n      <td>3.70</td>\n      <td>14.5</td>\n      <td>3.25</td>\n      <td>0.5</td>\n      <td>4.60</td>\n      <td>0.0</td>\n      <td>None</td>\n      <td>0.3</td>\n      <td>23.15</td>\n      <td>1.0</td>\n      <td>1.0</td>\n      <td>2.75</td>\n    </tr>\n    <tr>\n      <th>3</th>\n      <td>2</td>\n      <td>2022-01-01 00:07:42</td>\n      <td>2022-01-01 00:15:57</td>\n      <td>N</td>\n      <td>1.0</td>\n      <td>181</td>\n      <td>181</td>\n      <td>1.0</td>\n      <td>1.69</td>\n      <td>8.0</td>\n      <td>0.50</td>\n      <td>0.5</td>\n      <td>0.00</td>\n      <td>0.0</td>\n      <td>None</td>\n      <td>0.3</td>\n      <td>9.30</td>\n      <td>2.0</td>\n      <td>1.0</td>\n      <td>0.00</td>\n    </tr>\n    <tr>\n      <th>4</th>\n      <td>2</td>\n      <td>2022-01-01 00:07:50</td>\n      <td>2022-01-01 00:28:52</td>\n      <td>N</td>\n      <td>1.0</td>\n      <td>33</td>\n      <td>170</td>\n      <td>1.0</td>\n      <td>6.26</td>\n      <td>22.0</td>\n      <td>0.50</td>\n      <td>0.5</td>\n      <td>5.21</td>\n      <td>0.0</td>\n      <td>None</td>\n      <td>0.3</td>\n      <td>31.26</td>\n      <td>1.0</td>\n      <td>1.0</td>\n      <td>2.75</td>\n    </tr>\n  </tbody>\n</table>\n</div>"
     },
     "execution_count": 4,
     "metadata": {},
     "output_type": "execute_result"
    }
   ],
   "source": [
    "df_green.head(5)"
   ]
  },
  {
   "cell_type": "code",
   "execution_count": 5,
   "metadata": {
    "ExecuteTime": {
     "end_time": "2023-06-09T07:24:12.296381Z",
     "start_time": "2023-06-09T07:24:08.574860Z"
    }
   },
   "outputs": [
    {
     "data": {
      "text/plain": "<Figure size 700x700 with 1 Axes>",
      "image/png": "[encoded data removed]"
     },
     "metadata": {},
     "output_type": "display_data"
    }
   ],
   "source": [
    "from src.utils import create_scatterplot\n",
    "\n",
    "create_scatterplot(\n",
    "    df_yellow.sample(50), \n",
    "    x_col = 'trip_distance', \n",
    "    y_col = 'fare_amount', \n",
    "    title = 'trip_distance vs fare_amount', \n",
    "    xlabel = 'trip_distance',\n",
    "    ylabel = 'fare_amount',\n",
    ")"
   ]
  },
  {
   "attachments": {},
   "cell_type": "markdown",
   "metadata": {},
   "source": [
    "### Task 2: Exploratory Data Analysis\n",
    "Conduct exploratory data analysis to understand the patterns and relationships in the data. This includes analyzing the distribution of trip distances, fares, and passenger counts, as well as the relationship between these variables."
   ]
  },
  {
   "cell_type": "code",
   "execution_count": 6,
   "metadata": {
    "ExecuteTime": {
     "end_time": "2023-06-09T07:24:12.823524Z",
     "start_time": "2023-06-09T07:24:12.292662Z"
    }
   },
   "outputs": [],
   "source": [
    "# Write your code"
   ]
  },
  {
   "attachments": {},
   "cell_type": "markdown",
   "metadata": {},
   "source": [
    "### Task 3: Spatial Analysis\n",
    "Use Kepler.gl (https://kepler.gl/) or similar tools/packages to visualize the spatial patterns of taxi rides. This includes the pickup and dropoff locations, as well as the routes taken. Analyze the spatial patterns to identify hotspots of taxi demand.\n",
    "\n",
    "You can find a good tutorial on https://docs.kepler.gl/docs/keplergl-jupyter#install for how to use it in jupyter notebook with python.\n",
    "\n",
    "**Hint** In order to visualize the pickup/dropoff location geographically, you might need to know the latitude (lat) and longitude (lng) for each location. You can find the corresponding information in the dataframe \"df_zones\"."
   ]
  },
  {
   "cell_type": "code",
   "execution_count": 7,
   "metadata": {
    "ExecuteTime": {
     "end_time": "2023-06-09T07:24:12.824937Z",
     "start_time": "2023-06-09T07:24:12.398093Z"
    }
   },
   "outputs": [
    {
     "data": {
      "text/plain": "   Shape_Leng  Shape_Area                     zone  LocationID        borough  \\\n0    0.116357    0.000782           Newark Airport           1            EWR   \n1    0.433470    0.004866              Jamaica Bay           2         Queens   \n2    0.084341    0.000314  Allerton/Pelham Gardens           3          Bronx   \n3    0.043567    0.000112            Alphabet City           4      Manhattan   \n4    0.092146    0.000498            Arden Heights           5  Staten Island   \n\n         lat        lng  \n0  40.689516 -74.176786  \n1  40.625724 -73.826126  \n2  40.865888 -73.849479  \n3  40.724152 -73.977023  \n4  40.550340 -74.189930  ",
      "text/html": "<div>\n<style scoped>\n    .dataframe tbody tr th:only-of-type {\n        vertical-align: middle;\n    }\n\n    .dataframe tbody tr th {\n        vertical-align: top;\n    }\n\n    .dataframe thead th {\n        text-align: right;\n    }\n</style>\n<table border=\"1\" class=\"dataframe\">\n  <thead>\n    <tr style=\"text-align: right;\">\n      <th></th>\n      <th>Shape_Leng</th>\n      <th>Shape_Area</th>\n      <th>zone</th>\n      <th>LocationID</th>\n      <th>borough</th>\n      <th>lat</th>\n      <th>lng</th>\n    </tr>\n  </thead>\n  <tbody>\n    <tr>\n      <th>0</th>\n      <td>0.116357</td>\n      <td>0.000782</td>\n      <td>Newark Airport</td>\n      <td>1</td>\n      <td>EWR</td>\n      <td>40.689516</td>\n      <td>-74.176786</td>\n    </tr>\n    <tr>\n      <th>1</th>\n      <td>0.433470</td>\n      <td>0.004866</td>\n      <td>Jamaica Bay</td>\n      <td>2</td>\n      <td>Queens</td>\n      <td>40.625724</td>\n      <td>-73.826126</td>\n    </tr>\n    <tr>\n      <th>2</th>\n      <td>0.084341</td>\n      <td>0.000314</td>\n      <td>Allerton/Pelham Gardens</td>\n      <td>3</td>\n      <td>Bronx</td>\n      <td>40.865888</td>\n      <td>-73.849479</td>\n    </tr>\n    <tr>\n      <th>3</th>\n      <td>0.043567</td>\n      <td>0.000112</td>\n      <td>Alphabet City</td>\n      <td>4</td>\n      <td>Manhattan</td>\n      <td>40.724152</td>\n      <td>-73.977023</td>\n    </tr>\n    <tr>\n      <th>4</th>\n      <td>0.092146</td>\n      <td>0.000498</td>\n      <td>Arden Heights</td>\n      <td>5</td>\n      <td>Staten Island</td>\n      <td>40.550340</td>\n      <td>-74.189930</td>\n    </tr>\n  </tbody>\n</table>\n</div>"
     },
     "execution_count": 7,
     "metadata": {},
     "output_type": "execute_result"
    }
   ],
   "source": [
    "df_zones.head(5)"
   ]
  },
  {
   "cell_type": "code",
   "execution_count": 26,
   "outputs": [
    {
     "data": {
      "text/plain": "         VendorID tpep_pickup_datetime tpep_dropoff_datetime  passenger_count  \\\n0               1  2022-01-01 00:35:40   2022-01-01 00:53:29              2.0   \n1               2  2022-01-01 00:29:19   2022-01-01 00:37:19              2.0   \n2               1  2022-01-01 00:28:44   2022-01-01 00:36:46              1.0   \n3               2  2022-01-01 00:31:10   2022-01-01 00:41:27              1.0   \n4               2  2022-01-01 00:42:35   2022-01-01 00:54:52              1.0   \n...           ...                  ...                   ...              ...   \n5350906         2  2022-02-26 00:07:13   2022-02-26 00:07:18              1.0   \n5350907         2  2022-01-19 19:06:56   2022-01-19 19:27:09              1.0   \n5350908         2  2022-01-08 23:05:31   2022-01-08 23:05:46              2.0   \n5350909         2  2022-01-23 18:18:43   2022-01-23 18:18:47              1.0   \n5350910         1  2022-02-18 10:01:10   2022-02-18 10:19:33              1.0   \n\n         trip_distance  RatecodeID store_and_fwd_flag  PULocationID  \\\n0                 3.80         1.0                  N           142   \n1                 1.92         1.0                  N           142   \n2                 1.40         1.0                  N           142   \n3                 2.01         1.0                  N           142   \n4                 2.81         1.0                  N           142   \n...                ...         ...                ...           ...   \n5350906           0.00         5.0                  N           245   \n5350907           6.04         1.0                  N            30   \n5350908           0.16         1.0                  N            30   \n5350909           0.00         5.0                  N            30   \n5350910           3.90        99.0                  N           251   \n\n         DOLocationID  payment_type  ...  total_amount  congestion_surcharge  \\\n0                 236             1  ...         21.95                   2.5   \n1                 236             1  ...         13.57                   2.5   \n2                 236             1  ...         14.10                   2.5   \n3                 236             1  ...         15.96                   2.5   \n4                 236             1  ...         18.36                   2.5   \n...               ...           ...  ...           ...                   ...   \n5350906           245             1  ...        160.30                   0.0   \n5350907            30             2  ...         26.70                   0.0   \n5350908             2             2  ...          6.25                   0.0   \n5350909             2             2  ...         30.30                   0.0   \n5350910           118             1  ...         19.00                   0.0   \n\n         airport_fee  LocationID_DO     lat_DO     lng_DO  LocationID_PU  \\\n0                0.0            236  40.780491 -73.956972            142   \n1                0.0            236  40.780491 -73.956972            142   \n2                0.0            236  40.780491 -73.956972            142   \n3                0.0            236  40.780491 -73.956972            142   \n4                0.0            236  40.780491 -73.956972            142   \n...              ...            ...        ...        ...            ...   \n5350906          0.0            245  40.628478 -74.103171            245   \n5350907          0.0             30  40.604872 -73.820098             30   \n5350908          0.0              2  40.625724 -73.826126             30   \n5350909          0.0              2  40.625724 -73.826126             30   \n5350910          0.0            118  40.585631 -74.137070            251   \n\n            lat_PU     lng_PU                                  timestamp  \n0        40.773906 -73.981352  2022-01-01 00:53:29 - 2022-01-01 00:35:40  \n1        40.773906 -73.981352  2022-01-01 00:37:19 - 2022-01-01 00:29:19  \n2        40.773906 -73.981352  2022-01-01 00:36:46 - 2022-01-01 00:28:44  \n3        40.773906 -73.981352  2022-01-01 00:41:27 - 2022-01-01 00:31:10  \n4        40.773906 -73.981352  2022-01-01 00:54:52 - 2022-01-01 00:42:35  \n...            ...        ...                                        ...  \n5350906  40.628478 -74.103171  2022-02-26 00:07:18 - 2022-02-26 00:07:13  \n5350907  40.604872 -73.820098  2022-01-19 19:27:09 - 2022-01-19 19:06:56  \n5350908  40.604872 -73.820098  2022-01-08 23:05:46 - 2022-01-08 23:05:31  \n5350909  40.604872 -73.820098  2022-01-23 18:18:47 - 2022-01-23 18:18:43  \n5350910  40.619606 -74.123237  2022-02-18 10:19:33 - 2022-02-18 10:01:10  \n\n[5350911 rows x 26 columns]",
      "text/html": "<div>\n<style scoped>\n    .dataframe tbody tr th:only-of-type {\n        vertical-align: middle;\n    }\n\n    .dataframe tbody tr th {\n        vertical-align: top;\n    }\n\n    .dataframe thead th {\n        text-align: right;\n    }\n</style>\n<table border=\"1\" class=\"dataframe\">\n  <thead>\n    <tr style=\"text-align: right;\">\n      <th></th>\n      <th>VendorID</th>\n      <th>tpep_pickup_datetime</th>\n      <th>tpep_dropoff_datetime</th>\n      <th>passenger_count</th>\n      <th>trip_distance</th>\n      <th>RatecodeID</th>\n      <th>store_and_fwd_flag</th>\n      <th>PULocationID</th>\n      <th>DOLocationID</th>\n      <th>payment_type</th>\n      <th>...</th>\n      <th>total_amount</th>\n      <th>congestion_surcharge</th>\n      <th>airport_fee</th>\n      <th>LocationID_DO</th>\n      <th>lat_DO</th>\n      <th>lng_DO</th>\n      <th>LocationID_PU</th>\n      <th>lat_PU</th>\n      <th>lng_PU</th>\n      <th>timestamp</th>\n    </tr>\n  </thead>\n  <tbody>\n    <tr>\n      <th>0</th>\n      <td>1</td>\n      <td>2022-01-01 00:35:40</td>\n      <td>2022-01-01 00:53:29</td>\n      <td>2.0</td>\n      <td>3.80</td>\n      <td>1.0</td>\n      <td>N</td>\n      <td>142</td>\n      <td>236</td>\n      <td>1</td>\n      <td>...</td>\n      <td>21.95</td>\n      <td>2.5</td>\n      <td>0.0</td>\n      <td>236</td>\n      <td>40.780491</td>\n      <td>-73.956972</td>\n      <td>142</td>\n      <td>40.773906</td>\n      <td>-73.981352</td>\n      <td>2022-01-01 00:53:29 - 2022-01-01 00:35:40</td>\n    </tr>\n    <tr>\n      <th>1</th>\n      <td>2</td>\n      <td>2022-01-01 00:29:19</td>\n      <td>2022-01-01 00:37:19</td>\n      <td>2.0</td>\n      <td>1.92</td>\n      <td>1.0</td>\n      <td>N</td>\n      <td>142</td>\n      <td>236</td>\n      <td>1</td>\n      <td>...</td>\n      <td>13.57</td>\n      <td>2.5</td>\n      <td>0.0</td>\n      <td>236</td>\n      <td>40.780491</td>\n      <td>-73.956972</td>\n      <td>142</td>\n      <td>40.773906</td>\n      <td>-73.981352</td>\n      <td>2022-01-01 00:37:19 - 2022-01-01 00:29:19</td>\n    </tr>\n    <tr>\n      <th>2</th>\n      <td>1</td>\n      <td>2022-01-01 00:28:44</td>\n      <td>2022-01-01 00:36:46</td>\n      <td>1.0</td>\n      <td>1.40</td>\n      <td>1.0</td>\n      <td>N</td>\n      <td>142</td>\n      <td>236</td>\n      <td>1</td>\n      <td>...</td>\n      <td>14.10</td>\n      <td>2.5</td>\n      <td>0.0</td>\n      <td>236</td>\n      <td>40.780491</td>\n      <td>-73.956972</td>\n      <td>142</td>\n      <td>40.773906</td>\n      <td>-73.981352</td>\n      <td>2022-01-01 00:36:46 - 2022-01-01 00:28:44</td>\n    </tr>\n    <tr>\n      <th>3</th>\n      <td>2</td>\n      <td>2022-01-01 00:31:10</td>\n      <td>2022-01-01 00:41:27</td>\n      <td>1.0</td>\n      <td>2.01</td>\n      <td>1.0</td>\n      <td>N</td>\n      <td>142</td>\n      <td>236</td>\n      <td>1</td>\n      <td>...</td>\n      <td>15.96</td>\n      <td>2.5</td>\n      <td>0.0</td>\n      <td>236</td>\n      <td>40.780491</td>\n      <td>-73.956972</td>\n      <td>142</td>\n      <td>40.773906</td>\n      <td>-73.981352</td>\n      <td>2022-01-01 00:41:27 - 2022-01-01 00:31:10</td>\n    </tr>\n    <tr>\n      <th>4</th>\n      <td>2</td>\n      <td>2022-01-01 00:42:35</td>\n      <td>2022-01-01 00:54:52</td>\n      <td>1.0</td>\n      <td>2.81</td>\n      <td>1.0</td>\n      <td>N</td>\n      <td>142</td>\n      <td>236</td>\n      <td>1</td>\n      <td>...</td>\n      <td>18.36</td>\n      <td>2.5</td>\n      <td>0.0</td>\n      <td>236</td>\n      <td>40.780491</td>\n      <td>-73.956972</td>\n      <td>142</td>\n      <td>40.773906</td>\n      <td>-73.981352</td>\n      <td>2022-01-01 00:54:52 - 2022-01-01 00:42:35</td>\n    </tr>\n    <tr>\n      <th>...</th>\n      <td>...</td>\n      <td>...</td>\n      <td>...</td>\n      <td>...</td>\n      <td>...</td>\n      <td>...</td>\n      <td>...</td>\n      <td>...</td>\n      <td>...</td>\n      <td>...</td>\n      <td>...</td>\n      <td>...</td>\n      <td>...</td>\n      <td>...</td>\n      <td>...</td>\n      <td>...</td>\n      <td>...</td>\n      <td>...</td>\n      <td>...</td>\n      <td>...</td>\n      <td>...</td>\n    </tr>\n    <tr>\n      <th>5350906</th>\n      <td>2</td>\n      <td>2022-02-26 00:07:13</td>\n      <td>2022-02-26 00:07:18</td>\n      <td>1.0</td>\n      <td>0.00</td>\n      <td>5.0</td>\n      <td>N</td>\n      <td>245</td>\n      <td>245</td>\n      <td>1</td>\n      <td>...</td>\n      <td>160.30</td>\n      <td>0.0</td>\n      <td>0.0</td>\n      <td>245</td>\n      <td>40.628478</td>\n      <td>-74.103171</td>\n      <td>245</td>\n      <td>40.628478</td>\n      <td>-74.103171</td>\n      <td>2022-02-26 00:07:18 - 2022-02-26 00:07:13</td>\n    </tr>\n    <tr>\n      <th>5350907</th>\n      <td>2</td>\n      <td>2022-01-19 19:06:56</td>\n      <td>2022-01-19 19:27:09</td>\n      <td>1.0</td>\n      <td>6.04</td>\n      <td>1.0</td>\n      <td>N</td>\n      <td>30</td>\n      <td>30</td>\n      <td>2</td>\n      <td>...</td>\n      <td>26.70</td>\n      <td>0.0</td>\n      <td>0.0</td>\n      <td>30</td>\n      <td>40.604872</td>\n      <td>-73.820098</td>\n      <td>30</td>\n      <td>40.604872</td>\n      <td>-73.820098</td>\n      <td>2022-01-19 19:27:09 - 2022-01-19 19:06:56</td>\n    </tr>\n    <tr>\n      <th>5350908</th>\n      <td>2</td>\n      <td>2022-01-08 23:05:31</td>\n      <td>2022-01-08 23:05:46</td>\n      <td>2.0</td>\n      <td>0.16</td>\n      <td>1.0</td>\n      <td>N</td>\n      <td>30</td>\n      <td>2</td>\n      <td>2</td>\n      <td>...</td>\n      <td>6.25</td>\n      <td>0.0</td>\n      <td>0.0</td>\n      <td>2</td>\n      <td>40.625724</td>\n      <td>-73.826126</td>\n      <td>30</td>\n      <td>40.604872</td>\n      <td>-73.820098</td>\n      <td>2022-01-08 23:05:46 - 2022-01-08 23:05:31</td>\n    </tr>\n    <tr>\n      <th>5350909</th>\n      <td>2</td>\n      <td>2022-01-23 18:18:43</td>\n      <td>2022-01-23 18:18:47</td>\n      <td>1.0</td>\n      <td>0.00</td>\n      <td>5.0</td>\n      <td>N</td>\n      <td>30</td>\n      <td>2</td>\n      <td>2</td>\n      <td>...</td>\n      <td>30.30</td>\n      <td>0.0</td>\n      <td>0.0</td>\n      <td>2</td>\n      <td>40.625724</td>\n      <td>-73.826126</td>\n      <td>30</td>\n      <td>40.604872</td>\n      <td>-73.820098</td>\n      <td>2022-01-23 18:18:47 - 2022-01-23 18:18:43</td>\n    </tr>\n    <tr>\n      <th>5350910</th>\n      <td>1</td>\n      <td>2022-02-18 10:01:10</td>\n      <td>2022-02-18 10:19:33</td>\n      <td>1.0</td>\n      <td>3.90</td>\n      <td>99.0</td>\n      <td>N</td>\n      <td>251</td>\n      <td>118</td>\n      <td>1</td>\n      <td>...</td>\n      <td>19.00</td>\n      <td>0.0</td>\n      <td>0.0</td>\n      <td>118</td>\n      <td>40.585631</td>\n      <td>-74.137070</td>\n      <td>251</td>\n      <td>40.619606</td>\n      <td>-74.123237</td>\n      <td>2022-02-18 10:19:33 - 2022-02-18 10:01:10</td>\n    </tr>\n  </tbody>\n</table>\n<p>5350911 rows × 26 columns</p>\n</div>"
     },
     "execution_count": 26,
     "metadata": {},
     "output_type": "execute_result"
    }
   ],
   "source": [
    "merged_df = df_yellow.merge(df_zones[['LocationID', 'lat', 'lng']], left_on='DOLocationID', right_on='LocationID')\n",
    "merged_df = merged_df.merge(df_zones[['LocationID', 'lat', 'lng']], left_on='PULocationID', right_on='LocationID', suffixes=('_DO', '_PU'))\n",
    "\n",
    "# Convert the DO and PU datetime columns to datetime objects\n",
    "merged_df['tpep_dropoff_datetime'] = pd.to_datetime(merged_df['tpep_dropoff_datetime'])\n",
    "merged_df['tpep_pickup_datetime'] = pd.to_datetime(merged_df['tpep_pickup_datetime'])\n",
    "\n",
    "# Create a combined timestamp column for DO and PU times\n",
    "merged_df['timestamp'] = merged_df['tpep_dropoff_datetime'].astype(str) + ' - ' + merged_df['tpep_pickup_datetime'].astype(str)\n",
    "\n",
    "merged_df"
   ],
   "metadata": {
    "collapsed": false,
    "ExecuteTime": {
     "end_time": "2023-06-09T08:26:43.754302Z",
     "start_time": "2023-06-09T08:26:07.732340Z"
    }
   }
  },
  {
   "cell_type": "code",
   "execution_count": 34,
   "outputs": [
    {
     "name": "stdout",
     "output_type": "stream",
     "text": [
      "35137\n"
     ]
    }
   ],
   "source": [
    "# Convert the tpep_pickup_datetime column to datetime objects\n",
    "merged_df['tpep_pickup_datetime'] = pd.to_datetime(merged_df['tpep_pickup_datetime'])\n",
    "\n",
    "# Filter for week 1, pickup hours between 7 and 9, and year equal to 2022\n",
    "filtered_df = merged_df[\n",
    "    (merged_df['tpep_pickup_datetime'].dt.isocalendar().week == 1) &\n",
    "    (merged_df['tpep_pickup_datetime'].dt.hour >= 7) &\n",
    "    (merged_df['tpep_pickup_datetime'].dt.hour <= 8) &\n",
    "    (merged_df['tpep_pickup_datetime'].dt.year == 2022)\n",
    "    ]\n",
    "\n",
    "print(len(filtered_df))\n",
    "# Print the filtered dataframe\n",
    "filtered_df.to_csv('kepler_map.csv', index=False)\n"
   ],
   "metadata": {
    "collapsed": false,
    "ExecuteTime": {
     "end_time": "2023-06-09T08:40:10.474295Z",
     "start_time": "2023-06-09T08:40:06.390359Z"
    }
   }
  },
  {
   "cell_type": "code",
   "execution_count": 21,
   "outputs": [
    {
     "name": "stdout",
     "output_type": "stream",
     "text": [
      "User Guide: https://docs.kepler.gl/docs/keplergl-jupyter\n"
     ]
    },
    {
     "name": "stderr",
     "output_type": "stream",
     "text": [
      "/Users/thomas/anaconda3/lib/python3.10/site-packages/jupyter_client/session.py:718: UserWarning: Message serialization failed with:\n",
      "Out of range float values are not JSON compliant\n",
      "Supporting this message is deprecated in jupyter-client 7, please make sure your message is JSON-compliant\n",
      "  content = self.pack(content)\n"
     ]
    },
    {
     "data": {
      "text/plain": "KeplerGl(data={'data_1': {'index': [72, 73, 74, 136, 138, 139, 140, 141, 143, 144, 252, 253, 254, 255, 256, 25…",
      "application/vnd.jupyter.widget-view+json": {
       "version_major": 2,
       "version_minor": 0,
       "model_id": "91736a273f4548d59da47648b692a7c8"
      }
     },
     "metadata": {},
     "output_type": "display_data"
    }
   ],
   "source": [
    "from keplergl import KeplerGl\n",
    "map_1 = KeplerGl()\n",
    "\n",
    "map_1.add_data(data=filtered_df, name='data_1')\n",
    "map_1"
   ],
   "metadata": {
    "collapsed": false,
    "ExecuteTime": {
     "end_time": "2023-06-09T08:08:09.695965Z",
     "start_time": "2023-06-09T08:07:47.397127Z"
    }
   }
  },
  {
   "attachments": {},
   "cell_type": "markdown",
   "metadata": {},
   "source": [
    "'### Task 4: Temporal Analysis\n",
    "Analyze the temporal patterns of taxi rides. This includes the number of rides by time of day, day of the week, and month of the year. Also, analyze the relationship between temporal patterns and other variables, such as trip distance and fare.\n",
    "\n",
    "You can find very good code examples to use on this page https://www.machinelearningplus.com/time-series/time-series-analysis-python/?utm_content=cmp-true"
   ]
  },
  {
   "cell_type": "code",
   "execution_count": null,
   "metadata": {},
   "outputs": [],
   "source": [
    "# Write your code"
   ]
  },
  {
   "attachments": {},
   "cell_type": "markdown",
   "metadata": {},
   "source": [
    "### Task 5: Time-Series Forecasting\n",
    "Use Prophet or a similar tool to forecast the number of taxi rides in the future, respectively for green and yellow taxis. This includes creating a time-series model, tuning its parameters, and validating its performance. Also, interpret the model's predictions and identify the factors driving the forecasted trends.\n",
    "\n",
    "A good example for using Prophet to do time-series forecasting can be found here https://www.kaggle.com/code/prashant111/tutorial-time-series-forecasting-with-prophet\n",
    "\n",
    "**Hint**: In order to evaluate how your model performs, you need to split the dataset to be train and test. For time-series data, we cannot randomly select the data record (i.e. the rows) to be in train or test. Namely, all training data must be before the earliest test data. In other words, the model is always trained on historical data and then used to forecast the future."
   ]
  },
  {
   "cell_type": "code",
   "execution_count": 7,
   "metadata": {},
   "outputs": [],
   "source": [
    "# Write your code"
   ]
  },
  {
   "attachments": {},
   "cell_type": "markdown",
   "metadata": {},
   "source": [
    "### Task 6: Report and Presentation\n",
    "- Make this project as part of your presentation, **using beamer in LaTeX**. \n",
    "- This includes summarizing your methodology, presenting your results, and discussing your conclusions. Also, identify the limitations of your analysis and suggest areas for future research."
   ]
  },
  {
   "cell_type": "markdown",
   "source": [],
   "metadata": {
    "collapsed": false
   }
  },
  {
   "cell_type": "code",
   "execution_count": 37,
   "outputs": [
    {
     "name": "stdout",
     "output_type": "stream",
     "text": [
      "         VendorID tpep_pickup_datetime tpep_dropoff_datetime  passenger_count  \\\n",
      "9303            2  2022-01-02 07:43:22   2022-01-02 08:00:10              1.0   \n",
      "12818           1  2022-01-02 07:55:38   2022-01-02 08:01:49              2.0   \n",
      "17129           2  2022-01-02 07:49:14   2022-01-02 07:51:30              1.0   \n",
      "17130           2  2022-01-02 07:50:07   2022-01-02 07:51:50              1.0   \n",
      "44423           2  2022-01-02 07:14:31   2022-01-02 07:26:45              1.0   \n",
      "...           ...                  ...                   ...              ...   \n",
      "5342463         2  2022-01-02 07:42:31   2022-01-02 07:42:55              2.0   \n",
      "5344898         1  2022-01-02 07:48:38   2022-01-02 08:36:18              1.0   \n",
      "5346324         1  2022-01-02 07:27:56   2022-01-02 07:37:36              1.0   \n",
      "5350064         2  2022-01-02 07:28:52   2022-01-02 07:29:11              2.0   \n",
      "5350065         2  2022-01-02 07:02:37   2022-01-02 07:02:41              1.0   \n",
      "\n",
      "         trip_distance  RatecodeID store_and_fwd_flag  PULocationID  \\\n",
      "9303              4.23         1.0                  N           142   \n",
      "12818             2.00         1.0                  N           142   \n",
      "17129             0.63         1.0                  N           142   \n",
      "17130             0.28         1.0                  N           142   \n",
      "44423             2.13         1.0                  N           142   \n",
      "...                ...         ...                ...           ...   \n",
      "5342463           1.53         5.0                  N           134   \n",
      "5344898           0.60        99.0                  N            91   \n",
      "5346324           1.70        99.0                  N           133   \n",
      "5350064           0.00         3.0                  N             1   \n",
      "5350065           0.00         5.0                  N             1   \n",
      "\n",
      "         DOLocationID  payment_type  ...  total_amount  congestion_surcharge  \\\n",
      "9303               42             1  ...         21.98                   2.5   \n",
      "12818              68             1  ...         13.55                   2.5   \n",
      "17129             163             1  ...          9.49                   2.5   \n",
      "17130             163             2  ...          6.80                   2.5   \n",
      "44423             140             1  ...         13.80                   2.5   \n",
      "...               ...           ...  ...           ...                   ...   \n",
      "5342463           134             1  ...         83.80                   0.0   \n",
      "5344898            72             1  ...         62.75                   0.0   \n",
      "5346324           178             1  ...         19.00                   0.0   \n",
      "5350064             1             2  ...         20.30                   0.0   \n",
      "5350065             1             1  ...        149.16                   0.0   \n",
      "\n",
      "         airport_fee  LocationID_DO     lat_DO     lng_DO  LocationID_PU  \\\n",
      "9303             0.0             42  40.821046 -73.939516            142   \n",
      "12818            0.0             68  40.748397 -73.999940            142   \n",
      "17129            0.0            163  40.764425 -73.978367            142   \n",
      "17130            0.0            163  40.764425 -73.978367            142   \n",
      "44423            0.0            140  40.765507 -73.954568            142   \n",
      "...              ...            ...        ...        ...            ...   \n",
      "5342463          0.0            134  40.708750 -73.829993            134   \n",
      "5344898          0.0             72  40.652461 -73.920210             91   \n",
      "5346324          0.0            178  40.617633 -73.970689            133   \n",
      "5350064          0.0              1  40.689516 -74.176786              1   \n",
      "5350065          0.0              1  40.689516 -74.176786              1   \n",
      "\n",
      "            lat_PU     lng_PU                                  timestamp  \n",
      "9303     40.773906 -73.981352  2022-01-02 08:00:10 - 2022-01-02 07:43:22  \n",
      "12818    40.773906 -73.981352  2022-01-02 08:01:49 - 2022-01-02 07:55:38  \n",
      "17129    40.773906 -73.981352  2022-01-02 07:51:30 - 2022-01-02 07:49:14  \n",
      "17130    40.773906 -73.981352  2022-01-02 07:51:50 - 2022-01-02 07:50:07  \n",
      "44423    40.773906 -73.981352  2022-01-02 07:26:45 - 2022-01-02 07:14:31  \n",
      "...            ...        ...                                        ...  \n",
      "5342463  40.708750 -73.829993  2022-01-02 07:42:55 - 2022-01-02 07:42:31  \n",
      "5344898  40.627390 -73.932544  2022-01-02 08:36:18 - 2022-01-02 07:48:38  \n",
      "5346324  40.639387 -73.974336  2022-01-02 07:37:36 - 2022-01-02 07:27:56  \n",
      "5350064  40.689516 -74.176786  2022-01-02 07:29:11 - 2022-01-02 07:28:52  \n",
      "5350065  40.689516 -74.176786  2022-01-02 07:02:41 - 2022-01-02 07:02:37  \n",
      "\n",
      "[875 rows x 26 columns]\n"
     ]
    }
   ],
   "source": [
    "import pandas as pd\n",
    "\n",
    "# Convert the tpep_pickup_datetime column to datetime objects\n",
    "merged_df['tpep_pickup_datetime'] = pd.to_datetime(merged_df['tpep_pickup_datetime'])\n",
    "\n",
    "# Filter for the specific time range and date\n",
    "start_time = pd.to_datetime('2022-01-02 07:00:00')\n",
    "end_time = pd.to_datetime('2022-01-02 08:00:00')\n",
    "timeline_df = merged_df[\n",
    "    (merged_df['tpep_pickup_datetime'] >= start_time) &\n",
    "    (merged_df['tpep_pickup_datetime'] < end_time)\n",
    "    ]\n",
    "\n",
    "# Print the filtered dataframe\n",
    "print(timeline_df)\n",
    "\n",
    "timeline_df.to_csv('timestamp_map.csv', index=False)"
   ],
   "metadata": {
    "collapsed": false,
    "ExecuteTime": {
     "end_time": "2023-06-09T08:56:48.962989Z",
     "start_time": "2023-06-09T08:56:48.539118Z"
    }
   }
  },
  {
   "cell_type": "code",
   "execution_count": 1,
   "outputs": [
    {
     "name": "stdout",
     "output_type": "stream",
     "text": [
      "User Guide: https://docs.kepler.gl/docs/keplergl-jupyter\n"
     ]
    },
    {
     "data": {
      "text/plain": "KeplerGl(data={'your_data_name': '{\"datasets\":[{\"version\":\"v1\",\"data\":{\"id\":\"6wartd3ym\",\"label\":\"timestamp_map…",
      "application/vnd.jupyter.widget-view+json": {
       "version_major": 2,
       "version_minor": 0,
       "model_id": "1394fc58a97b465b85d2ad0da2eb1951"
      }
     },
     "metadata": {},
     "output_type": "display_data"
    }
   ],
   "source": [
    "import keplergl\n",
    "import geopandas as gpd\n",
    "\n",
    "with open('timestamp.gl.json') as f:\n",
    "    data = f.read()\n",
    "\n",
    "map_1 = keplergl.KeplerGl(height=600)\n",
    "map_1.add_data(data=data, name='your_data_name')\n",
    "map_1"
   ],
   "metadata": {
    "collapsed": false,
    "ExecuteTime": {
     "end_time": "2023-06-09T09:23:54.173628Z",
     "start_time": "2023-06-09T09:23:53.083426Z"
    }
   }
  },
  {
   "cell_type": "code",
   "execution_count": null,
   "outputs": [],
   "source": [],
   "metadata": {
    "collapsed": false
   }
  }
 ],
 "metadata": {
  "kernelspec": {
   "display_name": "base",
   "language": "python",
   "name": "python3"
  },
  "language_info": {
   "codemirror_mode": {
    "name": "ipython",
    "version": 3
   },
   "file_extension": ".py",
   "mimetype": "text/x-python",
   "name": "python",
   "nbconvert_exporter": "python",
   "pygments_lexer": "ipython3",
   "version": "3.9.13"
  },
  "orig_nbformat": 4
 },
 "nbformat": 4,
 "nbformat_minor": 2
}
