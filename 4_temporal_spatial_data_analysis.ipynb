{
 "cells": [
  {
   "cell_type": "markdown",
   "metadata": {},
   "source": [
    "# Project 1: Analysis and Forecasting of NYC Taxi Rides"
   ]
  },
  {
   "cell_type": "code",
   "execution_count": 5,
   "metadata": {
    "ExecuteTime": {
     "end_time": "2023-06-19T19:21:40.234478Z",
     "start_time": "2023-06-19T19:21:40.025558Z"
    }
   },
   "outputs": [],
   "source": [
    "# The code makes sure that once there is change in the 'src/' folder, the \n",
    "# change will be automatically reloaded in the notebook.\n",
    "%reload_ext autoreload\n",
    "%autoreload 2\n",
    "%aimport src"
   ]
  },
  {
   "cell_type": "markdown",
   "metadata": {},
   "source": [
    "### Task 1: Understanding the Data\n",
    "\n",
    "Yellow and green taxi trip records include fields capturing \n",
    "- pick-up and drop-off dates/times\n",
    "- pick-up and drop-off locations\n",
    "- trip distances\n",
    "- itemized fares\n",
    "- rate types\n",
    "- payment types\n",
    "- driver-reported passenger counts \n",
    "  \n",
    "The data used in the attached datasets were collected and provided to the NYC Taxi and Limousine Commission (TLC) by technology providers authorized under the Taxicab & Livery Passenger Enhancement Programs (TPEP/LPEP). The trip data was not created by the TLC, and TLC makes no representations as to the accuracy of these data.\n",
    "\n",
    "**Remark**: Feel free to change the *months* and *year* in the code below, if you need more/less data. "
   ]
  },
  {
   "cell_type": "code",
   "execution_count": 6,
   "metadata": {
    "ExecuteTime": {
     "end_time": "2023-06-19T19:21:58.688165Z",
     "start_time": "2023-06-19T19:21:42.357862Z"
    }
   },
   "outputs": [],
   "source": [
    "import pandas as pd\n",
    "from src.utils import load_data_from_google_drive\n",
    "\n",
    "# Define the base URLs for the yellow and green taxi data\n",
    "base_url_yellow = \"https://d37ci6vzurychx.cloudfront.net/trip-data/yellow_tripdata_{year}-{month}.parquet\"\n",
    "base_url_green = \"https://d37ci6vzurychx.cloudfront.net/trip-data/green_tripdata_{year}-{month}.parquet\"\n",
    "zones_url = 'https://drive.google.com/file/d/12VgjWXkyEBsxzuKFxIkAevEbao85ei0T/view?usp=sharing'\n",
    "\n",
    "# Define the months and year you're interested in\n",
    "months = ['01', '02']\n",
    "year = '2022'\n",
    "\n",
    "# Create empty lists to store the dataframes\n",
    "df_yellow_list = []\n",
    "df_green_list = []\n",
    "\n",
    "# Loop over the months\n",
    "for month in months:\n",
    "    # Create the full URL for the yellow and green taxi data\n",
    "    dfy = pd.read_parquet(base_url_yellow.format(year=year, month=month))\n",
    "    dfg = pd.read_parquet(base_url_green.format(year=year, month=month))\n",
    "    \n",
    "    # Download the data and append it to the list\n",
    "    df_yellow_list.append(dfy)\n",
    "    df_green_list.append(dfg)\n",
    "\n",
    "# Concatenate the list of dataframes into a single dataframe\n",
    "df_yellow = pd.concat(df_yellow_list)\n",
    "df_green = pd.concat(df_green_list)\n",
    "\n",
    "df_zones = load_data_from_google_drive(url=zones_url)"
   ]
  },
  {
   "cell_type": "code",
   "execution_count": 7,
   "metadata": {
    "ExecuteTime": {
     "end_time": "2023-06-19T19:22:03.221941Z",
     "start_time": "2023-06-19T19:22:02.995117Z"
    }
   },
   "outputs": [
    {
     "data": {
      "text/plain": "   VendorID tpep_pickup_datetime tpep_dropoff_datetime  passenger_count  \\\n0         1  2022-01-01 00:35:40   2022-01-01 00:53:29              2.0   \n1         1  2022-01-01 00:33:43   2022-01-01 00:42:07              1.0   \n2         2  2022-01-01 00:53:21   2022-01-01 01:02:19              1.0   \n3         2  2022-01-01 00:25:21   2022-01-01 00:35:23              1.0   \n4         2  2022-01-01 00:36:48   2022-01-01 01:14:20              1.0   \n\n   trip_distance  RatecodeID store_and_fwd_flag  PULocationID  DOLocationID  \\\n0           3.80         1.0                  N           142           236   \n1           2.10         1.0                  N           236            42   \n2           0.97         1.0                  N           166           166   \n3           1.09         1.0                  N           114            68   \n4           4.30         1.0                  N            68           163   \n\n   payment_type  fare_amount  extra  mta_tax  tip_amount  tolls_amount  \\\n0             1         14.5    3.0      0.5        3.65           0.0   \n1             1          8.0    0.5      0.5        4.00           0.0   \n2             1          7.5    0.5      0.5        1.76           0.0   \n3             2          8.0    0.5      0.5        0.00           0.0   \n4             1         23.5    0.5      0.5        3.00           0.0   \n\n   improvement_surcharge  total_amount  congestion_surcharge  airport_fee  \n0                    0.3         21.95                   2.5          0.0  \n1                    0.3         13.30                   0.0          0.0  \n2                    0.3         10.56                   0.0          0.0  \n3                    0.3         11.80                   2.5          0.0  \n4                    0.3         30.30                   2.5          0.0  ",
      "text/html": "<div>\n<style scoped>\n    .dataframe tbody tr th:only-of-type {\n        vertical-align: middle;\n    }\n\n    .dataframe tbody tr th {\n        vertical-align: top;\n    }\n\n    .dataframe thead th {\n        text-align: right;\n    }\n</style>\n<table border=\"1\" class=\"dataframe\">\n  <thead>\n    <tr style=\"text-align: right;\">\n      <th></th>\n      <th>VendorID</th>\n      <th>tpep_pickup_datetime</th>\n      <th>tpep_dropoff_datetime</th>\n      <th>passenger_count</th>\n      <th>trip_distance</th>\n      <th>RatecodeID</th>\n      <th>store_and_fwd_flag</th>\n      <th>PULocationID</th>\n      <th>DOLocationID</th>\n      <th>payment_type</th>\n      <th>fare_amount</th>\n      <th>extra</th>\n      <th>mta_tax</th>\n      <th>tip_amount</th>\n      <th>tolls_amount</th>\n      <th>improvement_surcharge</th>\n      <th>total_amount</th>\n      <th>congestion_surcharge</th>\n      <th>airport_fee</th>\n    </tr>\n  </thead>\n  <tbody>\n    <tr>\n      <th>0</th>\n      <td>1</td>\n      <td>2022-01-01 00:35:40</td>\n      <td>2022-01-01 00:53:29</td>\n      <td>2.0</td>\n      <td>3.80</td>\n      <td>1.0</td>\n      <td>N</td>\n      <td>142</td>\n      <td>236</td>\n      <td>1</td>\n      <td>14.5</td>\n      <td>3.0</td>\n      <td>0.5</td>\n      <td>3.65</td>\n      <td>0.0</td>\n      <td>0.3</td>\n      <td>21.95</td>\n      <td>2.5</td>\n      <td>0.0</td>\n    </tr>\n    <tr>\n      <th>1</th>\n      <td>1</td>\n      <td>2022-01-01 00:33:43</td>\n      <td>2022-01-01 00:42:07</td>\n      <td>1.0</td>\n      <td>2.10</td>\n      <td>1.0</td>\n      <td>N</td>\n      <td>236</td>\n      <td>42</td>\n      <td>1</td>\n      <td>8.0</td>\n      <td>0.5</td>\n      <td>0.5</td>\n      <td>4.00</td>\n      <td>0.0</td>\n      <td>0.3</td>\n      <td>13.30</td>\n      <td>0.0</td>\n      <td>0.0</td>\n    </tr>\n    <tr>\n      <th>2</th>\n      <td>2</td>\n      <td>2022-01-01 00:53:21</td>\n      <td>2022-01-01 01:02:19</td>\n      <td>1.0</td>\n      <td>0.97</td>\n      <td>1.0</td>\n      <td>N</td>\n      <td>166</td>\n      <td>166</td>\n      <td>1</td>\n      <td>7.5</td>\n      <td>0.5</td>\n      <td>0.5</td>\n      <td>1.76</td>\n      <td>0.0</td>\n      <td>0.3</td>\n      <td>10.56</td>\n      <td>0.0</td>\n      <td>0.0</td>\n    </tr>\n    <tr>\n      <th>3</th>\n      <td>2</td>\n      <td>2022-01-01 00:25:21</td>\n      <td>2022-01-01 00:35:23</td>\n      <td>1.0</td>\n      <td>1.09</td>\n      <td>1.0</td>\n      <td>N</td>\n      <td>114</td>\n      <td>68</td>\n      <td>2</td>\n      <td>8.0</td>\n      <td>0.5</td>\n      <td>0.5</td>\n      <td>0.00</td>\n      <td>0.0</td>\n      <td>0.3</td>\n      <td>11.80</td>\n      <td>2.5</td>\n      <td>0.0</td>\n    </tr>\n    <tr>\n      <th>4</th>\n      <td>2</td>\n      <td>2022-01-01 00:36:48</td>\n      <td>2022-01-01 01:14:20</td>\n      <td>1.0</td>\n      <td>4.30</td>\n      <td>1.0</td>\n      <td>N</td>\n      <td>68</td>\n      <td>163</td>\n      <td>1</td>\n      <td>23.5</td>\n      <td>0.5</td>\n      <td>0.5</td>\n      <td>3.00</td>\n      <td>0.0</td>\n      <td>0.3</td>\n      <td>30.30</td>\n      <td>2.5</td>\n      <td>0.0</td>\n    </tr>\n  </tbody>\n</table>\n</div>"
     },
     "execution_count": 7,
     "metadata": {},
     "output_type": "execute_result"
    }
   ],
   "source": [
    "df_yellow.head(5)"
   ]
  },
  {
   "cell_type": "code",
   "execution_count": 8,
   "metadata": {
    "ExecuteTime": {
     "end_time": "2023-06-19T19:22:05.789121Z",
     "start_time": "2023-06-19T19:22:05.667539Z"
    }
   },
   "outputs": [
    {
     "data": {
      "text/plain": "   VendorID lpep_pickup_datetime lpep_dropoff_datetime store_and_fwd_flag  \\\n0         2  2022-01-01 00:14:21   2022-01-01 00:15:33                  N   \n1         1  2022-01-01 00:20:55   2022-01-01 00:29:38                  N   \n2         1  2022-01-01 00:57:02   2022-01-01 01:13:14                  N   \n3         2  2022-01-01 00:07:42   2022-01-01 00:15:57                  N   \n4         2  2022-01-01 00:07:50   2022-01-01 00:28:52                  N   \n\n   RatecodeID  PULocationID  DOLocationID  passenger_count  trip_distance  \\\n0         1.0            42            42              1.0           0.44   \n1         1.0           116            41              1.0           2.10   \n2         1.0            41           140              1.0           3.70   \n3         1.0           181           181              1.0           1.69   \n4         1.0            33           170              1.0           6.26   \n\n   fare_amount  extra  mta_tax  tip_amount  tolls_amount ehail_fee  \\\n0          3.5   0.50      0.5        0.00           0.0      None   \n1          9.5   0.50      0.5        0.00           0.0      None   \n2         14.5   3.25      0.5        4.60           0.0      None   \n3          8.0   0.50      0.5        0.00           0.0      None   \n4         22.0   0.50      0.5        5.21           0.0      None   \n\n   improvement_surcharge  total_amount  payment_type  trip_type  \\\n0                    0.3          4.80           2.0        1.0   \n1                    0.3         10.80           2.0        1.0   \n2                    0.3         23.15           1.0        1.0   \n3                    0.3          9.30           2.0        1.0   \n4                    0.3         31.26           1.0        1.0   \n\n   congestion_surcharge  \n0                  0.00  \n1                  0.00  \n2                  2.75  \n3                  0.00  \n4                  2.75  ",
      "text/html": "<div>\n<style scoped>\n    .dataframe tbody tr th:only-of-type {\n        vertical-align: middle;\n    }\n\n    .dataframe tbody tr th {\n        vertical-align: top;\n    }\n\n    .dataframe thead th {\n        text-align: right;\n    }\n</style>\n<table border=\"1\" class=\"dataframe\">\n  <thead>\n    <tr style=\"text-align: right;\">\n      <th></th>\n      <th>VendorID</th>\n      <th>lpep_pickup_datetime</th>\n      <th>lpep_dropoff_datetime</th>\n      <th>store_and_fwd_flag</th>\n      <th>RatecodeID</th>\n      <th>PULocationID</th>\n      <th>DOLocationID</th>\n      <th>passenger_count</th>\n      <th>trip_distance</th>\n      <th>fare_amount</th>\n      <th>extra</th>\n      <th>mta_tax</th>\n      <th>tip_amount</th>\n      <th>tolls_amount</th>\n      <th>ehail_fee</th>\n      <th>improvement_surcharge</th>\n      <th>total_amount</th>\n      <th>payment_type</th>\n      <th>trip_type</th>\n      <th>congestion_surcharge</th>\n    </tr>\n  </thead>\n  <tbody>\n    <tr>\n      <th>0</th>\n      <td>2</td>\n      <td>2022-01-01 00:14:21</td>\n      <td>2022-01-01 00:15:33</td>\n      <td>N</td>\n      <td>1.0</td>\n      <td>42</td>\n      <td>42</td>\n      <td>1.0</td>\n      <td>0.44</td>\n      <td>3.5</td>\n      <td>0.50</td>\n      <td>0.5</td>\n      <td>0.00</td>\n      <td>0.0</td>\n      <td>None</td>\n      <td>0.3</td>\n      <td>4.80</td>\n      <td>2.0</td>\n      <td>1.0</td>\n      <td>0.00</td>\n    </tr>\n    <tr>\n      <th>1</th>\n      <td>1</td>\n      <td>2022-01-01 00:20:55</td>\n      <td>2022-01-01 00:29:38</td>\n      <td>N</td>\n      <td>1.0</td>\n      <td>116</td>\n      <td>41</td>\n      <td>1.0</td>\n      <td>2.10</td>\n      <td>9.5</td>\n      <td>0.50</td>\n      <td>0.5</td>\n      <td>0.00</td>\n      <td>0.0</td>\n      <td>None</td>\n      <td>0.3</td>\n      <td>10.80</td>\n      <td>2.0</td>\n      <td>1.0</td>\n      <td>0.00</td>\n    </tr>\n    <tr>\n      <th>2</th>\n      <td>1</td>\n      <td>2022-01-01 00:57:02</td>\n      <td>2022-01-01 01:13:14</td>\n      <td>N</td>\n      <td>1.0</td>\n      <td>41</td>\n      <td>140</td>\n      <td>1.0</td>\n      <td>3.70</td>\n      <td>14.5</td>\n      <td>3.25</td>\n      <td>0.5</td>\n      <td>4.60</td>\n      <td>0.0</td>\n      <td>None</td>\n      <td>0.3</td>\n      <td>23.15</td>\n      <td>1.0</td>\n      <td>1.0</td>\n      <td>2.75</td>\n    </tr>\n    <tr>\n      <th>3</th>\n      <td>2</td>\n      <td>2022-01-01 00:07:42</td>\n      <td>2022-01-01 00:15:57</td>\n      <td>N</td>\n      <td>1.0</td>\n      <td>181</td>\n      <td>181</td>\n      <td>1.0</td>\n      <td>1.69</td>\n      <td>8.0</td>\n      <td>0.50</td>\n      <td>0.5</td>\n      <td>0.00</td>\n      <td>0.0</td>\n      <td>None</td>\n      <td>0.3</td>\n      <td>9.30</td>\n      <td>2.0</td>\n      <td>1.0</td>\n      <td>0.00</td>\n    </tr>\n    <tr>\n      <th>4</th>\n      <td>2</td>\n      <td>2022-01-01 00:07:50</td>\n      <td>2022-01-01 00:28:52</td>\n      <td>N</td>\n      <td>1.0</td>\n      <td>33</td>\n      <td>170</td>\n      <td>1.0</td>\n      <td>6.26</td>\n      <td>22.0</td>\n      <td>0.50</td>\n      <td>0.5</td>\n      <td>5.21</td>\n      <td>0.0</td>\n      <td>None</td>\n      <td>0.3</td>\n      <td>31.26</td>\n      <td>1.0</td>\n      <td>1.0</td>\n      <td>2.75</td>\n    </tr>\n  </tbody>\n</table>\n</div>"
     },
     "execution_count": 8,
     "metadata": {},
     "output_type": "execute_result"
    }
   ],
   "source": [
    "df_green.head(5)"
   ]
  },
  {
   "cell_type": "code",
   "execution_count": 9,
   "metadata": {
    "ExecuteTime": {
     "end_time": "2023-06-19T19:22:09.221813Z",
     "start_time": "2023-06-19T19:22:06.922020Z"
    }
   },
   "outputs": [
    {
     "data": {
      "text/plain": "<Figure size 700x700 with 1 Axes>",
      "image/png": "[encoded data removed]"
     },
     "metadata": {},
     "output_type": "display_data"
    }
   ],
   "source": [
    "from src.utils import create_scatterplot\n",
    "\n",
    "create_scatterplot(\n",
    "    df_yellow.sample(50), \n",
    "    x_col = 'trip_distance', \n",
    "    y_col = 'fare_amount', \n",
    "    title = 'trip_distance vs fare_amount', \n",
    "    xlabel = 'trip_distance',\n",
    "    ylabel = 'fare_amount',\n",
    ")"
   ]
  },
  {
   "cell_type": "markdown",
   "metadata": {},
   "source": [
    "### Task 2: Exploratory Data Analysis\n",
    "Conduct exploratory data analysis to understand the patterns and relationships in the data. This includes analyzing the distribution of trip distances, fares, and passenger counts, as well as the relationship between these variables."
   ]
  },
  {
   "cell_type": "code",
   "execution_count": 27,
   "metadata": {
    "ExecuteTime": {
     "end_time": "2023-06-13T19:01:19.382893Z",
     "start_time": "2023-06-13T19:01:19.304798Z"
    }
   },
   "outputs": [],
   "source": [
    "# Write your code"
   ]
  },
  {
   "cell_type": "markdown",
   "metadata": {},
   "source": [
    "### Task 3: Spatial Analysis\n",
    "Use Kepler.gl (https://kepler.gl/) or similar tools/packages to visualize the spatial patterns of taxi rides. This includes the pickup and dropoff locations, as well as the routes taken. Analyze the spatial patterns to identify hotspots of taxi demand.\n",
    "\n",
    "You can find a good tutorial on https://docs.kepler.gl/docs/keplergl-jupyter#install for how to use it in jupyter notebook with python.\n",
    "\n",
    "**Hint** In order to visualize the pickup/dropoff location geographically, you might need to know the latitude (lat) and longitude (lng) for each location. You can find the corresponding information in the dataframe \"df_zones\"."
   ]
  },
  {
   "cell_type": "code",
   "execution_count": 10,
   "metadata": {
    "ExecuteTime": {
     "end_time": "2023-06-19T19:22:12.989506Z",
     "start_time": "2023-06-19T19:22:12.818266Z"
    }
   },
   "outputs": [
    {
     "data": {
      "text/plain": "   Shape_Leng  Shape_Area                     zone  LocationID        borough  \\\n0    0.116357    0.000782           Newark Airport           1            EWR   \n1    0.433470    0.004866              Jamaica Bay           2         Queens   \n2    0.084341    0.000314  Allerton/Pelham Gardens           3          Bronx   \n3    0.043567    0.000112            Alphabet City           4      Manhattan   \n4    0.092146    0.000498            Arden Heights           5  Staten Island   \n\n         lat        lng  \n0  40.689516 -74.176786  \n1  40.625724 -73.826126  \n2  40.865888 -73.849479  \n3  40.724152 -73.977023  \n4  40.550340 -74.189930  ",
      "text/html": "<div>\n<style scoped>\n    .dataframe tbody tr th:only-of-type {\n        vertical-align: middle;\n    }\n\n    .dataframe tbody tr th {\n        vertical-align: top;\n    }\n\n    .dataframe thead th {\n        text-align: right;\n    }\n</style>\n<table border=\"1\" class=\"dataframe\">\n  <thead>\n    <tr style=\"text-align: right;\">\n      <th></th>\n      <th>Shape_Leng</th>\n      <th>Shape_Area</th>\n      <th>zone</th>\n      <th>LocationID</th>\n      <th>borough</th>\n      <th>lat</th>\n      <th>lng</th>\n    </tr>\n  </thead>\n  <tbody>\n    <tr>\n      <th>0</th>\n      <td>0.116357</td>\n      <td>0.000782</td>\n      <td>Newark Airport</td>\n      <td>1</td>\n      <td>EWR</td>\n      <td>40.689516</td>\n      <td>-74.176786</td>\n    </tr>\n    <tr>\n      <th>1</th>\n      <td>0.433470</td>\n      <td>0.004866</td>\n      <td>Jamaica Bay</td>\n      <td>2</td>\n      <td>Queens</td>\n      <td>40.625724</td>\n      <td>-73.826126</td>\n    </tr>\n    <tr>\n      <th>2</th>\n      <td>0.084341</td>\n      <td>0.000314</td>\n      <td>Allerton/Pelham Gardens</td>\n      <td>3</td>\n      <td>Bronx</td>\n      <td>40.865888</td>\n      <td>-73.849479</td>\n    </tr>\n    <tr>\n      <th>3</th>\n      <td>0.043567</td>\n      <td>0.000112</td>\n      <td>Alphabet City</td>\n      <td>4</td>\n      <td>Manhattan</td>\n      <td>40.724152</td>\n      <td>-73.977023</td>\n    </tr>\n    <tr>\n      <th>4</th>\n      <td>0.092146</td>\n      <td>0.000498</td>\n      <td>Arden Heights</td>\n      <td>5</td>\n      <td>Staten Island</td>\n      <td>40.550340</td>\n      <td>-74.189930</td>\n    </tr>\n  </tbody>\n</table>\n</div>"
     },
     "execution_count": 10,
     "metadata": {},
     "output_type": "execute_result"
    }
   ],
   "source": [
    "df_zones.head(5)"
   ]
  },
  {
   "cell_type": "markdown",
   "source": [
    "First, we merge the Yellow taxi dataset (`df_yellow`) with another dataset called `df_zones` based on pickup and drop-off location IDs. This merging operation combines information from both datasets, specifically the latitude and longitude coordinates of the pickup and drop-off locations. We perform a similar merging operation for the Green taxi dataset, using the `df_green` dataset and `df_zones`.\n",
    "\n",
    "Next, we convert the datetime columns in the Yellow taxi dataset (`tpep_dropoff_datetime` and `tpep_pickup_datetime`) into datetime objects. This conversion enables easier manipulation and analysis of the temporal data. Similarly, we convert the datetime columns in the Green taxi dataset (`lpep_dropoff_datetime` and `lpep_pickup_datetime`) into datetime objects.\n",
    "\n",
    "To facilitate further analysis or testing, we sample 100,000 rows from both the Yellow taxi dataset and the Green taxi dataset. These random samples allow us to work with smaller subsets of the data, which can be more manageable and efficient for analysis.\n",
    "\n",
    "Finally, we print the resulting sample dataframes for the Yellow and Green taxis. This allows us to visually inspect the randomly selected 100,000 rows from each dataset and gain an overview of the sampled data.\n",
    "\n",
    "In summary, the code performs data merging, datetime conversion, and data sampling to prepare subsets of the Yellow and Green taxi datasets for further analysis or exploration."
   ],
   "metadata": {
    "collapsed": false
   }
  },
  {
   "cell_type": "code",
   "execution_count": 16,
   "metadata": {
    "ExecuteTime": {
     "end_time": "2023-06-19T19:52:34.988090Z",
     "start_time": "2023-06-19T19:51:50.775158Z"
    }
   },
   "outputs": [
    {
     "name": "stdout",
     "output_type": "stream",
     "text": [
      "Yellow_taxi_sample saved as yellow_taxi_sample.csv\n",
      "Green_taxi_sample saved as green_taxi_sample.csv\n"
     ]
    }
   ],
   "source": [
    "# Merging data for Yellow taxis\n",
    "Yellow_taxi_kepler = df_yellow.merge(df_zones[['LocationID', 'lat', 'lng']], left_on='DOLocationID', right_on='LocationID')\n",
    "Yellow_taxi_kepler = Yellow_taxi_kepler.merge(df_zones[['LocationID', 'lat', 'lng']], left_on='PULocationID', right_on='LocationID', suffixes=('_DO', '_PU'))\n",
    "\n",
    "# Convert the DO and PU datetime columns to datetime objects\n",
    "Yellow_taxi_kepler['tpep_dropoff_datetime'] = pd.to_datetime(Yellow_taxi_kepler['tpep_dropoff_datetime'])\n",
    "Yellow_taxi_kepler['tpep_pickup_datetime'] = pd.to_datetime(Yellow_taxi_kepler['tpep_pickup_datetime'])\n",
    "\n",
    "# Create a combined timestamp column for DO and PU times\n",
    "Yellow_taxi_kepler['timestamp'] = Yellow_taxi_kepler['tpep_dropoff_datetime'].astype(str) + ' - ' + Yellow_taxi_kepler['tpep_pickup_datetime'].astype(str)\n",
    "\n",
    "# Merging data for Green taxis\n",
    "Green_taxi_kepler = df_green.merge(df_zones[['LocationID', 'lat', 'lng']], left_on='DOLocationID', right_on='LocationID')\n",
    "Green_taxi_kepler = Green_taxi_kepler.merge(df_zones[['LocationID', 'lat', 'lng']], left_on='PULocationID', right_on='LocationID', suffixes=('_DO', '_PU'))\n",
    "\n",
    "# Convert the DO and PU datetime columns to datetime objects\n",
    "Green_taxi_kepler['tpep_dropoff_datetime'] = pd.to_datetime(Green_taxi_kepler['lpep_dropoff_datetime'])\n",
    "Green_taxi_kepler['tpep_pickup_datetime'] = pd.to_datetime(Green_taxi_kepler['lpep_pickup_datetime'])\n",
    "\n",
    "# Create a combined timestamp column for DO and PU times\n",
    "Green_taxi_kepler['timestamp'] = Green_taxi_kepler['tpep_dropoff_datetime'].astype(str) + ' - ' + Green_taxi_kepler['tpep_pickup_datetime'].astype(str)\n",
    "\n",
    "# Sampling 100,000 rows from the Yellow_taxi_kepler dataframe\n",
    "Yellow_taxi_sample = Yellow_taxi_kepler.sample(n=100000)\n",
    "\n",
    "# Sampling 100,000 rows from the Green_taxi_kepler dataframe\n",
    "Green_taxi_sample = Green_taxi_kepler.sample(n=100000)\n",
    "\n",
    "# Printing the resulting sample dataframes\n",
    "print(\"Yellow Taxi Sample Data (100,000 rows):\")\n",
    "print(Yellow_taxi_sample)\n",
    "\n",
    "print(\"\\nGreen Taxi Sample Data (100,000 rows):\")\n",
    "print(Green_taxi_sample)\n"
   ]
  },
  {
   "cell_type": "markdown",
   "source": [
    "First, the code imports the necessary libraries, including pandas for working with dataframes and KeplerGl for interactive map visualizations.\n",
    "\n",
    "Next, it loads two CSV files, namely 'yellow_taxi_sample.csv' and 'green_taxi_sample.csv', into pandas dataframes named `yellow_taxi_sample` and `green_taxi_sample`, respectively.\n",
    "\n",
    "Then, it initializes a KeplerGl map object called `map_1` with a height of 600 pixels.\n",
    "\n",
    "The code adds the `yellow_taxi_sample` dataframe as a new layer to the KeplerGl map using the `add_data` method. This layer is named 'Yellow Taxi'.\n",
    "\n",
    "Similarly, it adds the `green_taxi_sample` dataframe as another layer to the KeplerGl map, also using the `add_data` method. This layer is named 'Green Taxi'.\n",
    "\n",
    "Finally, the code displays the KeplerGl map, showing the added layers. This interactive visualization allows users to explore and analyze the yellow and green taxi data spatially.\n",
    "\n",
    "To summarize, the code loads CSV files into pandas dataframes, initializes a KeplerGl map, adds the yellow and green taxi data as separate layers to the map, and displays the resulting visualization. The KeplerGl map provides an interactive way to visually explore and analyze the taxi data in a spatial context."
   ],
   "metadata": {
    "collapsed": false
   }
  },
  {
   "cell_type": "code",
   "execution_count": null,
   "outputs": [],
   "source": [
    "import pandas as pd\n",
    "from keplergl import KeplerGl\n",
    "\n",
    "# Load the CSV files into pandas dataframes\n",
    "yellow_taxi_sample = pd.read_csv('yellow_taxi_sample.csv')\n",
    "green_taxi_sample = pd.read_csv('green_taxi_sample.csv')\n",
    "\n",
    "# Initialize KeplerGl with a map visualization\n",
    "map_1 = KeplerGl(height=600)\n",
    "\n",
    "# Add the yellow taxi data as a new layer\n",
    "map_1.add_data(data=yellow_taxi_sample, name='Yellow Taxi')\n",
    "\n",
    "# Add the green taxi data as a new layer\n",
    "map_1.add_data(data=green_taxi_sample, name='Green Taxi')\n",
    "\n",
    "# Display the map\n",
    "map_1"
   ],
   "metadata": {
    "collapsed": false
   }
  },
  {
   "cell_type": "markdown",
   "source": [
    "Kepler.gl has been used to create the spatial maps. Since the map couldn't be initialized with the overlays we had created saved, we built them on keplers website instead. The maps were saved as CSV files, added to Kepler's website, and from there we developed a link that will open in your default browser load the 2 datasets, and our created overlays.\n",
    "\n",
    "Upon starting the map, you will see the 2 datasets, and 8 overlays. 4 for each dataset, where 2 of them are just pointers for PickUp and DropOff, while the other 2 are cluster overlays for density of pickups and dropoffs.\n",
    "\n",
    "The link is provided below:"
   ],
   "metadata": {
    "collapsed": false
   }
  },
  {
   "cell_type": "code",
   "execution_count": 18,
   "metadata": {
    "ExecuteTime": {
     "end_time": "2023-06-19T20:38:52.004849Z",
     "start_time": "2023-06-19T20:38:50.939265Z"
    }
   },
   "outputs": [],
   "source": [
    "import webbrowser\n",
    "\n",
    "def open_url(url):\n",
    "    webbrowser.open(url)\n",
    "\n",
    "open_url(\"https://kepler.gl/demo/map?mapUrl=https://dl.dropboxusercontent.com/s/ghf3gn2fjca6gk2/keplergl_to1ydbd.json\")\n"
   ]
  },
  {
   "cell_type": "markdown",
   "metadata": {},
   "source": [
    "'### Task 4: Temporal Analysis\n",
    "Analyze the temporal patterns of taxi rides. This includes the number of rides by time of day, day of the week, and month of the year. Also, analyze the relationship between temporal patterns and other variables, such as trip distance and fare.\n",
    "\n",
    "You can find very good code examples to use on this page https://www.machinelearningplus.com/time-series/time-series-analysis-python/?utm_content=cmp-true"
   ]
  },
  {
   "cell_type": "code",
   "execution_count": null,
   "metadata": {},
   "outputs": [],
   "source": [
    "# Write your code"
   ]
  },
  {
   "cell_type": "markdown",
   "metadata": {},
   "source": [
    "### Task 5: Time-Series Forecasting\n",
    "Use Prophet or a similar tool to forecast the number of taxi rides in the future, respectively for green and yellow taxis. This includes creating a time-series model, tuning its parameters, and validating its performance. Also, interpret the model's predictions and identify the factors driving the forecasted trends.\n",
    "\n",
    "A good example for using Prophet to do time-series forecasting can be found here https://www.kaggle.com/code/prashant111/tutorial-time-series-forecasting-with-prophet\n",
    "\n",
    "**Hint**: In order to evaluate how your model performs, you need to split the dataset to be train and test. For time-series data, we cannot randomly select the data record (i.e. the rows) to be in train or test. Namely, all training data must be before the earliest test data. In other words, the model is always trained on historical data and then used to forecast the future."
   ]
  },
  {
   "cell_type": "code",
   "execution_count": 7,
   "metadata": {},
   "outputs": [],
   "source": [
    "# Write your code"
   ]
  },
  {
   "cell_type": "markdown",
   "metadata": {},
   "source": [
    "### Task 6: Report and Presentation\n",
    "- Make this project as part of your presentation, **using beamer in LaTeX**. \n",
    "- This includes summarizing your methodology, presenting your results, and discussing your conclusions. Also, identify the limitations of your analysis and suggest areas for future research."
   ]
  },
  {
   "cell_type": "markdown",
   "metadata": {},
   "source": []
  },
  {
   "cell_type": "code",
   "execution_count": 37,
   "metadata": {
    "ExecuteTime": {
     "end_time": "2023-06-09T08:56:48.962989Z",
     "start_time": "2023-06-09T08:56:48.539118Z"
    }
   },
   "outputs": [
    {
     "name": "stdout",
     "output_type": "stream",
     "text": [
      "         VendorID tpep_pickup_datetime tpep_dropoff_datetime  passenger_count  \\\n",
      "9303            2  2022-01-02 07:43:22   2022-01-02 08:00:10              1.0   \n",
      "12818           1  2022-01-02 07:55:38   2022-01-02 08:01:49              2.0   \n",
      "17129           2  2022-01-02 07:49:14   2022-01-02 07:51:30              1.0   \n",
      "17130           2  2022-01-02 07:50:07   2022-01-02 07:51:50              1.0   \n",
      "44423           2  2022-01-02 07:14:31   2022-01-02 07:26:45              1.0   \n",
      "...           ...                  ...                   ...              ...   \n",
      "5342463         2  2022-01-02 07:42:31   2022-01-02 07:42:55              2.0   \n",
      "5344898         1  2022-01-02 07:48:38   2022-01-02 08:36:18              1.0   \n",
      "5346324         1  2022-01-02 07:27:56   2022-01-02 07:37:36              1.0   \n",
      "5350064         2  2022-01-02 07:28:52   2022-01-02 07:29:11              2.0   \n",
      "5350065         2  2022-01-02 07:02:37   2022-01-02 07:02:41              1.0   \n",
      "\n",
      "         trip_distance  RatecodeID store_and_fwd_flag  PULocationID  \\\n",
      "9303              4.23         1.0                  N           142   \n",
      "12818             2.00         1.0                  N           142   \n",
      "17129             0.63         1.0                  N           142   \n",
      "17130             0.28         1.0                  N           142   \n",
      "44423             2.13         1.0                  N           142   \n",
      "...                ...         ...                ...           ...   \n",
      "5342463           1.53         5.0                  N           134   \n",
      "5344898           0.60        99.0                  N            91   \n",
      "5346324           1.70        99.0                  N           133   \n",
      "5350064           0.00         3.0                  N             1   \n",
      "5350065           0.00         5.0                  N             1   \n",
      "\n",
      "         DOLocationID  payment_type  ...  total_amount  congestion_surcharge  \\\n",
      "9303               42             1  ...         21.98                   2.5   \n",
      "12818              68             1  ...         13.55                   2.5   \n",
      "17129             163             1  ...          9.49                   2.5   \n",
      "17130             163             2  ...          6.80                   2.5   \n",
      "44423             140             1  ...         13.80                   2.5   \n",
      "...               ...           ...  ...           ...                   ...   \n",
      "5342463           134             1  ...         83.80                   0.0   \n",
      "5344898            72             1  ...         62.75                   0.0   \n",
      "5346324           178             1  ...         19.00                   0.0   \n",
      "5350064             1             2  ...         20.30                   0.0   \n",
      "5350065             1             1  ...        149.16                   0.0   \n",
      "\n",
      "         airport_fee  LocationID_DO     lat_DO     lng_DO  LocationID_PU  \\\n",
      "9303             0.0             42  40.821046 -73.939516            142   \n",
      "12818            0.0             68  40.748397 -73.999940            142   \n",
      "17129            0.0            163  40.764425 -73.978367            142   \n",
      "17130            0.0            163  40.764425 -73.978367            142   \n",
      "44423            0.0            140  40.765507 -73.954568            142   \n",
      "...              ...            ...        ...        ...            ...   \n",
      "5342463          0.0            134  40.708750 -73.829993            134   \n",
      "5344898          0.0             72  40.652461 -73.920210             91   \n",
      "5346324          0.0            178  40.617633 -73.970689            133   \n",
      "5350064          0.0              1  40.689516 -74.176786              1   \n",
      "5350065          0.0              1  40.689516 -74.176786              1   \n",
      "\n",
      "            lat_PU     lng_PU                                  timestamp  \n",
      "9303     40.773906 -73.981352  2022-01-02 08:00:10 - 2022-01-02 07:43:22  \n",
      "12818    40.773906 -73.981352  2022-01-02 08:01:49 - 2022-01-02 07:55:38  \n",
      "17129    40.773906 -73.981352  2022-01-02 07:51:30 - 2022-01-02 07:49:14  \n",
      "17130    40.773906 -73.981352  2022-01-02 07:51:50 - 2022-01-02 07:50:07  \n",
      "44423    40.773906 -73.981352  2022-01-02 07:26:45 - 2022-01-02 07:14:31  \n",
      "...            ...        ...                                        ...  \n",
      "5342463  40.708750 -73.829993  2022-01-02 07:42:55 - 2022-01-02 07:42:31  \n",
      "5344898  40.627390 -73.932544  2022-01-02 08:36:18 - 2022-01-02 07:48:38  \n",
      "5346324  40.639387 -73.974336  2022-01-02 07:37:36 - 2022-01-02 07:27:56  \n",
      "5350064  40.689516 -74.176786  2022-01-02 07:29:11 - 2022-01-02 07:28:52  \n",
      "5350065  40.689516 -74.176786  2022-01-02 07:02:41 - 2022-01-02 07:02:37  \n",
      "\n",
      "[875 rows x 26 columns]\n"
     ]
    }
   ],
   "source": [
    "import pandas as pd\n",
    "\n",
    "# Convert the tpep_pickup_datetime column to datetime objects\n",
    "Yellow_taxi_kepler['tpep_pickup_datetime'] = pd.to_datetime(Yellow_taxi_kepler['tpep_pickup_datetime'])\n",
    "\n",
    "# Filter for the specific time range and date\n",
    "start_time = pd.to_datetime('2022-01-02 07:00:00')\n",
    "end_time = pd.to_datetime('2022-01-02 08:00:00')\n",
    "timeline_df = Yellow_taxi_kepler[\n",
    "    (Yellow_taxi_kepler['tpep_pickup_datetime'] >= start_time) &\n",
    "    (Yellow_taxi_kepler['tpep_pickup_datetime'] < end_time)\n",
    "    ]\n",
    "\n",
    "# Print the filtered dataframe\n",
    "print(timeline_df)\n",
    "\n",
    "timeline_df.to_csv('timestamp_map.csv', index=False)"
   ]
  }
 ],
 "metadata": {
  "kernelspec": {
   "display_name": "Python 3 (ipykernel)",
   "language": "python",
   "name": "python3"
  },
  "language_info": {
   "codemirror_mode": {
    "name": "ipython",
    "version": 3
   },
   "file_extension": ".py",
   "mimetype": "text/x-python",
   "name": "python",
   "nbconvert_exporter": "python",
   "pygments_lexer": "ipython3",
   "version": "3.10.9"
  }
 },
 "nbformat": 4,
 "nbformat_minor": 2
}
