{
 "cells": [
  {
   "attachments": {},
   "cell_type": "markdown",
   "metadata": {},
   "source": [
    "# Introduction"
   ]
  },
  {
   "attachments": {},
   "cell_type": "markdown",
   "metadata": {},
   "source": [
    "Hopefully, this short tutorial can show you a lot of different commands that will help you gain the most insights into your dataset. "
   ]
  },
  {
   "cell_type": "code",
   "execution_count": 2,
   "metadata": {
    "collapsed": true,
    "ExecuteTime": {
     "end_time": "2023-06-06T18:01:13.960761Z",
     "start_time": "2023-06-06T18:01:13.876091Z"
    }
   },
   "outputs": [],
   "source": [
    "import pandas as pd\n",
    "from src.utils import load_data_from_google_drive"
   ]
  },
  {
   "attachments": {},
   "cell_type": "markdown",
   "metadata": {},
   "source": [
    "# Loading in Data"
   ]
  },
  {
   "attachments": {},
   "cell_type": "markdown",
   "metadata": {},
   "source": [
    "The first step in any ML problem is identifying what format your data is in, and then loading it into whatever framework you're using. For Kaggle compeitions, a lot of data can be found in CSV files, so that's the example we're going to use. "
   ]
  },
  {
   "attachments": {},
   "cell_type": "markdown",
   "metadata": {},
   "source": [
    "We're going to be looking at a sports dataset that shows the results from NCAA basketball games from 1985 to 2016. This dataset is in a CSV file, and the function we're going to use to read in the file is called **pd.read_csv()**. This function returns a **dataframe** variable. The dataframe is the golden jewel data structure for Pandas. It is defined as \"a two-dimensional size-mutable, potentially heterogeneous tabular data structure with labeled axes (rows and columns)\"."
   ]
  },
  {
   "attachments": {},
   "cell_type": "markdown",
   "metadata": {},
   "source": [
    "Just think of it as a table for now. "
   ]
  },
  {
   "cell_type": "code",
   "execution_count": 3,
   "metadata": {
    "collapsed": false,
    "ExecuteTime": {
     "end_time": "2023-06-06T18:01:22.012452Z",
     "start_time": "2023-06-06T18:01:17.566498Z"
    }
   },
   "outputs": [],
   "source": [
    "df = load_data_from_google_drive(url='https://drive.google.com/file/d/184JcLbSpArA_uq0DgAv2k892KChJVPHt/view?usp=share_link')"
   ]
  },
  {
   "cell_type": "code",
   "execution_count": 4,
   "metadata": {
    "ExecuteTime": {
     "end_time": "2023-06-06T18:01:23.751224Z",
     "start_time": "2023-06-06T18:01:23.647706Z"
    }
   },
   "outputs": [
    {
     "data": {
      "text/plain": "        Season  Daynum  Wteam  Wscore  Lteam  Lscore Wloc  Numot\n0         1985      20   1228      81   1328      64    N      0\n1         1985      25   1106      77   1354      70    H      0\n2         1985      25   1112      63   1223      56    H      0\n3         1985      25   1165      70   1432      54    H      0\n4         1985      25   1192      86   1447      74    H      0\n...        ...     ...    ...     ...    ...     ...  ...    ...\n145284    2016     132   1114      70   1419      50    N      0\n145285    2016     132   1163      72   1272      58    N      0\n145286    2016     132   1246      82   1401      77    N      1\n145287    2016     132   1277      66   1345      62    N      0\n145288    2016     132   1386      87   1433      74    N      0\n\n[145289 rows x 8 columns]",
      "text/html": "<div>\n<style scoped>\n    .dataframe tbody tr th:only-of-type {\n        vertical-align: middle;\n    }\n\n    .dataframe tbody tr th {\n        vertical-align: top;\n    }\n\n    .dataframe thead th {\n        text-align: right;\n    }\n</style>\n<table border=\"1\" class=\"dataframe\">\n  <thead>\n    <tr style=\"text-align: right;\">\n      <th></th>\n      <th>Season</th>\n      <th>Daynum</th>\n      <th>Wteam</th>\n      <th>Wscore</th>\n      <th>Lteam</th>\n      <th>Lscore</th>\n      <th>Wloc</th>\n      <th>Numot</th>\n    </tr>\n  </thead>\n  <tbody>\n    <tr>\n      <th>0</th>\n      <td>1985</td>\n      <td>20</td>\n      <td>1228</td>\n      <td>81</td>\n      <td>1328</td>\n      <td>64</td>\n      <td>N</td>\n      <td>0</td>\n    </tr>\n    <tr>\n      <th>1</th>\n      <td>1985</td>\n      <td>25</td>\n      <td>1106</td>\n      <td>77</td>\n      <td>1354</td>\n      <td>70</td>\n      <td>H</td>\n      <td>0</td>\n    </tr>\n    <tr>\n      <th>2</th>\n      <td>1985</td>\n      <td>25</td>\n      <td>1112</td>\n      <td>63</td>\n      <td>1223</td>\n      <td>56</td>\n      <td>H</td>\n      <td>0</td>\n    </tr>\n    <tr>\n      <th>3</th>\n      <td>1985</td>\n      <td>25</td>\n      <td>1165</td>\n      <td>70</td>\n      <td>1432</td>\n      <td>54</td>\n      <td>H</td>\n      <td>0</td>\n    </tr>\n    <tr>\n      <th>4</th>\n      <td>1985</td>\n      <td>25</td>\n      <td>1192</td>\n      <td>86</td>\n      <td>1447</td>\n      <td>74</td>\n      <td>H</td>\n      <td>0</td>\n    </tr>\n    <tr>\n      <th>...</th>\n      <td>...</td>\n      <td>...</td>\n      <td>...</td>\n      <td>...</td>\n      <td>...</td>\n      <td>...</td>\n      <td>...</td>\n      <td>...</td>\n    </tr>\n    <tr>\n      <th>145284</th>\n      <td>2016</td>\n      <td>132</td>\n      <td>1114</td>\n      <td>70</td>\n      <td>1419</td>\n      <td>50</td>\n      <td>N</td>\n      <td>0</td>\n    </tr>\n    <tr>\n      <th>145285</th>\n      <td>2016</td>\n      <td>132</td>\n      <td>1163</td>\n      <td>72</td>\n      <td>1272</td>\n      <td>58</td>\n      <td>N</td>\n      <td>0</td>\n    </tr>\n    <tr>\n      <th>145286</th>\n      <td>2016</td>\n      <td>132</td>\n      <td>1246</td>\n      <td>82</td>\n      <td>1401</td>\n      <td>77</td>\n      <td>N</td>\n      <td>1</td>\n    </tr>\n    <tr>\n      <th>145287</th>\n      <td>2016</td>\n      <td>132</td>\n      <td>1277</td>\n      <td>66</td>\n      <td>1345</td>\n      <td>62</td>\n      <td>N</td>\n      <td>0</td>\n    </tr>\n    <tr>\n      <th>145288</th>\n      <td>2016</td>\n      <td>132</td>\n      <td>1386</td>\n      <td>87</td>\n      <td>1433</td>\n      <td>74</td>\n      <td>N</td>\n      <td>0</td>\n    </tr>\n  </tbody>\n</table>\n<p>145289 rows × 8 columns</p>\n</div>"
     },
     "execution_count": 4,
     "metadata": {},
     "output_type": "execute_result"
    }
   ],
   "source": [
    "df"
   ]
  },
  {
   "attachments": {},
   "cell_type": "markdown",
   "metadata": {},
   "source": [
    "# The Basics"
   ]
  },
  {
   "attachments": {},
   "cell_type": "markdown",
   "metadata": {},
   "source": [
    "Now that we have our dataframe in our variable df, let's look at what it contains. We can use the function **head()** to see the first couple rows of the dataframe (or the function **tail()** to see the last few rows)."
   ]
  },
  {
   "cell_type": "code",
   "execution_count": 5,
   "metadata": {
    "collapsed": false,
    "ExecuteTime": {
     "end_time": "2023-06-06T18:01:25.991964Z",
     "start_time": "2023-06-06T18:01:25.952326Z"
    }
   },
   "outputs": [
    {
     "data": {
      "text/plain": "   Season  Daynum  Wteam  Wscore  Lteam  Lscore Wloc  Numot\n0    1985      20   1228      81   1328      64    N      0\n1    1985      25   1106      77   1354      70    H      0\n2    1985      25   1112      63   1223      56    H      0\n3    1985      25   1165      70   1432      54    H      0\n4    1985      25   1192      86   1447      74    H      0",
      "text/html": "<div>\n<style scoped>\n    .dataframe tbody tr th:only-of-type {\n        vertical-align: middle;\n    }\n\n    .dataframe tbody tr th {\n        vertical-align: top;\n    }\n\n    .dataframe thead th {\n        text-align: right;\n    }\n</style>\n<table border=\"1\" class=\"dataframe\">\n  <thead>\n    <tr style=\"text-align: right;\">\n      <th></th>\n      <th>Season</th>\n      <th>Daynum</th>\n      <th>Wteam</th>\n      <th>Wscore</th>\n      <th>Lteam</th>\n      <th>Lscore</th>\n      <th>Wloc</th>\n      <th>Numot</th>\n    </tr>\n  </thead>\n  <tbody>\n    <tr>\n      <th>0</th>\n      <td>1985</td>\n      <td>20</td>\n      <td>1228</td>\n      <td>81</td>\n      <td>1328</td>\n      <td>64</td>\n      <td>N</td>\n      <td>0</td>\n    </tr>\n    <tr>\n      <th>1</th>\n      <td>1985</td>\n      <td>25</td>\n      <td>1106</td>\n      <td>77</td>\n      <td>1354</td>\n      <td>70</td>\n      <td>H</td>\n      <td>0</td>\n    </tr>\n    <tr>\n      <th>2</th>\n      <td>1985</td>\n      <td>25</td>\n      <td>1112</td>\n      <td>63</td>\n      <td>1223</td>\n      <td>56</td>\n      <td>H</td>\n      <td>0</td>\n    </tr>\n    <tr>\n      <th>3</th>\n      <td>1985</td>\n      <td>25</td>\n      <td>1165</td>\n      <td>70</td>\n      <td>1432</td>\n      <td>54</td>\n      <td>H</td>\n      <td>0</td>\n    </tr>\n    <tr>\n      <th>4</th>\n      <td>1985</td>\n      <td>25</td>\n      <td>1192</td>\n      <td>86</td>\n      <td>1447</td>\n      <td>74</td>\n      <td>H</td>\n      <td>0</td>\n    </tr>\n  </tbody>\n</table>\n</div>"
     },
     "execution_count": 5,
     "metadata": {},
     "output_type": "execute_result"
    }
   ],
   "source": [
    "df.head()"
   ]
  },
  {
   "cell_type": "code",
   "execution_count": 6,
   "metadata": {
    "collapsed": false,
    "ExecuteTime": {
     "end_time": "2023-06-06T18:01:26.487875Z",
     "start_time": "2023-06-06T18:01:26.420713Z"
    }
   },
   "outputs": [
    {
     "data": {
      "text/plain": "        Season  Daynum  Wteam  Wscore  Lteam  Lscore Wloc  Numot\n145284    2016     132   1114      70   1419      50    N      0\n145285    2016     132   1163      72   1272      58    N      0\n145286    2016     132   1246      82   1401      77    N      1\n145287    2016     132   1277      66   1345      62    N      0\n145288    2016     132   1386      87   1433      74    N      0",
      "text/html": "<div>\n<style scoped>\n    .dataframe tbody tr th:only-of-type {\n        vertical-align: middle;\n    }\n\n    .dataframe tbody tr th {\n        vertical-align: top;\n    }\n\n    .dataframe thead th {\n        text-align: right;\n    }\n</style>\n<table border=\"1\" class=\"dataframe\">\n  <thead>\n    <tr style=\"text-align: right;\">\n      <th></th>\n      <th>Season</th>\n      <th>Daynum</th>\n      <th>Wteam</th>\n      <th>Wscore</th>\n      <th>Lteam</th>\n      <th>Lscore</th>\n      <th>Wloc</th>\n      <th>Numot</th>\n    </tr>\n  </thead>\n  <tbody>\n    <tr>\n      <th>145284</th>\n      <td>2016</td>\n      <td>132</td>\n      <td>1114</td>\n      <td>70</td>\n      <td>1419</td>\n      <td>50</td>\n      <td>N</td>\n      <td>0</td>\n    </tr>\n    <tr>\n      <th>145285</th>\n      <td>2016</td>\n      <td>132</td>\n      <td>1163</td>\n      <td>72</td>\n      <td>1272</td>\n      <td>58</td>\n      <td>N</td>\n      <td>0</td>\n    </tr>\n    <tr>\n      <th>145286</th>\n      <td>2016</td>\n      <td>132</td>\n      <td>1246</td>\n      <td>82</td>\n      <td>1401</td>\n      <td>77</td>\n      <td>N</td>\n      <td>1</td>\n    </tr>\n    <tr>\n      <th>145287</th>\n      <td>2016</td>\n      <td>132</td>\n      <td>1277</td>\n      <td>66</td>\n      <td>1345</td>\n      <td>62</td>\n      <td>N</td>\n      <td>0</td>\n    </tr>\n    <tr>\n      <th>145288</th>\n      <td>2016</td>\n      <td>132</td>\n      <td>1386</td>\n      <td>87</td>\n      <td>1433</td>\n      <td>74</td>\n      <td>N</td>\n      <td>0</td>\n    </tr>\n  </tbody>\n</table>\n</div>"
     },
     "execution_count": 6,
     "metadata": {},
     "output_type": "execute_result"
    }
   ],
   "source": [
    "df.tail()"
   ]
  },
  {
   "attachments": {},
   "cell_type": "markdown",
   "metadata": {},
   "source": [
    "We can see the dimensions of the dataframe using the the **shape** attribute"
   ]
  },
  {
   "cell_type": "code",
   "execution_count": 7,
   "metadata": {
    "collapsed": false,
    "ExecuteTime": {
     "end_time": "2023-06-06T18:01:27.974589Z",
     "start_time": "2023-06-06T18:01:27.905934Z"
    }
   },
   "outputs": [
    {
     "data": {
      "text/plain": "(145289, 8)"
     },
     "execution_count": 7,
     "metadata": {},
     "output_type": "execute_result"
    }
   ],
   "source": [
    "df.shape"
   ]
  },
  {
   "attachments": {},
   "cell_type": "markdown",
   "metadata": {
    "collapsed": true
   },
   "source": [
    "We can also extract all the column names as a list, by using the **columns** attribute and can extract the rows with the **index** attribute"
   ]
  },
  {
   "cell_type": "code",
   "execution_count": 8,
   "metadata": {
    "collapsed": false,
    "ExecuteTime": {
     "end_time": "2023-06-06T18:01:29.452258Z",
     "start_time": "2023-06-06T18:01:29.318076Z"
    }
   },
   "outputs": [
    {
     "data": {
      "text/plain": "['Season', 'Daynum', 'Wteam', 'Wscore', 'Lteam', 'Lscore', 'Wloc', 'Numot']"
     },
     "execution_count": 8,
     "metadata": {},
     "output_type": "execute_result"
    }
   ],
   "source": [
    "df.columns.tolist()"
   ]
  },
  {
   "attachments": {},
   "cell_type": "markdown",
   "metadata": {},
   "source": [
    "In order to get a better idea of the type of data that we are dealing with, we can call the **describe()** function to see statistics like mean, min, etc about each column of the dataset. "
   ]
  },
  {
   "cell_type": "code",
   "execution_count": 9,
   "metadata": {
    "collapsed": false,
    "ExecuteTime": {
     "end_time": "2023-06-06T18:01:30.761881Z",
     "start_time": "2023-06-06T18:01:30.646213Z"
    }
   },
   "outputs": [
    {
     "data": {
      "text/plain": "              Season         Daynum          Wteam         Wscore  \\\ncount  145289.000000  145289.000000  145289.000000  145289.000000   \nmean     2001.574834      75.223816    1286.720646      76.600321   \nstd         9.233342      33.287418     104.570275      12.173033   \nmin      1985.000000       0.000000    1101.000000      34.000000   \n25%      1994.000000      47.000000    1198.000000      68.000000   \n50%      2002.000000      78.000000    1284.000000      76.000000   \n75%      2010.000000     103.000000    1379.000000      84.000000   \nmax      2016.000000     132.000000    1464.000000     186.000000   \n\n               Lteam         Lscore          Numot  \ncount  145289.000000  145289.000000  145289.000000  \nmean     1282.864064      64.497009       0.044387  \nstd       104.829234      11.380625       0.247819  \nmin      1101.000000      20.000000       0.000000  \n25%      1191.000000      57.000000       0.000000  \n50%      1280.000000      64.000000       0.000000  \n75%      1375.000000      72.000000       0.000000  \nmax      1464.000000     150.000000       6.000000  ",
      "text/html": "<div>\n<style scoped>\n    .dataframe tbody tr th:only-of-type {\n        vertical-align: middle;\n    }\n\n    .dataframe tbody tr th {\n        vertical-align: top;\n    }\n\n    .dataframe thead th {\n        text-align: right;\n    }\n</style>\n<table border=\"1\" class=\"dataframe\">\n  <thead>\n    <tr style=\"text-align: right;\">\n      <th></th>\n      <th>Season</th>\n      <th>Daynum</th>\n      <th>Wteam</th>\n      <th>Wscore</th>\n      <th>Lteam</th>\n      <th>Lscore</th>\n      <th>Numot</th>\n    </tr>\n  </thead>\n  <tbody>\n    <tr>\n      <th>count</th>\n      <td>145289.000000</td>\n      <td>145289.000000</td>\n      <td>145289.000000</td>\n      <td>145289.000000</td>\n      <td>145289.000000</td>\n      <td>145289.000000</td>\n      <td>145289.000000</td>\n    </tr>\n    <tr>\n      <th>mean</th>\n      <td>2001.574834</td>\n      <td>75.223816</td>\n      <td>1286.720646</td>\n      <td>76.600321</td>\n      <td>1282.864064</td>\n      <td>64.497009</td>\n      <td>0.044387</td>\n    </tr>\n    <tr>\n      <th>std</th>\n      <td>9.233342</td>\n      <td>33.287418</td>\n      <td>104.570275</td>\n      <td>12.173033</td>\n      <td>104.829234</td>\n      <td>11.380625</td>\n      <td>0.247819</td>\n    </tr>\n    <tr>\n      <th>min</th>\n      <td>1985.000000</td>\n      <td>0.000000</td>\n      <td>1101.000000</td>\n      <td>34.000000</td>\n      <td>1101.000000</td>\n      <td>20.000000</td>\n      <td>0.000000</td>\n    </tr>\n    <tr>\n      <th>25%</th>\n      <td>1994.000000</td>\n      <td>47.000000</td>\n      <td>1198.000000</td>\n      <td>68.000000</td>\n      <td>1191.000000</td>\n      <td>57.000000</td>\n      <td>0.000000</td>\n    </tr>\n    <tr>\n      <th>50%</th>\n      <td>2002.000000</td>\n      <td>78.000000</td>\n      <td>1284.000000</td>\n      <td>76.000000</td>\n      <td>1280.000000</td>\n      <td>64.000000</td>\n      <td>0.000000</td>\n    </tr>\n    <tr>\n      <th>75%</th>\n      <td>2010.000000</td>\n      <td>103.000000</td>\n      <td>1379.000000</td>\n      <td>84.000000</td>\n      <td>1375.000000</td>\n      <td>72.000000</td>\n      <td>0.000000</td>\n    </tr>\n    <tr>\n      <th>max</th>\n      <td>2016.000000</td>\n      <td>132.000000</td>\n      <td>1464.000000</td>\n      <td>186.000000</td>\n      <td>1464.000000</td>\n      <td>150.000000</td>\n      <td>6.000000</td>\n    </tr>\n  </tbody>\n</table>\n</div>"
     },
     "execution_count": 9,
     "metadata": {},
     "output_type": "execute_result"
    }
   ],
   "source": [
    "df.describe()"
   ]
  },
  {
   "attachments": {},
   "cell_type": "markdown",
   "metadata": {},
   "source": [
    "Okay, so now let's looking at information that we want to extract from the dataframe. Let's say I wanted to know the max value of a certain column. The function **max()** will show you the maximum values of all columns"
   ]
  },
  {
   "cell_type": "code",
   "execution_count": 10,
   "metadata": {
    "collapsed": false,
    "ExecuteTime": {
     "end_time": "2023-06-06T18:01:32.602486Z",
     "start_time": "2023-06-06T18:01:32.486954Z"
    }
   },
   "outputs": [
    {
     "data": {
      "text/plain": "Season    2016\nDaynum     132\nWteam     1464\nWscore     186\nLteam     1464\nLscore     150\nWloc         N\nNumot        6\ndtype: object"
     },
     "execution_count": 10,
     "metadata": {},
     "output_type": "execute_result"
    }
   ],
   "source": [
    "df.max()"
   ]
  },
  {
   "attachments": {},
   "cell_type": "markdown",
   "metadata": {},
   "source": [
    "Then, if you'd like to specifically get the max value for a particular column, you pass in the name of the column using the bracket indexing operator"
   ]
  },
  {
   "cell_type": "code",
   "execution_count": 11,
   "metadata": {
    "collapsed": false,
    "ExecuteTime": {
     "end_time": "2023-06-06T18:01:34.249877Z",
     "start_time": "2023-06-06T18:01:34.192409Z"
    }
   },
   "outputs": [
    {
     "data": {
      "text/plain": "186"
     },
     "execution_count": 11,
     "metadata": {},
     "output_type": "execute_result"
    }
   ],
   "source": [
    "df['Wscore'].max()"
   ]
  },
  {
   "attachments": {},
   "cell_type": "markdown",
   "metadata": {},
   "source": [
    "If you'd like to find the mean of the Losing teams' score. "
   ]
  },
  {
   "cell_type": "code",
   "execution_count": 12,
   "metadata": {
    "collapsed": false,
    "ExecuteTime": {
     "end_time": "2023-06-06T18:01:35.756695Z",
     "start_time": "2023-06-06T18:01:35.695471Z"
    }
   },
   "outputs": [
    {
     "data": {
      "text/plain": "64.49700940883343"
     },
     "execution_count": 12,
     "metadata": {},
     "output_type": "execute_result"
    }
   ],
   "source": [
    "df['Lscore'].mean()"
   ]
  },
  {
   "attachments": {},
   "cell_type": "markdown",
   "metadata": {},
   "source": [
    "But what if that's not enough? Let's say we want to actually see the game(row) where this max score happened. We can call the **argmax()** function to identify the row index"
   ]
  },
  {
   "cell_type": "code",
   "execution_count": 13,
   "metadata": {
    "collapsed": false,
    "ExecuteTime": {
     "end_time": "2023-06-06T18:01:37.028969Z",
     "start_time": "2023-06-06T18:01:36.943777Z"
    }
   },
   "outputs": [
    {
     "data": {
      "text/plain": "24970"
     },
     "execution_count": 13,
     "metadata": {},
     "output_type": "execute_result"
    }
   ],
   "source": [
    "df['Wscore'].argmax()"
   ]
  },
  {
   "attachments": {},
   "cell_type": "markdown",
   "metadata": {},
   "source": [
    "One of the most useful functions that you can call on certain columns in a dataframe is the **value_counts()** function. It shows how many times each item appears in the column. This particular command shows the number of games in each season"
   ]
  },
  {
   "cell_type": "code",
   "execution_count": 14,
   "metadata": {
    "collapsed": false,
    "ExecuteTime": {
     "end_time": "2023-06-06T18:01:38.321440Z",
     "start_time": "2023-06-06T18:01:38.265926Z"
    }
   },
   "outputs": [
    {
     "data": {
      "text/plain": "2016    5369\n2014    5362\n2015    5354\n2013    5320\n2010    5263\n2012    5253\n2009    5249\n2011    5246\n2008    5163\n2007    5043\n2006    4757\n2005    4675\n2003    4616\n2004    4571\n2002    4555\n2000    4519\n2001    4467\n1999    4222\n1998    4167\n1997    4155\n1992    4127\n1991    4123\n1996    4122\n1995    4077\n1994    4060\n1990    4045\n1989    4037\n1993    3982\n1988    3955\n1987    3915\n1986    3783\n1985    3737\nName: Season, dtype: int64"
     },
     "execution_count": 14,
     "metadata": {},
     "output_type": "execute_result"
    }
   ],
   "source": [
    "df['Season'].value_counts()"
   ]
  },
  {
   "attachments": {},
   "cell_type": "markdown",
   "metadata": {},
   "source": [
    "**Q**: How many unique seasons are there in the dataset? Use the nunique() function."
   ]
  },
  {
   "cell_type": "code",
   "execution_count": 15,
   "metadata": {
    "ExecuteTime": {
     "end_time": "2023-06-06T18:01:40.581643Z",
     "start_time": "2023-06-06T18:01:40.516900Z"
    }
   },
   "outputs": [
    {
     "data": {
      "text/plain": "32"
     },
     "execution_count": 15,
     "metadata": {},
     "output_type": "execute_result"
    }
   ],
   "source": [
    "df['Season'].nunique()"
   ]
  },
  {
   "attachments": {},
   "cell_type": "markdown",
   "metadata": {},
   "source": [
    "**Q**: Find the team with the most wins. Use the value_counts() function on the Wteam column."
   ]
  },
  {
   "cell_type": "code",
   "execution_count": 16,
   "metadata": {
    "ExecuteTime": {
     "end_time": "2023-06-06T18:01:41.895251Z",
     "start_time": "2023-06-06T18:01:41.840730Z"
    }
   },
   "outputs": [
    {
     "data": {
      "text/plain": "1181    819\n1242    804\n1246    765\n1314    761\n1112    746\n       ... \n1101     18\n1446     14\n1118      6\n1289      6\n1327      3\nName: Wteam, Length: 364, dtype: int64"
     },
     "execution_count": 16,
     "metadata": {},
     "output_type": "execute_result"
    }
   ],
   "source": [
    "df['Wteam'].value_counts()"
   ]
  },
  {
   "attachments": {},
   "cell_type": "markdown",
   "metadata": {},
   "source": [
    "# Acessing Values   "
   ]
  },
  {
   "attachments": {},
   "cell_type": "markdown",
   "metadata": {},
   "source": [
    "Then, in order to get attributes about the game, we need to use the **iloc[]** function. Iloc is definitely one of the more important functions. The main idea is that you want to use it whenever you have the integer index of a certain row that you want to access. As per Pandas documentation, iloc is an \"integer-location based indexing for selection by position.\""
   ]
  },
  {
   "cell_type": "code",
   "execution_count": 17,
   "metadata": {
    "collapsed": false,
    "ExecuteTime": {
     "end_time": "2023-06-06T18:01:44.110998Z",
     "start_time": "2023-06-06T18:01:44.056187Z"
    }
   },
   "outputs": [
    {
     "data": {
      "text/plain": "       Season  Daynum  Wteam  Wscore  Lteam  Lscore Wloc  Numot\n24970    1991      68   1258     186   1109     140    H      0",
      "text/html": "<div>\n<style scoped>\n    .dataframe tbody tr th:only-of-type {\n        vertical-align: middle;\n    }\n\n    .dataframe tbody tr th {\n        vertical-align: top;\n    }\n\n    .dataframe thead th {\n        text-align: right;\n    }\n</style>\n<table border=\"1\" class=\"dataframe\">\n  <thead>\n    <tr style=\"text-align: right;\">\n      <th></th>\n      <th>Season</th>\n      <th>Daynum</th>\n      <th>Wteam</th>\n      <th>Wscore</th>\n      <th>Lteam</th>\n      <th>Lscore</th>\n      <th>Wloc</th>\n      <th>Numot</th>\n    </tr>\n  </thead>\n  <tbody>\n    <tr>\n      <th>24970</th>\n      <td>1991</td>\n      <td>68</td>\n      <td>1258</td>\n      <td>186</td>\n      <td>1109</td>\n      <td>140</td>\n      <td>H</td>\n      <td>0</td>\n    </tr>\n  </tbody>\n</table>\n</div>"
     },
     "execution_count": 17,
     "metadata": {},
     "output_type": "execute_result"
    }
   ],
   "source": [
    "df.iloc[[df['Wscore'].argmax()]]"
   ]
  },
  {
   "attachments": {},
   "cell_type": "markdown",
   "metadata": {},
   "source": [
    "Let's take this a step further. Let's say you want to know the game with the highest scoring winning team (this is what we just calculated), but you then want to know how many points the losing team scored. "
   ]
  },
  {
   "cell_type": "code",
   "execution_count": 18,
   "metadata": {
    "collapsed": false,
    "ExecuteTime": {
     "end_time": "2023-06-06T18:01:46.056771Z",
     "start_time": "2023-06-06T18:01:45.992639Z"
    }
   },
   "outputs": [
    {
     "data": {
      "text/plain": "24970    140\nName: Lscore, dtype: int64"
     },
     "execution_count": 18,
     "metadata": {},
     "output_type": "execute_result"
    }
   ],
   "source": [
    "df.iloc[[df['Wscore'].argmax()]]['Lscore']"
   ]
  },
  {
   "attachments": {},
   "cell_type": "markdown",
   "metadata": {},
   "source": [
    "When you see data displayed in the above format, you're dealing with a Pandas **Series** object, not a dataframe object."
   ]
  },
  {
   "cell_type": "code",
   "execution_count": 19,
   "metadata": {
    "collapsed": false,
    "ExecuteTime": {
     "end_time": "2023-06-06T18:01:47.922296Z",
     "start_time": "2023-06-06T18:01:47.895768Z"
    }
   },
   "outputs": [
    {
     "data": {
      "text/plain": "pandas.core.series.Series"
     },
     "execution_count": 19,
     "metadata": {},
     "output_type": "execute_result"
    }
   ],
   "source": [
    "type(df.iloc[[df['Wscore'].argmax()]]['Lscore'])"
   ]
  },
  {
   "cell_type": "code",
   "execution_count": 20,
   "metadata": {
    "collapsed": false,
    "ExecuteTime": {
     "end_time": "2023-06-06T18:01:48.890090Z",
     "start_time": "2023-06-06T18:01:48.855432Z"
    }
   },
   "outputs": [
    {
     "data": {
      "text/plain": "pandas.core.frame.DataFrame"
     },
     "execution_count": 20,
     "metadata": {},
     "output_type": "execute_result"
    }
   ],
   "source": [
    "type(df.iloc[[df['Wscore'].argmax()]])"
   ]
  },
  {
   "attachments": {},
   "cell_type": "markdown",
   "metadata": {},
   "source": [
    "The following is a summary of the 3 data structures in Pandas (Haven't ever really used Panels yet)\n",
    "\n",
    "![](DataStructures.png)"
   ]
  },
  {
   "attachments": {},
   "cell_type": "markdown",
   "metadata": {},
   "source": [
    "When you want to access values in a Series, you'll want to just treat the Series like a Python dictionary, so you'd access the value according to its key (which is normally an integer index)"
   ]
  },
  {
   "cell_type": "code",
   "execution_count": 21,
   "metadata": {
    "collapsed": false,
    "ExecuteTime": {
     "end_time": "2023-06-06T18:01:52.852007Z",
     "start_time": "2023-06-06T18:01:52.798435Z"
    }
   },
   "outputs": [
    {
     "data": {
      "text/plain": "140"
     },
     "execution_count": 21,
     "metadata": {},
     "output_type": "execute_result"
    }
   ],
   "source": [
    "df.iloc[[df['Wscore'].argmax()]]['Lscore'][24970]"
   ]
  },
  {
   "attachments": {},
   "cell_type": "markdown",
   "metadata": {},
   "source": [
    "The other really important function in Pandas is the **loc** function. Contrary to iloc, which is an integer based indexing, loc is a \"Purely label-location based indexer for selection by label\". Since all the games are ordered from 0 to 145288, iloc and loc are going to be pretty interchangable in this type of dataset"
   ]
  },
  {
   "cell_type": "code",
   "execution_count": 22,
   "metadata": {
    "collapsed": false,
    "ExecuteTime": {
     "end_time": "2023-06-06T18:01:54.334255Z",
     "start_time": "2023-06-06T18:01:54.309873Z"
    }
   },
   "outputs": [
    {
     "data": {
      "text/plain": "   Season  Daynum  Wteam  Wscore  Lteam  Lscore Wloc  Numot\n0    1985      20   1228      81   1328      64    N      0\n1    1985      25   1106      77   1354      70    H      0\n2    1985      25   1112      63   1223      56    H      0",
      "text/html": "<div>\n<style scoped>\n    .dataframe tbody tr th:only-of-type {\n        vertical-align: middle;\n    }\n\n    .dataframe tbody tr th {\n        vertical-align: top;\n    }\n\n    .dataframe thead th {\n        text-align: right;\n    }\n</style>\n<table border=\"1\" class=\"dataframe\">\n  <thead>\n    <tr style=\"text-align: right;\">\n      <th></th>\n      <th>Season</th>\n      <th>Daynum</th>\n      <th>Wteam</th>\n      <th>Wscore</th>\n      <th>Lteam</th>\n      <th>Lscore</th>\n      <th>Wloc</th>\n      <th>Numot</th>\n    </tr>\n  </thead>\n  <tbody>\n    <tr>\n      <th>0</th>\n      <td>1985</td>\n      <td>20</td>\n      <td>1228</td>\n      <td>81</td>\n      <td>1328</td>\n      <td>64</td>\n      <td>N</td>\n      <td>0</td>\n    </tr>\n    <tr>\n      <th>1</th>\n      <td>1985</td>\n      <td>25</td>\n      <td>1106</td>\n      <td>77</td>\n      <td>1354</td>\n      <td>70</td>\n      <td>H</td>\n      <td>0</td>\n    </tr>\n    <tr>\n      <th>2</th>\n      <td>1985</td>\n      <td>25</td>\n      <td>1112</td>\n      <td>63</td>\n      <td>1223</td>\n      <td>56</td>\n      <td>H</td>\n      <td>0</td>\n    </tr>\n  </tbody>\n</table>\n</div>"
     },
     "execution_count": 22,
     "metadata": {},
     "output_type": "execute_result"
    }
   ],
   "source": [
    "df.iloc[:3]"
   ]
  },
  {
   "cell_type": "code",
   "execution_count": 23,
   "metadata": {
    "collapsed": false,
    "ExecuteTime": {
     "end_time": "2023-06-06T18:01:55.227776Z",
     "start_time": "2023-06-06T18:01:55.174398Z"
    }
   },
   "outputs": [
    {
     "data": {
      "text/plain": "   Season  Daynum  Wteam  Wscore  Lteam  Lscore Wloc  Numot\n0    1985      20   1228      81   1328      64    N      0\n1    1985      25   1106      77   1354      70    H      0\n2    1985      25   1112      63   1223      56    H      0\n3    1985      25   1165      70   1432      54    H      0",
      "text/html": "<div>\n<style scoped>\n    .dataframe tbody tr th:only-of-type {\n        vertical-align: middle;\n    }\n\n    .dataframe tbody tr th {\n        vertical-align: top;\n    }\n\n    .dataframe thead th {\n        text-align: right;\n    }\n</style>\n<table border=\"1\" class=\"dataframe\">\n  <thead>\n    <tr style=\"text-align: right;\">\n      <th></th>\n      <th>Season</th>\n      <th>Daynum</th>\n      <th>Wteam</th>\n      <th>Wscore</th>\n      <th>Lteam</th>\n      <th>Lscore</th>\n      <th>Wloc</th>\n      <th>Numot</th>\n    </tr>\n  </thead>\n  <tbody>\n    <tr>\n      <th>0</th>\n      <td>1985</td>\n      <td>20</td>\n      <td>1228</td>\n      <td>81</td>\n      <td>1328</td>\n      <td>64</td>\n      <td>N</td>\n      <td>0</td>\n    </tr>\n    <tr>\n      <th>1</th>\n      <td>1985</td>\n      <td>25</td>\n      <td>1106</td>\n      <td>77</td>\n      <td>1354</td>\n      <td>70</td>\n      <td>H</td>\n      <td>0</td>\n    </tr>\n    <tr>\n      <th>2</th>\n      <td>1985</td>\n      <td>25</td>\n      <td>1112</td>\n      <td>63</td>\n      <td>1223</td>\n      <td>56</td>\n      <td>H</td>\n      <td>0</td>\n    </tr>\n    <tr>\n      <th>3</th>\n      <td>1985</td>\n      <td>25</td>\n      <td>1165</td>\n      <td>70</td>\n      <td>1432</td>\n      <td>54</td>\n      <td>H</td>\n      <td>0</td>\n    </tr>\n  </tbody>\n</table>\n</div>"
     },
     "execution_count": 23,
     "metadata": {},
     "output_type": "execute_result"
    }
   ],
   "source": [
    "df.loc[:3]"
   ]
  },
  {
   "attachments": {},
   "cell_type": "markdown",
   "metadata": {},
   "source": [
    "Notice the slight difference in that iloc is exclusive of the second number, while loc is inclusive. "
   ]
  },
  {
   "attachments": {},
   "cell_type": "markdown",
   "metadata": {},
   "source": [
    "Below is an example of how you can use loc to acheive the same task as we did previously with iloc"
   ]
  },
  {
   "cell_type": "code",
   "execution_count": 24,
   "metadata": {
    "collapsed": false,
    "ExecuteTime": {
     "end_time": "2023-06-06T18:01:57.324843Z",
     "start_time": "2023-06-06T18:01:57.264831Z"
    }
   },
   "outputs": [
    {
     "data": {
      "text/plain": "140"
     },
     "execution_count": 24,
     "metadata": {},
     "output_type": "execute_result"
    }
   ],
   "source": [
    "df.loc[df['Wscore'].argmax(), 'Lscore']"
   ]
  },
  {
   "attachments": {},
   "cell_type": "markdown",
   "metadata": {},
   "source": [
    "A faster version uses the **at()** function. At() is really useful wheneever you know the row label and the column label of the particular value that you want to get. "
   ]
  },
  {
   "cell_type": "code",
   "execution_count": 25,
   "metadata": {
    "collapsed": false,
    "ExecuteTime": {
     "end_time": "2023-06-06T18:01:58.653339Z",
     "start_time": "2023-06-06T18:01:58.592125Z"
    }
   },
   "outputs": [
    {
     "data": {
      "text/plain": "140"
     },
     "execution_count": 25,
     "metadata": {},
     "output_type": "execute_result"
    }
   ],
   "source": [
    "df.at[df['Wscore'].argmax(), 'Lscore']"
   ]
  },
  {
   "attachments": {},
   "cell_type": "markdown",
   "metadata": {},
   "source": [
    "If you'd like to see more discussion on how loc and iloc are different, check out this great Stack Overflow post: http://stackoverflow.com/questions/31593201/pandas-iloc-vs-ix-vs-loc-explanation. Just remember that **iloc looks at position** and **loc looks at labels**. Loc becomes very important when your row labels aren't integers. "
   ]
  },
  {
   "attachments": {},
   "cell_type": "markdown",
   "metadata": {},
   "source": [
    "# Sorting"
   ]
  },
  {
   "attachments": {},
   "cell_type": "markdown",
   "metadata": {},
   "source": [
    "Let's say that we want to sort the dataframe in increasing order for the scores of the losing team"
   ]
  },
  {
   "cell_type": "code",
   "execution_count": 26,
   "metadata": {
    "collapsed": false,
    "scrolled": true,
    "ExecuteTime": {
     "end_time": "2023-06-06T18:02:03.970404Z",
     "start_time": "2023-06-06T18:02:03.873792Z"
    }
   },
   "outputs": [
    {
     "data": {
      "text/plain": "        Season  Daynum  Wteam  Wscore  Lteam  Lscore Wloc  Numot\n100027    2008      66   1203      49   1387      20    H      0\n49310     1997      66   1157      61   1204      21    H      0\n89021     2006      44   1284      41   1343      21    A      0\n85042     2005      66   1131      73   1216      22    H      0\n103660    2009      26   1326      59   1359      22    H      0",
      "text/html": "<div>\n<style scoped>\n    .dataframe tbody tr th:only-of-type {\n        vertical-align: middle;\n    }\n\n    .dataframe tbody tr th {\n        vertical-align: top;\n    }\n\n    .dataframe thead th {\n        text-align: right;\n    }\n</style>\n<table border=\"1\" class=\"dataframe\">\n  <thead>\n    <tr style=\"text-align: right;\">\n      <th></th>\n      <th>Season</th>\n      <th>Daynum</th>\n      <th>Wteam</th>\n      <th>Wscore</th>\n      <th>Lteam</th>\n      <th>Lscore</th>\n      <th>Wloc</th>\n      <th>Numot</th>\n    </tr>\n  </thead>\n  <tbody>\n    <tr>\n      <th>100027</th>\n      <td>2008</td>\n      <td>66</td>\n      <td>1203</td>\n      <td>49</td>\n      <td>1387</td>\n      <td>20</td>\n      <td>H</td>\n      <td>0</td>\n    </tr>\n    <tr>\n      <th>49310</th>\n      <td>1997</td>\n      <td>66</td>\n      <td>1157</td>\n      <td>61</td>\n      <td>1204</td>\n      <td>21</td>\n      <td>H</td>\n      <td>0</td>\n    </tr>\n    <tr>\n      <th>89021</th>\n      <td>2006</td>\n      <td>44</td>\n      <td>1284</td>\n      <td>41</td>\n      <td>1343</td>\n      <td>21</td>\n      <td>A</td>\n      <td>0</td>\n    </tr>\n    <tr>\n      <th>85042</th>\n      <td>2005</td>\n      <td>66</td>\n      <td>1131</td>\n      <td>73</td>\n      <td>1216</td>\n      <td>22</td>\n      <td>H</td>\n      <td>0</td>\n    </tr>\n    <tr>\n      <th>103660</th>\n      <td>2009</td>\n      <td>26</td>\n      <td>1326</td>\n      <td>59</td>\n      <td>1359</td>\n      <td>22</td>\n      <td>H</td>\n      <td>0</td>\n    </tr>\n  </tbody>\n</table>\n</div>"
     },
     "execution_count": 26,
     "metadata": {},
     "output_type": "execute_result"
    }
   ],
   "source": [
    "df.sort_values('Lscore').head()"
   ]
  },
  {
   "attachments": {},
   "cell_type": "markdown",
   "metadata": {},
   "source": [
    "**Q**: Make three dataframes that are sorted by season, winning team, and winning score respectively. Then, Using iloc, select the rows from index 100 to 200 and the columns for season, winning team, and winning score, respectively. "
   ]
  },
  {
   "cell_type": "code",
   "execution_count": 27,
   "metadata": {
    "ExecuteTime": {
     "end_time": "2023-06-06T18:02:05.754471Z",
     "start_time": "2023-06-06T18:02:05.657610Z"
    }
   },
   "outputs": [],
   "source": [
    "\n",
    "sorted_by_season = df.sort_values('Season')\n",
    "\n",
    "sorted_by_winning_team = df.sort_values('Wteam')\n",
    "\n",
    "sorted_by_winning_score = df.sort_values('Wscore')\n",
    "\n",
    "selected_rows_columns = df.iloc[100:201, [0, 1, 2]]"
   ]
  },
  {
   "attachments": {},
   "cell_type": "markdown",
   "metadata": {},
   "source": [
    "**Q**: From these three subsets you obtained above, find the season and winning team for the game with the highest winning score."
   ]
  },
  {
   "cell_type": "code",
   "execution_count": 28,
   "metadata": {
    "ExecuteTime": {
     "end_time": "2023-06-06T18:02:08.290527Z",
     "start_time": "2023-06-06T18:02:08.231551Z"
    }
   },
   "outputs": [
    {
     "name": "stdout",
     "output_type": "stream",
     "text": [
      "Season:  1991\n",
      "Winning Team:  1258\n"
     ]
    }
   ],
   "source": [
    "highest_winning_score_game = sorted_by_winning_score.iloc[-1]  # Select last row\n",
    "season = highest_winning_score_game['Season']\n",
    "winning_team = highest_winning_score_game['Wteam']\n",
    "\n",
    "print('Season: ', season)\n",
    "print('Winning Team: ', winning_team)"
   ]
  },
  {
   "attachments": {},
   "cell_type": "markdown",
   "metadata": {},
   "source": [
    "# Filtering Rows Conditionally"
   ]
  },
  {
   "attachments": {},
   "cell_type": "markdown",
   "metadata": {},
   "source": [
    "Now, let's say we want to find all of the rows that satisy a particular condition. For example, I want to find all of the games where the winning team scored more than 150 points. The idea behind this command is you want to access the column 'Wscore' of the dataframe df (df['Wscore']), find which entries are above 150 (df['Wscore'] > 150), and then returns only those specific rows in a dataframe format (df[df['Wscore'] > 150])."
   ]
  },
  {
   "cell_type": "code",
   "execution_count": 29,
   "metadata": {
    "collapsed": false,
    "ExecuteTime": {
     "end_time": "2023-06-06T18:02:15.295959Z",
     "start_time": "2023-06-06T18:02:15.237486Z"
    }
   },
   "outputs": [
    {
     "data": {
      "text/plain": "       Season  Daynum  Wteam  Wscore  Lteam  Lscore Wloc  Numot\n5269     1986      75   1258     151   1109     107    H      0\n12046    1988      40   1328     152   1147      84    H      0\n12355    1988      52   1328     151   1173      99    N      0\n16040    1989      40   1328     152   1331     122    H      0\n16853    1989      68   1258     162   1109     144    A      0\n17867    1989      92   1258     181   1109     150    H      0\n19653    1990      30   1328     173   1109     101    H      0\n19971    1990      38   1258     152   1109     137    A      0\n20022    1990      40   1116     166   1109     101    H      0\n22145    1990      97   1258     157   1362     115    H      0\n23582    1991      26   1318     152   1258     123    N      0\n24341    1991      47   1328     172   1258     112    H      0\n24970    1991      68   1258     186   1109     140    H      0\n25656    1991      84   1106     151   1212      97    H      0\n28687    1992      54   1261     159   1319      86    H      0\n35023    1993     112   1380     155   1341      91    A      0\n40060    1995      32   1375     156   1341     114    H      0\n52600    1998      33   1395     153   1410      87    H      0",
      "text/html": "<div>\n<style scoped>\n    .dataframe tbody tr th:only-of-type {\n        vertical-align: middle;\n    }\n\n    .dataframe tbody tr th {\n        vertical-align: top;\n    }\n\n    .dataframe thead th {\n        text-align: right;\n    }\n</style>\n<table border=\"1\" class=\"dataframe\">\n  <thead>\n    <tr style=\"text-align: right;\">\n      <th></th>\n      <th>Season</th>\n      <th>Daynum</th>\n      <th>Wteam</th>\n      <th>Wscore</th>\n      <th>Lteam</th>\n      <th>Lscore</th>\n      <th>Wloc</th>\n      <th>Numot</th>\n    </tr>\n  </thead>\n  <tbody>\n    <tr>\n      <th>5269</th>\n      <td>1986</td>\n      <td>75</td>\n      <td>1258</td>\n      <td>151</td>\n      <td>1109</td>\n      <td>107</td>\n      <td>H</td>\n      <td>0</td>\n    </tr>\n    <tr>\n      <th>12046</th>\n      <td>1988</td>\n      <td>40</td>\n      <td>1328</td>\n      <td>152</td>\n      <td>1147</td>\n      <td>84</td>\n      <td>H</td>\n      <td>0</td>\n    </tr>\n    <tr>\n      <th>12355</th>\n      <td>1988</td>\n      <td>52</td>\n      <td>1328</td>\n      <td>151</td>\n      <td>1173</td>\n      <td>99</td>\n      <td>N</td>\n      <td>0</td>\n    </tr>\n    <tr>\n      <th>16040</th>\n      <td>1989</td>\n      <td>40</td>\n      <td>1328</td>\n      <td>152</td>\n      <td>1331</td>\n      <td>122</td>\n      <td>H</td>\n      <td>0</td>\n    </tr>\n    <tr>\n      <th>16853</th>\n      <td>1989</td>\n      <td>68</td>\n      <td>1258</td>\n      <td>162</td>\n      <td>1109</td>\n      <td>144</td>\n      <td>A</td>\n      <td>0</td>\n    </tr>\n    <tr>\n      <th>17867</th>\n      <td>1989</td>\n      <td>92</td>\n      <td>1258</td>\n      <td>181</td>\n      <td>1109</td>\n      <td>150</td>\n      <td>H</td>\n      <td>0</td>\n    </tr>\n    <tr>\n      <th>19653</th>\n      <td>1990</td>\n      <td>30</td>\n      <td>1328</td>\n      <td>173</td>\n      <td>1109</td>\n      <td>101</td>\n      <td>H</td>\n      <td>0</td>\n    </tr>\n    <tr>\n      <th>19971</th>\n      <td>1990</td>\n      <td>38</td>\n      <td>1258</td>\n      <td>152</td>\n      <td>1109</td>\n      <td>137</td>\n      <td>A</td>\n      <td>0</td>\n    </tr>\n    <tr>\n      <th>20022</th>\n      <td>1990</td>\n      <td>40</td>\n      <td>1116</td>\n      <td>166</td>\n      <td>1109</td>\n      <td>101</td>\n      <td>H</td>\n      <td>0</td>\n    </tr>\n    <tr>\n      <th>22145</th>\n      <td>1990</td>\n      <td>97</td>\n      <td>1258</td>\n      <td>157</td>\n      <td>1362</td>\n      <td>115</td>\n      <td>H</td>\n      <td>0</td>\n    </tr>\n    <tr>\n      <th>23582</th>\n      <td>1991</td>\n      <td>26</td>\n      <td>1318</td>\n      <td>152</td>\n      <td>1258</td>\n      <td>123</td>\n      <td>N</td>\n      <td>0</td>\n    </tr>\n    <tr>\n      <th>24341</th>\n      <td>1991</td>\n      <td>47</td>\n      <td>1328</td>\n      <td>172</td>\n      <td>1258</td>\n      <td>112</td>\n      <td>H</td>\n      <td>0</td>\n    </tr>\n    <tr>\n      <th>24970</th>\n      <td>1991</td>\n      <td>68</td>\n      <td>1258</td>\n      <td>186</td>\n      <td>1109</td>\n      <td>140</td>\n      <td>H</td>\n      <td>0</td>\n    </tr>\n    <tr>\n      <th>25656</th>\n      <td>1991</td>\n      <td>84</td>\n      <td>1106</td>\n      <td>151</td>\n      <td>1212</td>\n      <td>97</td>\n      <td>H</td>\n      <td>0</td>\n    </tr>\n    <tr>\n      <th>28687</th>\n      <td>1992</td>\n      <td>54</td>\n      <td>1261</td>\n      <td>159</td>\n      <td>1319</td>\n      <td>86</td>\n      <td>H</td>\n      <td>0</td>\n    </tr>\n    <tr>\n      <th>35023</th>\n      <td>1993</td>\n      <td>112</td>\n      <td>1380</td>\n      <td>155</td>\n      <td>1341</td>\n      <td>91</td>\n      <td>A</td>\n      <td>0</td>\n    </tr>\n    <tr>\n      <th>40060</th>\n      <td>1995</td>\n      <td>32</td>\n      <td>1375</td>\n      <td>156</td>\n      <td>1341</td>\n      <td>114</td>\n      <td>H</td>\n      <td>0</td>\n    </tr>\n    <tr>\n      <th>52600</th>\n      <td>1998</td>\n      <td>33</td>\n      <td>1395</td>\n      <td>153</td>\n      <td>1410</td>\n      <td>87</td>\n      <td>H</td>\n      <td>0</td>\n    </tr>\n  </tbody>\n</table>\n</div>"
     },
     "execution_count": 29,
     "metadata": {},
     "output_type": "execute_result"
    }
   ],
   "source": [
    "df[df['Wscore'] > 150]"
   ]
  },
  {
   "attachments": {},
   "cell_type": "markdown",
   "metadata": {},
   "source": [
    "This also works if you have multiple conditions. Let's say we want to find out when the winning team scores more than 150 points and when the losing team scores below 100. "
   ]
  },
  {
   "cell_type": "code",
   "execution_count": 30,
   "metadata": {
    "collapsed": false,
    "ExecuteTime": {
     "end_time": "2023-06-06T18:02:18.664164Z",
     "start_time": "2023-06-06T18:02:18.542397Z"
    }
   },
   "outputs": [
    {
     "data": {
      "text/plain": "       Season  Daynum  Wteam  Wscore  Lteam  Lscore Wloc  Numot\n12046    1988      40   1328     152   1147      84    H      0\n12355    1988      52   1328     151   1173      99    N      0\n25656    1991      84   1106     151   1212      97    H      0\n28687    1992      54   1261     159   1319      86    H      0\n35023    1993     112   1380     155   1341      91    A      0\n52600    1998      33   1395     153   1410      87    H      0",
      "text/html": "<div>\n<style scoped>\n    .dataframe tbody tr th:only-of-type {\n        vertical-align: middle;\n    }\n\n    .dataframe tbody tr th {\n        vertical-align: top;\n    }\n\n    .dataframe thead th {\n        text-align: right;\n    }\n</style>\n<table border=\"1\" class=\"dataframe\">\n  <thead>\n    <tr style=\"text-align: right;\">\n      <th></th>\n      <th>Season</th>\n      <th>Daynum</th>\n      <th>Wteam</th>\n      <th>Wscore</th>\n      <th>Lteam</th>\n      <th>Lscore</th>\n      <th>Wloc</th>\n      <th>Numot</th>\n    </tr>\n  </thead>\n  <tbody>\n    <tr>\n      <th>12046</th>\n      <td>1988</td>\n      <td>40</td>\n      <td>1328</td>\n      <td>152</td>\n      <td>1147</td>\n      <td>84</td>\n      <td>H</td>\n      <td>0</td>\n    </tr>\n    <tr>\n      <th>12355</th>\n      <td>1988</td>\n      <td>52</td>\n      <td>1328</td>\n      <td>151</td>\n      <td>1173</td>\n      <td>99</td>\n      <td>N</td>\n      <td>0</td>\n    </tr>\n    <tr>\n      <th>25656</th>\n      <td>1991</td>\n      <td>84</td>\n      <td>1106</td>\n      <td>151</td>\n      <td>1212</td>\n      <td>97</td>\n      <td>H</td>\n      <td>0</td>\n    </tr>\n    <tr>\n      <th>28687</th>\n      <td>1992</td>\n      <td>54</td>\n      <td>1261</td>\n      <td>159</td>\n      <td>1319</td>\n      <td>86</td>\n      <td>H</td>\n      <td>0</td>\n    </tr>\n    <tr>\n      <th>35023</th>\n      <td>1993</td>\n      <td>112</td>\n      <td>1380</td>\n      <td>155</td>\n      <td>1341</td>\n      <td>91</td>\n      <td>A</td>\n      <td>0</td>\n    </tr>\n    <tr>\n      <th>52600</th>\n      <td>1998</td>\n      <td>33</td>\n      <td>1395</td>\n      <td>153</td>\n      <td>1410</td>\n      <td>87</td>\n      <td>H</td>\n      <td>0</td>\n    </tr>\n  </tbody>\n</table>\n</div>"
     },
     "execution_count": 30,
     "metadata": {},
     "output_type": "execute_result"
    }
   ],
   "source": [
    "df[(df['Wscore'] > 150) & (df['Lscore'] < 100)]"
   ]
  },
  {
   "attachments": {},
   "cell_type": "markdown",
   "metadata": {},
   "source": [
    "**Q**: Create a new column in the DataFrame called 'ScoreDifference' which is the absolute difference between the winning score and the losing score. Filter the DataFrame to only include games where the 'ScoreDifference' is greater than the average 'ScoreDifference' for all games."
   ]
  },
  {
   "cell_type": "code",
   "execution_count": 31,
   "metadata": {
    "ExecuteTime": {
     "end_time": "2023-06-06T18:02:21.565483Z",
     "start_time": "2023-06-06T18:02:21.494861Z"
    }
   },
   "outputs": [],
   "source": [
    "# Step 1: Create the 'ScoreDifference' column\n",
    "df['ScoreDifference'] = abs(df['Wscore'] - df['Lscore'])\n",
    "\n",
    "# Step 2: Calculate the average 'ScoreDifference' for all games\n",
    "average_diff = df['ScoreDifference'].mean()\n",
    "\n",
    "# Step 3: Filter the DataFrame to include games with 'ScoreDifference' greater than the average\n",
    "filtered_df = df[df['ScoreDifference'] > average_diff]\n"
   ]
  },
  {
   "attachments": {},
   "cell_type": "markdown",
   "metadata": {},
   "source": [
    "**Q**: From this filtered DataFrame, find the season and teams involved in the game with the highest 'ScoreDifference'."
   ]
  },
  {
   "cell_type": "code",
   "execution_count": 32,
   "metadata": {
    "ExecuteTime": {
     "end_time": "2023-06-06T18:03:58.009175Z",
     "start_time": "2023-06-06T18:03:57.958520Z"
    }
   },
   "outputs": [
    {
     "name": "stdout",
     "output_type": "stream",
     "text": [
      "Season: 1996\n",
      "Teams involved: 1409 vs 1341\n"
     ]
    }
   ],
   "source": [
    "# Find the row with the highest 'ScoreDifference'\n",
    "max_diff_row = filtered_df[filtered_df['ScoreDifference'] == filtered_df['ScoreDifference'].max()]\n",
    "\n",
    "# Extract the season and teams from the row\n",
    "season = max_diff_row['Season'].values[0]   # Replace 'Season' with the actual column name in your DataFrame\n",
    "winning_team = max_diff_row['Wteam'].values[0]  # Replace 'Wteam' with the actual column name in your DataFrame\n",
    "losing_team = max_diff_row['Lteam'].values[0]   # Replace 'Lteam' with the actual column name in your DataFrame\n",
    "\n",
    "# Print the results\n",
    "print(\"Season:\", season)\n",
    "print(\"Teams involved:\", winning_team, \"vs\", losing_team)\n"
   ]
  },
  {
   "attachments": {},
   "cell_type": "markdown",
   "metadata": {},
   "source": [
    "# Grouping"
   ]
  },
  {
   "attachments": {},
   "cell_type": "markdown",
   "metadata": {},
   "source": [
    "Another important function in Pandas is **groupby()**. This is a function that allows you to group entries by certain attributes (e.g Grouping entries by Wteam number) and then perform operations on them. The following function groups all the entries (games) with the same Wteam number and finds the mean for each group. "
   ]
  },
  {
   "cell_type": "code",
   "execution_count": 33,
   "metadata": {
    "collapsed": false,
    "ExecuteTime": {
     "end_time": "2023-06-06T18:04:22.478111Z",
     "start_time": "2023-06-06T18:04:22.424168Z"
    }
   },
   "outputs": [
    {
     "data": {
      "text/plain": "Wteam\n1101    78.111111\n1102    69.893204\n1103    75.839768\n1104    75.825944\n1105    74.960894\nName: Wscore, dtype: float64"
     },
     "execution_count": 33,
     "metadata": {},
     "output_type": "execute_result"
    }
   ],
   "source": [
    "df.groupby('Wteam')['Wscore'].mean().head()"
   ]
  },
  {
   "attachments": {},
   "cell_type": "markdown",
   "metadata": {},
   "source": [
    "This next command groups all the games with the same Wteam number and finds where how many times that specific team won at home, on the road, or at a neutral site"
   ]
  },
  {
   "cell_type": "code",
   "execution_count": 34,
   "metadata": {
    "collapsed": false,
    "scrolled": false,
    "ExecuteTime": {
     "end_time": "2023-06-06T18:04:25.703539Z",
     "start_time": "2023-06-06T18:04:25.608820Z"
    }
   },
   "outputs": [
    {
     "data": {
      "text/plain": "Wteam  Wloc\n1101   H        12\n       A         3\n       N         3\n1102   H       204\n       A        73\n       N        32\n1103   H       324\n       A       153\n       N        41\nName: Wloc, dtype: int64"
     },
     "execution_count": 34,
     "metadata": {},
     "output_type": "execute_result"
    }
   ],
   "source": [
    "df.groupby('Wteam')['Wloc'].value_counts().head(9)"
   ]
  },
  {
   "attachments": {},
   "cell_type": "markdown",
   "metadata": {},
   "source": [
    "Each dataframe has a **values** attribute which is useful because it basically displays your dataframe in a numpy array style format"
   ]
  },
  {
   "cell_type": "code",
   "execution_count": 35,
   "metadata": {
    "collapsed": false,
    "ExecuteTime": {
     "end_time": "2023-06-06T18:04:30.995694Z",
     "start_time": "2023-06-06T18:04:30.902051Z"
    }
   },
   "outputs": [
    {
     "data": {
      "text/plain": "array([[1985, 20, 1228, ..., 'N', 0, 17],\n       [1985, 25, 1106, ..., 'H', 0, 7],\n       [1985, 25, 1112, ..., 'H', 0, 7],\n       ...,\n       [2016, 132, 1246, ..., 'N', 1, 5],\n       [2016, 132, 1277, ..., 'N', 0, 4],\n       [2016, 132, 1386, ..., 'N', 0, 13]], dtype=object)"
     },
     "execution_count": 35,
     "metadata": {},
     "output_type": "execute_result"
    }
   ],
   "source": [
    "df.values"
   ]
  },
  {
   "attachments": {},
   "cell_type": "markdown",
   "metadata": {},
   "source": [
    "Now, you can simply just access elements like you would in an array. "
   ]
  },
  {
   "cell_type": "code",
   "execution_count": 36,
   "metadata": {
    "collapsed": false,
    "ExecuteTime": {
     "end_time": "2023-06-06T18:04:51.321584Z",
     "start_time": "2023-06-06T18:04:51.221303Z"
    }
   },
   "outputs": [
    {
     "data": {
      "text/plain": "1985"
     },
     "execution_count": 36,
     "metadata": {},
     "output_type": "execute_result"
    }
   ],
   "source": [
    "df.values[0][0]"
   ]
  },
  {
   "attachments": {},
   "cell_type": "markdown",
   "metadata": {},
   "source": [
    "**Q**: Group the DataFrame by season and find the average winning score for each season."
   ]
  },
  {
   "cell_type": "code",
   "execution_count": 37,
   "metadata": {
    "ExecuteTime": {
     "end_time": "2023-06-06T18:05:54.789007Z",
     "start_time": "2023-06-06T18:05:54.739511Z"
    }
   },
   "outputs": [
    {
     "name": "stdout",
     "output_type": "stream",
     "text": [
      "Season\n",
      "1985    74.723040\n",
      "1986    74.813640\n",
      "1987    77.993870\n",
      "1988    79.773704\n",
      "1989    81.728511\n",
      "1990    80.846477\n",
      "1991    82.733932\n",
      "1992    79.992004\n",
      "1993    79.508790\n",
      "1994    81.160345\n",
      "1995    80.096149\n",
      "1996    78.205483\n",
      "1997    76.300842\n",
      "1998    77.229902\n",
      "1999    76.043581\n",
      "2000    76.310467\n",
      "2001    77.088650\n",
      "2002    76.963557\n",
      "2003    75.795061\n",
      "2004    74.971122\n",
      "2005    74.693690\n",
      "2006    74.587555\n",
      "2007    74.829467\n",
      "2008    74.962425\n",
      "2009    74.033721\n",
      "2010    74.652480\n",
      "2011    74.374190\n",
      "2012    73.379973\n",
      "2013    72.840789\n",
      "2014    76.101268\n",
      "2015    72.680799\n",
      "2016    78.295958\n",
      "Name: Wscore, dtype: float64\n"
     ]
    }
   ],
   "source": [
    "# Group the DataFrame by season and calculate the average winning score for each season\n",
    "average_winning_score = df.groupby('Season')['Wscore'].mean()\n",
    "\n",
    "# Print the average winning score for each season\n",
    "print(average_winning_score)\n"
   ]
  },
  {
   "attachments": {},
   "cell_type": "markdown",
   "metadata": {},
   "source": [
    "**Q**: Group the DataFrame by winning team and find the maximum winning score for each team across all seasons."
   ]
  },
  {
   "cell_type": "code",
   "execution_count": 38,
   "metadata": {
    "ExecuteTime": {
     "end_time": "2023-06-06T18:06:47.008847Z",
     "start_time": "2023-06-06T18:06:46.946313Z"
    }
   },
   "outputs": [
    {
     "name": "stdout",
     "output_type": "stream",
     "text": [
      "Wteam\n",
      "1101     95\n",
      "1102    111\n",
      "1103    109\n",
      "1104    114\n",
      "1105    114\n",
      "       ... \n",
      "1460    136\n",
      "1461    112\n",
      "1462    125\n",
      "1463    105\n",
      "1464    115\n",
      "Name: Wscore, Length: 364, dtype: int64\n"
     ]
    }
   ],
   "source": [
    "# Group the DataFrame by winning team and calculate the maximum winning score for each team\n",
    "max_winning_score = df.groupby('Wteam')['Wscore'].max()\n",
    "\n",
    "# Print the maximum winning score for each team\n",
    "print(max_winning_score)\n"
   ]
  },
  {
   "attachments": {},
   "cell_type": "markdown",
   "metadata": {},
   "source": [
    "**Q**: Group the DataFrame by both season and winning team. Find the team with the highest average winning score for each season."
   ]
  },
  {
   "cell_type": "code",
   "execution_count": 39,
   "metadata": {
    "ExecuteTime": {
     "end_time": "2023-06-06T18:08:12.097784Z",
     "start_time": "2023-06-06T18:08:11.995615Z"
    }
   },
   "outputs": [
    {
     "name": "stdout",
     "output_type": "stream",
     "text": [
      "Season\n",
      "1985    1328\n",
      "1986    1109\n",
      "1987    1380\n",
      "1988    1258\n",
      "1989    1258\n",
      "1990    1258\n",
      "1991    1380\n",
      "1992    1380\n",
      "1993    1380\n",
      "1994    1380\n",
      "1995    1206\n",
      "1996    1206\n",
      "1997    1254\n",
      "1998    1395\n",
      "1999    1317\n",
      "2000    1395\n",
      "2001    1395\n",
      "2002    1242\n",
      "2003    1395\n",
      "2004    1194\n",
      "2005    1311\n",
      "2006    1190\n",
      "2007    1440\n",
      "2008    1440\n",
      "2009    1377\n",
      "2010    1440\n",
      "2011    1449\n",
      "2012    1370\n",
      "2013    1377\n",
      "2014    1322\n",
      "2015    1322\n",
      "2016    1146\n",
      "Name: Wscore, dtype: int64\n"
     ]
    }
   ],
   "source": [
    "# Group the DataFrame by season and winning team, and calculate the average winning score for each combination\n",
    "average_winning_score = df.groupby(['Season', 'Wteam'])['Wscore'].mean()\n",
    "\n",
    "# Find the team with the highest average winning score for each season\n",
    "max_avg_winning_score = average_winning_score.groupby('Season').idxmax()\n",
    "\n",
    "# Get the team ID with the highest average winning score for each season\n",
    "teams_with_highest_avg_score = max_avg_winning_score.apply(lambda x: x[1])\n",
    "\n",
    "# Print the team with the highest average winning score for each season\n",
    "print(teams_with_highest_avg_score)\n"
   ]
  },
  {
   "attachments": {},
   "cell_type": "markdown",
   "metadata": {},
   "source": [
    "**Q**: Create a new DataFrame that counts the number of wins for each team in each season. This will involve grouping by both season and winning team, and then using the count() function."
   ]
  },
  {
   "cell_type": "code",
   "execution_count": 40,
   "metadata": {
    "ExecuteTime": {
     "end_time": "2023-06-06T18:10:45.100746Z",
     "start_time": "2023-06-06T18:10:45.006385Z"
    }
   },
   "outputs": [
    {
     "name": "stdout",
     "output_type": "stream",
     "text": [
      "       Season  Wteam  Daynum  Wins  Lteam  Lscore  Wloc  Numot  \\\n",
      "0        1985   1102       5     5      5       5     5      5   \n",
      "1        1985   1103       9     9      9       9     9      9   \n",
      "2        1985   1104      21    21     21      21    21     21   \n",
      "3        1985   1106      10    10     10      10    10     10   \n",
      "4        1985   1108      19    19     19      19    19     19   \n",
      "...       ...    ...     ...   ...    ...     ...   ...    ...   \n",
      "10167    2016   1460      20    20     20      20    20     20   \n",
      "10168    2016   1461      12    12     12      12    12     12   \n",
      "10169    2016   1462      27    27     27      27    27     27   \n",
      "10170    2016   1463      21    21     21      21    21     21   \n",
      "10171    2016   1464       9     9      9       9     9      9   \n",
      "\n",
      "       ScoreDifference  \n",
      "0                    5  \n",
      "1                    9  \n",
      "2                   21  \n",
      "3                   10  \n",
      "4                   19  \n",
      "...                ...  \n",
      "10167               20  \n",
      "10168               12  \n",
      "10169               27  \n",
      "10170               21  \n",
      "10171                9  \n",
      "\n",
      "[10172 rows x 9 columns]\n"
     ]
    }
   ],
   "source": [
    "# Group the DataFrame by season and winning team, and count the number of wins for each combination\n",
    "wins_count = df.groupby(['Season', 'Wteam']).count()\n",
    "\n",
    "# Reset the index of the resulting DataFrame to make the grouped columns regular columns\n",
    "wins_count = wins_count.reset_index()\n",
    "\n",
    "# Rename the count column to 'Wins'\n",
    "wins_count = wins_count.rename(columns={'Wscore': 'Wins'})\n",
    "\n",
    "# Print the new DataFrame with the count of wins for each team in each season\n",
    "print(wins_count)"
   ]
  },
  {
   "attachments": {},
   "cell_type": "markdown",
   "metadata": {},
   "source": [
    "**Q**: For each season, find the team with the most wins. This will involve creating a DataFrame similar to the one in task 5, and then using the idxmax() function for each season."
   ]
  },
  {
   "cell_type": "code",
   "execution_count": 41,
   "metadata": {
    "ExecuteTime": {
     "end_time": "2023-06-06T18:12:05.998448Z",
     "start_time": "2023-06-06T18:12:05.904120Z"
    }
   },
   "outputs": [
    {
     "name": "stdout",
     "output_type": "stream",
     "text": [
      "   Season Wteam Wins  Daynum  Lteam  Lscore  Wloc  Numot  ScoreDifference\n",
      "0    1985  1385   27    27.0   27.0    27.0  27.0   27.0             27.0\n",
      "1    1986  1181   32    32.0   32.0    32.0  32.0   32.0             32.0\n",
      "2    1987  1424   33    33.0   33.0    33.0  33.0   33.0             33.0\n",
      "3    1988  1112   31    31.0   31.0    31.0  31.0   31.0             31.0\n",
      "4    1989  1328   28    28.0   28.0    28.0  28.0   28.0             28.0\n",
      "5    1990  1247   29    29.0   29.0    29.0  29.0   29.0             29.0\n",
      "6    1991  1116   30    30.0   30.0    30.0  30.0   30.0             30.0\n",
      "7    1992  1181   28    28.0   28.0    28.0  28.0   28.0             28.0\n",
      "8    1993  1231   28    28.0   28.0    28.0  28.0   28.0             28.0\n",
      "9    1994  1163   27    27.0   27.0    27.0  27.0   27.0             27.0\n",
      "10   1995  1116   26    26.0   26.0    26.0  26.0   26.0             26.0\n",
      "11   1996  1269   31    31.0   31.0    31.0  31.0   31.0             31.0\n",
      "12   1997  1242   31    31.0   31.0    31.0  31.0   31.0             31.0\n",
      "13   1998  1242   33    33.0   33.0    33.0  33.0   33.0             33.0\n",
      "14   1999  1181   32    32.0   32.0    32.0  32.0   32.0             32.0\n",
      "15   2000  1409   29    29.0   29.0    29.0  29.0   29.0             29.0\n",
      "16   2001  1181   29    29.0   29.0    29.0  29.0   29.0             29.0\n",
      "17   2002  1153   30    30.0   30.0    30.0  30.0   30.0             30.0\n",
      "18   2003  1166   29    29.0   29.0    29.0  29.0   29.0             29.0\n",
      "19   2004  1390   29    29.0   29.0    29.0  29.0   29.0             29.0\n",
      "20   2005  1228   32    32.0   32.0    32.0  32.0   32.0             32.0\n",
      "21   2006  1181   30    30.0   30.0    30.0  30.0   30.0             30.0\n",
      "22   2007  1242   30    30.0   30.0    30.0  30.0   30.0             30.0\n",
      "23   2008  1272   33    33.0   33.0    33.0  33.0   33.0             33.0\n",
      "24   2009  1272   31    31.0   31.0    31.0  31.0   31.0             31.0\n",
      "25   2010  1242   32    32.0   32.0    32.0  32.0   32.0             32.0\n",
      "26   2011  1242   32    32.0   32.0    32.0  32.0   32.0             32.0\n",
      "27   2012  1246   32    32.0   32.0    32.0  32.0   32.0             32.0\n",
      "28   2013  1211   30    30.0   30.0    30.0  30.0   30.0             30.0\n",
      "29   2014  1455   33    33.0   33.0    33.0  33.0   33.0             33.0\n",
      "30   2015  1246   34    34.0   34.0    34.0  34.0   34.0             34.0\n",
      "31   2016  1242   29    29.0   29.0    29.0  29.0   29.0             29.0\n"
     ]
    },
    {
     "name": "stderr",
     "output_type": "stream",
     "text": [
      "/var/folders/jp/76_36xgd3h55bg0npgjn08100000gn/T/ipykernel_15948/865499481.py:11: FutureWarning: The frame.append method is deprecated and will be removed from pandas in a future version. Use pandas.concat instead.\n",
      "  most_wins_per_season = most_wins_per_season.append(team_with_most_wins)\n",
      "/var/folders/jp/76_36xgd3h55bg0npgjn08100000gn/T/ipykernel_15948/865499481.py:11: FutureWarning: The frame.append method is deprecated and will be removed from pandas in a future version. Use pandas.concat instead.\n",
      "  most_wins_per_season = most_wins_per_season.append(team_with_most_wins)\n",
      "/var/folders/jp/76_36xgd3h55bg0npgjn08100000gn/T/ipykernel_15948/865499481.py:11: FutureWarning: The frame.append method is deprecated and will be removed from pandas in a future version. Use pandas.concat instead.\n",
      "  most_wins_per_season = most_wins_per_season.append(team_with_most_wins)\n",
      "/var/folders/jp/76_36xgd3h55bg0npgjn08100000gn/T/ipykernel_15948/865499481.py:11: FutureWarning: The frame.append method is deprecated and will be removed from pandas in a future version. Use pandas.concat instead.\n",
      "  most_wins_per_season = most_wins_per_season.append(team_with_most_wins)\n",
      "/var/folders/jp/76_36xgd3h55bg0npgjn08100000gn/T/ipykernel_15948/865499481.py:11: FutureWarning: The frame.append method is deprecated and will be removed from pandas in a future version. Use pandas.concat instead.\n",
      "  most_wins_per_season = most_wins_per_season.append(team_with_most_wins)\n",
      "/var/folders/jp/76_36xgd3h55bg0npgjn08100000gn/T/ipykernel_15948/865499481.py:11: FutureWarning: The frame.append method is deprecated and will be removed from pandas in a future version. Use pandas.concat instead.\n",
      "  most_wins_per_season = most_wins_per_season.append(team_with_most_wins)\n",
      "/var/folders/jp/76_36xgd3h55bg0npgjn08100000gn/T/ipykernel_15948/865499481.py:11: FutureWarning: The frame.append method is deprecated and will be removed from pandas in a future version. Use pandas.concat instead.\n",
      "  most_wins_per_season = most_wins_per_season.append(team_with_most_wins)\n",
      "/var/folders/jp/76_36xgd3h55bg0npgjn08100000gn/T/ipykernel_15948/865499481.py:11: FutureWarning: The frame.append method is deprecated and will be removed from pandas in a future version. Use pandas.concat instead.\n",
      "  most_wins_per_season = most_wins_per_season.append(team_with_most_wins)\n",
      "/var/folders/jp/76_36xgd3h55bg0npgjn08100000gn/T/ipykernel_15948/865499481.py:11: FutureWarning: The frame.append method is deprecated and will be removed from pandas in a future version. Use pandas.concat instead.\n",
      "  most_wins_per_season = most_wins_per_season.append(team_with_most_wins)\n",
      "/var/folders/jp/76_36xgd3h55bg0npgjn08100000gn/T/ipykernel_15948/865499481.py:11: FutureWarning: The frame.append method is deprecated and will be removed from pandas in a future version. Use pandas.concat instead.\n",
      "  most_wins_per_season = most_wins_per_season.append(team_with_most_wins)\n",
      "/var/folders/jp/76_36xgd3h55bg0npgjn08100000gn/T/ipykernel_15948/865499481.py:11: FutureWarning: The frame.append method is deprecated and will be removed from pandas in a future version. Use pandas.concat instead.\n",
      "  most_wins_per_season = most_wins_per_season.append(team_with_most_wins)\n",
      "/var/folders/jp/76_36xgd3h55bg0npgjn08100000gn/T/ipykernel_15948/865499481.py:11: FutureWarning: The frame.append method is deprecated and will be removed from pandas in a future version. Use pandas.concat instead.\n",
      "  most_wins_per_season = most_wins_per_season.append(team_with_most_wins)\n",
      "/var/folders/jp/76_36xgd3h55bg0npgjn08100000gn/T/ipykernel_15948/865499481.py:11: FutureWarning: The frame.append method is deprecated and will be removed from pandas in a future version. Use pandas.concat instead.\n",
      "  most_wins_per_season = most_wins_per_season.append(team_with_most_wins)\n",
      "/var/folders/jp/76_36xgd3h55bg0npgjn08100000gn/T/ipykernel_15948/865499481.py:11: FutureWarning: The frame.append method is deprecated and will be removed from pandas in a future version. Use pandas.concat instead.\n",
      "  most_wins_per_season = most_wins_per_season.append(team_with_most_wins)\n",
      "/var/folders/jp/76_36xgd3h55bg0npgjn08100000gn/T/ipykernel_15948/865499481.py:11: FutureWarning: The frame.append method is deprecated and will be removed from pandas in a future version. Use pandas.concat instead.\n",
      "  most_wins_per_season = most_wins_per_season.append(team_with_most_wins)\n",
      "/var/folders/jp/76_36xgd3h55bg0npgjn08100000gn/T/ipykernel_15948/865499481.py:11: FutureWarning: The frame.append method is deprecated and will be removed from pandas in a future version. Use pandas.concat instead.\n",
      "  most_wins_per_season = most_wins_per_season.append(team_with_most_wins)\n",
      "/var/folders/jp/76_36xgd3h55bg0npgjn08100000gn/T/ipykernel_15948/865499481.py:11: FutureWarning: The frame.append method is deprecated and will be removed from pandas in a future version. Use pandas.concat instead.\n",
      "  most_wins_per_season = most_wins_per_season.append(team_with_most_wins)\n",
      "/var/folders/jp/76_36xgd3h55bg0npgjn08100000gn/T/ipykernel_15948/865499481.py:11: FutureWarning: The frame.append method is deprecated and will be removed from pandas in a future version. Use pandas.concat instead.\n",
      "  most_wins_per_season = most_wins_per_season.append(team_with_most_wins)\n",
      "/var/folders/jp/76_36xgd3h55bg0npgjn08100000gn/T/ipykernel_15948/865499481.py:11: FutureWarning: The frame.append method is deprecated and will be removed from pandas in a future version. Use pandas.concat instead.\n",
      "  most_wins_per_season = most_wins_per_season.append(team_with_most_wins)\n",
      "/var/folders/jp/76_36xgd3h55bg0npgjn08100000gn/T/ipykernel_15948/865499481.py:11: FutureWarning: The frame.append method is deprecated and will be removed from pandas in a future version. Use pandas.concat instead.\n",
      "  most_wins_per_season = most_wins_per_season.append(team_with_most_wins)\n",
      "/var/folders/jp/76_36xgd3h55bg0npgjn08100000gn/T/ipykernel_15948/865499481.py:11: FutureWarning: The frame.append method is deprecated and will be removed from pandas in a future version. Use pandas.concat instead.\n",
      "  most_wins_per_season = most_wins_per_season.append(team_with_most_wins)\n",
      "/var/folders/jp/76_36xgd3h55bg0npgjn08100000gn/T/ipykernel_15948/865499481.py:11: FutureWarning: The frame.append method is deprecated and will be removed from pandas in a future version. Use pandas.concat instead.\n",
      "  most_wins_per_season = most_wins_per_season.append(team_with_most_wins)\n",
      "/var/folders/jp/76_36xgd3h55bg0npgjn08100000gn/T/ipykernel_15948/865499481.py:11: FutureWarning: The frame.append method is deprecated and will be removed from pandas in a future version. Use pandas.concat instead.\n",
      "  most_wins_per_season = most_wins_per_season.append(team_with_most_wins)\n",
      "/var/folders/jp/76_36xgd3h55bg0npgjn08100000gn/T/ipykernel_15948/865499481.py:11: FutureWarning: The frame.append method is deprecated and will be removed from pandas in a future version. Use pandas.concat instead.\n",
      "  most_wins_per_season = most_wins_per_season.append(team_with_most_wins)\n",
      "/var/folders/jp/76_36xgd3h55bg0npgjn08100000gn/T/ipykernel_15948/865499481.py:11: FutureWarning: The frame.append method is deprecated and will be removed from pandas in a future version. Use pandas.concat instead.\n",
      "  most_wins_per_season = most_wins_per_season.append(team_with_most_wins)\n",
      "/var/folders/jp/76_36xgd3h55bg0npgjn08100000gn/T/ipykernel_15948/865499481.py:11: FutureWarning: The frame.append method is deprecated and will be removed from pandas in a future version. Use pandas.concat instead.\n",
      "  most_wins_per_season = most_wins_per_season.append(team_with_most_wins)\n",
      "/var/folders/jp/76_36xgd3h55bg0npgjn08100000gn/T/ipykernel_15948/865499481.py:11: FutureWarning: The frame.append method is deprecated and will be removed from pandas in a future version. Use pandas.concat instead.\n",
      "  most_wins_per_season = most_wins_per_season.append(team_with_most_wins)\n",
      "/var/folders/jp/76_36xgd3h55bg0npgjn08100000gn/T/ipykernel_15948/865499481.py:11: FutureWarning: The frame.append method is deprecated and will be removed from pandas in a future version. Use pandas.concat instead.\n",
      "  most_wins_per_season = most_wins_per_season.append(team_with_most_wins)\n",
      "/var/folders/jp/76_36xgd3h55bg0npgjn08100000gn/T/ipykernel_15948/865499481.py:11: FutureWarning: The frame.append method is deprecated and will be removed from pandas in a future version. Use pandas.concat instead.\n",
      "  most_wins_per_season = most_wins_per_season.append(team_with_most_wins)\n",
      "/var/folders/jp/76_36xgd3h55bg0npgjn08100000gn/T/ipykernel_15948/865499481.py:11: FutureWarning: The frame.append method is deprecated and will be removed from pandas in a future version. Use pandas.concat instead.\n",
      "  most_wins_per_season = most_wins_per_season.append(team_with_most_wins)\n",
      "/var/folders/jp/76_36xgd3h55bg0npgjn08100000gn/T/ipykernel_15948/865499481.py:11: FutureWarning: The frame.append method is deprecated and will be removed from pandas in a future version. Use pandas.concat instead.\n",
      "  most_wins_per_season = most_wins_per_season.append(team_with_most_wins)\n",
      "/var/folders/jp/76_36xgd3h55bg0npgjn08100000gn/T/ipykernel_15948/865499481.py:11: FutureWarning: The frame.append method is deprecated and will be removed from pandas in a future version. Use pandas.concat instead.\n",
      "  most_wins_per_season = most_wins_per_season.append(team_with_most_wins)\n"
     ]
    }
   ],
   "source": [
    "# Group the wins count DataFrame by 'Season'\n",
    "grouped_by_season = wins_count.groupby('Season')\n",
    "\n",
    "# Create an empty DataFrame to store the team with the most wins for each season\n",
    "most_wins_per_season = pd.DataFrame(columns=['Season', 'Wteam', 'Wins'])\n",
    "\n",
    "# Iterate over each season and find the team with the most wins using idxmax()\n",
    "for season, group in grouped_by_season:\n",
    "    max_wins_index = group['Wins'].idxmax()\n",
    "    team_with_most_wins = group.loc[max_wins_index]\n",
    "    most_wins_per_season = most_wins_per_season.append(team_with_most_wins)\n",
    "\n",
    "# Reset the index of the resulting DataFrame\n",
    "most_wins_per_season = most_wins_per_season.reset_index(drop=True)\n",
    "\n",
    "# Print the DataFrame with the team with the most wins for each season\n",
    "print(most_wins_per_season)\n"
   ]
  },
  {
   "attachments": {},
   "cell_type": "markdown",
   "metadata": {},
   "source": [
    "**Q**: Group the DataFrame by losing team and find the average losing score for each team across all seasons. Compare this with the average winning score for each team from task 3. Are there teams that have a higher average losing score than winning score?"
   ]
  },
  {
   "cell_type": "code",
   "execution_count": 42,
   "metadata": {
    "ExecuteTime": {
     "end_time": "2023-06-06T18:13:32.530393Z",
     "start_time": "2023-06-06T18:13:32.481912Z"
    }
   },
   "outputs": [
    {
     "name": "stdout",
     "output_type": "stream",
     "text": [
      "Lteam\n",
      "1101    60.586207\n",
      "1102    59.201507\n",
      "1103    64.117347\n",
      "1104    64.374317\n",
      "1105    61.675373\n",
      "          ...    \n",
      "1460    63.082915\n",
      "1461    64.661972\n",
      "1462    68.216117\n",
      "1463    60.829213\n",
      "1464    65.187063\n",
      "Name: Lscore, Length: 364, dtype: float64\n"
     ]
    }
   ],
   "source": [
    "# Group the DataFrame by losing team and calculate the average losing score for each team\n",
    "average_losing_score = df.groupby('Lteam')['Lscore'].mean()\n",
    "\n",
    "# Print the average losing score for each team\n",
    "print(average_losing_score)\n"
   ]
  },
  {
   "attachments": {},
   "cell_type": "markdown",
   "metadata": {},
   "source": [
    "# Dataframe Iteration"
   ]
  },
  {
   "attachments": {},
   "cell_type": "markdown",
   "metadata": {},
   "source": [
    "In order to iterate through dataframes, we can use the **iterrows()** function. Below is an example of what the first two rows look like. Each row in iterrows is a Series object"
   ]
  },
  {
   "cell_type": "code",
   "execution_count": 44,
   "metadata": {
    "collapsed": false,
    "ExecuteTime": {
     "end_time": "2023-06-06T18:14:59.063741Z",
     "start_time": "2023-06-06T18:14:59.003830Z"
    }
   },
   "outputs": [
    {
     "name": "stdout",
     "output_type": "stream",
     "text": [
      "Season             1985\n",
      "Daynum               20\n",
      "Wteam              1228\n",
      "Wscore               81\n",
      "Lteam              1328\n",
      "Lscore               64\n",
      "Wloc                  N\n",
      "Numot                 0\n",
      "ScoreDifference      17\n",
      "Name: 0, dtype: object\n",
      "Season             1985\n",
      "Daynum               25\n",
      "Wteam              1106\n",
      "Wscore               77\n",
      "Lteam              1354\n",
      "Lscore               70\n",
      "Wloc                  H\n",
      "Numot                 0\n",
      "ScoreDifference       7\n",
      "Name: 1, dtype: object\n"
     ]
    }
   ],
   "source": [
    "for index, row in df.iterrows():\n",
    "    print(row)\n",
    "    if index == 1:\n",
    "        break"
   ]
  },
  {
   "attachments": {},
   "cell_type": "markdown",
   "metadata": {},
   "source": [
    "**Q**: Create a new column 'HighScoringGame' that is 'Yes' if the winning score is greater than 100 and 'No' otherwise. This will require iterating over the rows of the DataFrame and checking the value of the winning score for each row."
   ]
  },
  {
   "cell_type": "code",
   "execution_count": 45,
   "metadata": {
    "ExecuteTime": {
     "end_time": "2023-06-06T18:15:18.770957Z",
     "start_time": "2023-06-06T18:15:05.694318Z"
    }
   },
   "outputs": [
    {
     "name": "stdout",
     "output_type": "stream",
     "text": [
      "        Season  Daynum  Wteam  Wscore  Lteam  Lscore Wloc  Numot  \\\n",
      "0         1985      20   1228      81   1328      64    N      0   \n",
      "1         1985      25   1106      77   1354      70    H      0   \n",
      "2         1985      25   1112      63   1223      56    H      0   \n",
      "3         1985      25   1165      70   1432      54    H      0   \n",
      "4         1985      25   1192      86   1447      74    H      0   \n",
      "...        ...     ...    ...     ...    ...     ...  ...    ...   \n",
      "145284    2016     132   1114      70   1419      50    N      0   \n",
      "145285    2016     132   1163      72   1272      58    N      0   \n",
      "145286    2016     132   1246      82   1401      77    N      1   \n",
      "145287    2016     132   1277      66   1345      62    N      0   \n",
      "145288    2016     132   1386      87   1433      74    N      0   \n",
      "\n",
      "        ScoreDifference HighScoringGame  \n",
      "0                    17              No  \n",
      "1                     7              No  \n",
      "2                     7              No  \n",
      "3                    16              No  \n",
      "4                    12              No  \n",
      "...                 ...             ...  \n",
      "145284               20              No  \n",
      "145285               14              No  \n",
      "145286                5              No  \n",
      "145287                4              No  \n",
      "145288               13              No  \n",
      "\n",
      "[145289 rows x 10 columns]\n"
     ]
    }
   ],
   "source": [
    "# Iterate over the rows of the DataFrame\n",
    "for index, row in df.iterrows():\n",
    "    # Check if the winning score is greater than 100\n",
    "    if row['Wscore'] > 100:\n",
    "        df.at[index, 'HighScoringGame'] = 'Yes'  # Set 'Yes' in 'HighScoringGame' column\n",
    "    else:\n",
    "        df.at[index, 'HighScoringGame'] = 'No'   # Set 'No' in 'HighScoringGame' column\n",
    "\n",
    "# Print the updated DataFrame\n",
    "print(df)\n"
   ]
  },
  {
   "attachments": {},
   "cell_type": "markdown",
   "metadata": {},
   "source": [
    "**Q**: Calculate the total number of games played by each team, whether they won or lost. This will require iterating over the rows of the DataFrame and updating a dictionary that keeps track of the number of games for each team."
   ]
  },
  {
   "cell_type": "code",
   "execution_count": 46,
   "metadata": {
    "ExecuteTime": {
     "end_time": "2023-06-06T18:17:10.313698Z",
     "start_time": "2023-06-06T18:17:00.746171Z"
    }
   },
   "outputs": [
    {
     "name": "stdout",
     "output_type": "stream",
     "text": [
      "Team 1228 played 992 games.\n",
      "Team 1328 played 968 games.\n",
      "Team 1106 played 855 games.\n",
      "Team 1354 played 906 games.\n",
      "Team 1112 played 981 games.\n",
      "Team 1223 played 363 games.\n",
      "Team 1165 played 833 games.\n",
      "Team 1432 played 69 games.\n",
      "Team 1192 played 908 games.\n",
      "Team 1447 played 903 games.\n",
      "Team 1218 played 931 games.\n",
      "Team 1337 played 922 games.\n",
      "Team 1226 played 847 games.\n",
      "Team 1242 played 993 games.\n",
      "Team 1268 played 969 games.\n",
      "Team 1260 played 914 games.\n",
      "Team 1133 played 949 games.\n",
      "Team 1305 played 922 games.\n",
      "Team 1424 played 974 games.\n",
      "Team 1307 played 969 games.\n",
      "Team 1288 played 925 games.\n",
      "Team 1344 played 951 games.\n",
      "Team 1438 played 952 games.\n",
      "Team 1374 played 916 games.\n",
      "Team 1411 played 903 games.\n",
      "Team 1412 played 962 games.\n",
      "Team 1397 played 963 games.\n",
      "Team 1417 played 966 games.\n",
      "Team 1225 played 880 games.\n",
      "Team 1116 played 980 games.\n",
      "Team 1368 played 808 games.\n",
      "Team 1120 played 936 games.\n",
      "Team 1391 played 879 games.\n",
      "Team 1135 played 847 games.\n",
      "Team 1306 played 898 games.\n",
      "Team 1143 played 947 games.\n",
      "Team 1388 played 897 games.\n",
      "Team 1153 played 970 games.\n",
      "Team 1184 played 863 games.\n",
      "Team 1159 played 887 games.\n",
      "Team 1171 played 829 games.\n",
      "Team 1216 played 930 games.\n",
      "Team 1173 played 960 games.\n",
      "Team 1134 played 200 games.\n",
      "Team 1177 played 942 games.\n",
      "Team 1296 played 879 games.\n",
      "Team 1193 played 942 games.\n",
      "Team 1265 played 934 games.\n",
      "Team 1196 played 981 games.\n",
      "Team 1416 played 881 games.\n",
      "Team 1206 played 938 games.\n",
      "Team 1137 played 912 games.\n",
      "Team 1210 played 972 games.\n",
      "Team 1149 played 824 games.\n",
      "Team 1211 played 921 games.\n",
      "Team 1102 played 840 games.\n",
      "Team 1234 played 968 games.\n",
      "Team 1114 played 910 games.\n",
      "Team 1332 played 927 games.\n",
      "Team 1243 played 927 games.\n",
      "Team 1317 played 883 games.\n",
      "Team 1257 played 994 games.\n",
      "Team 1231 played 969 games.\n",
      "Team 1277 played 966 games.\n",
      "Team 1145 played 934 games.\n",
      "Team 1278 played 948 games.\n",
      "Team 1453 played 912 games.\n",
      "Team 1286 played 851 games.\n",
      "Team 1186 played 849 games.\n",
      "Team 1301 played 979 games.\n",
      "Team 1144 played 850 games.\n",
      "Team 1325 played 942 games.\n",
      "Team 1384 played 887 games.\n",
      "Team 1326 played 968 games.\n",
      "Team 1248 played 896 games.\n",
      "Team 1287 played 857 games.\n",
      "Team 1339 played 879 games.\n",
      "Team 1334 played 899 games.\n",
      "Team 1365 played 907 games.\n",
      "Team 1375 played 896 games.\n",
      "Team 1126 played 906 games.\n",
      "Team 1403 played 939 games.\n",
      "Team 1152 played 865 games.\n",
      "Team 1423 played 931 games.\n",
      "Team 1347 played 858 games.\n",
      "Team 1429 played 930 games.\n",
      "Team 1428 played 931 games.\n",
      "Team 1437 played 983 games.\n",
      "Team 1436 played 911 games.\n",
      "Team 1172 played 879 games.\n",
      "Team 1439 played 946 games.\n",
      "Team 1330 played 963 games.\n",
      "Team 1443 played 942 games.\n",
      "Team 1121 played 175 games.\n",
      "Team 1455 played 947 games.\n",
      "Team 1249 played 873 games.\n",
      "Team 1241 played 942 games.\n",
      "Team 1440 played 825 games.\n",
      "Team 1314 played 1010 games.\n",
      "Team 1200 played 922 games.\n",
      "Team 1323 played 950 games.\n",
      "Team 1264 played 928 games.\n",
      "Team 1458 played 951 games.\n",
      "Team 1104 played 975 games.\n",
      "Team 1160 played 928 games.\n",
      "Team 1414 played 922 games.\n",
      "Team 1181 played 1013 games.\n",
      "Team 1387 played 956 games.\n",
      "Team 1183 played 871 games.\n",
      "Team 1247 played 943 games.\n",
      "Team 1284 played 932 games.\n",
      "Team 1402 played 847 games.\n",
      "Team 1276 played 959 games.\n",
      "Team 1178 played 920 games.\n",
      "Team 1364 played 890 games.\n",
      "Team 1338 played 962 games.\n",
      "Team 1290 played 875 games.\n",
      "Team 1376 played 945 games.\n",
      "Team 1378 played 936 games.\n",
      "Team 1202 played 856 games.\n",
      "Team 1396 played 979 games.\n",
      "Team 1180 played 930 games.\n",
      "Team 1398 played 870 games.\n",
      "Team 1399 played 860 games.\n",
      "Team 1155 played 950 games.\n",
      "Team 1258 played 898 games.\n",
      "Team 1448 played 947 games.\n",
      "Team 1464 played 856 games.\n",
      "Team 1124 played 906 games.\n",
      "Team 1341 played 857 games.\n",
      "Team 1130 played 951 games.\n",
      "Team 1254 played 898 games.\n",
      "Team 1204 played 862 games.\n",
      "Team 1151 played 899 games.\n",
      "Team 1233 played 957 games.\n",
      "Team 1220 played 933 games.\n",
      "Team 1246 played 999 games.\n",
      "Team 1405 played 921 games.\n",
      "Team 1280 played 946 games.\n",
      "Team 1238 played 920 games.\n",
      "Team 1308 played 935 games.\n",
      "Team 1431 played 937 games.\n",
      "Team 1253 played 915 games.\n",
      "Team 1363 played 889 games.\n",
      "Team 1348 played 938 games.\n",
      "Team 1373 played 950 games.\n",
      "Team 1379 played 896 games.\n",
      "Team 1270 played 861 games.\n",
      "Team 1409 played 966 games.\n",
      "Team 1331 played 809 games.\n",
      "Team 1444 played 916 games.\n",
      "Team 1434 played 902 games.\n",
      "Team 1451 played 866 games.\n",
      "Team 1139 played 923 games.\n",
      "Team 1442 played 840 games.\n",
      "Team 1154 played 820 games.\n",
      "Team 1456 played 891 games.\n",
      "Team 1229 played 951 games.\n",
      "Team 1227 played 917 games.\n",
      "Team 1259 played 913 games.\n",
      "Team 1406 played 926 games.\n",
      "Team 1261 played 956 games.\n",
      "Team 1272 played 992 games.\n",
      "Team 1117 played 891 games.\n",
      "Team 1273 played 896 games.\n",
      "Team 1163 played 977 games.\n",
      "Team 1318 played 942 games.\n",
      "Team 1360 played 889 games.\n",
      "Team 1393 played 993 games.\n",
      "Team 1419 played 894 games.\n",
      "Team 1418 played 912 games.\n",
      "Team 1281 played 977 games.\n",
      "Team 1161 played 905 games.\n",
      "Team 1109 played 169 games.\n",
      "Team 1309 played 840 games.\n",
      "Team 1298 played 894 games.\n",
      "Team 1321 played 912 games.\n",
      "Team 1285 played 865 games.\n",
      "Team 1271 played 887 games.\n",
      "Team 1353 played 939 games.\n",
      "Team 1351 played 929 games.\n",
      "Team 1359 played 874 games.\n",
      "Team 1267 played 909 games.\n",
      "Team 1361 played 915 games.\n",
      "Team 1386 played 958 games.\n",
      "Team 1400 played 982 games.\n",
      "Team 1322 played 854 games.\n",
      "Team 1433 played 975 games.\n",
      "Team 1187 played 861 games.\n",
      "Team 1245 played 927 games.\n",
      "Team 1111 played 876 games.\n",
      "Team 1150 played 942 games.\n",
      "Team 1119 played 868 games.\n",
      "Team 1141 played 872 games.\n",
      "Team 1221 played 929 games.\n",
      "Team 1122 played 903 games.\n",
      "Team 1185 played 900 games.\n",
      "Team 1199 played 949 games.\n",
      "Team 1201 played 947 games.\n",
      "Team 1212 played 837 games.\n",
      "Team 1197 played 896 games.\n",
      "Team 1140 played 965 games.\n",
      "Team 1292 played 888 games.\n",
      "Team 1162 played 831 games.\n",
      "Team 1319 played 843 games.\n",
      "Team 1239 played 891 games.\n",
      "Team 1320 played 913 games.\n",
      "Team 1371 played 946 games.\n",
      "Team 1349 played 888 games.\n",
      "Team 1222 played 930 games.\n",
      "Team 1382 played 914 games.\n",
      "Team 1383 played 898 games.\n",
      "Team 1385 played 954 games.\n",
      "Team 1390 played 932 games.\n",
      "Team 1425 played 944 games.\n",
      "Team 1435 played 961 games.\n",
      "Team 1463 played 838 games.\n",
      "Team 1441 played 854 games.\n",
      "Team 1449 played 938 games.\n",
      "Team 1123 played 906 games.\n",
      "Team 1103 played 910 games.\n",
      "Team 1129 played 907 games.\n",
      "Team 1209 played 891 games.\n",
      "Team 1156 played 900 games.\n",
      "Team 1336 played 926 games.\n",
      "Team 1174 played 913 games.\n",
      "Team 1343 played 832 games.\n",
      "Team 1232 played 913 games.\n",
      "Team 1203 played 933 games.\n",
      "Team 1110 played 910 games.\n",
      "Team 1335 played 880 games.\n",
      "Team 1283 played 952 games.\n",
      "Team 1235 played 950 games.\n",
      "Team 1166 played 957 games.\n",
      "Team 1311 played 839 games.\n",
      "Team 1256 played 925 games.\n",
      "Team 1147 played 698 games.\n",
      "Team 1250 played 898 games.\n",
      "Team 1266 played 951 games.\n",
      "Team 1452 played 945 games.\n",
      "Team 1269 played 946 games.\n",
      "Team 1208 played 954 games.\n",
      "Team 1310 played 949 games.\n",
      "Team 1329 played 941 games.\n",
      "Team 1333 played 911 games.\n",
      "Team 1345 played 966 games.\n",
      "Team 1263 played 898 games.\n",
      "Team 1352 played 925 games.\n",
      "Team 1380 played 862 games.\n",
      "Team 1446 played 48 games.\n",
      "Team 1427 played 858 games.\n",
      "Team 1113 played 937 games.\n",
      "Team 1408 played 808 games.\n",
      "Team 1410 played 831 games.\n",
      "Team 1350 played 959 games.\n",
      "Team 1450 played 913 games.\n",
      "Team 1462 played 954 games.\n",
      "Team 1131 played 945 games.\n",
      "Team 1190 played 891 games.\n",
      "Team 1168 played 891 games.\n",
      "Team 1179 played 914 games.\n",
      "Team 1304 played 953 games.\n",
      "Team 1224 played 907 games.\n",
      "Team 1356 played 953 games.\n",
      "Team 1426 played 859 games.\n",
      "Team 1215 played 147 games.\n",
      "Team 1132 played 895 games.\n",
      "Team 1217 played 828 games.\n",
      "Team 1389 played 928 games.\n",
      "Team 1395 played 943 games.\n",
      "Team 1461 played 914 games.\n",
      "Team 1279 played 927 games.\n",
      "Team 1275 played 932 games.\n",
      "Team 1293 played 886 games.\n",
      "Team 1191 played 928 games.\n",
      "Team 1299 played 870 games.\n",
      "Team 1401 played 940 games.\n",
      "Team 1175 played 890 games.\n",
      "Team 1327 played 22 games.\n",
      "Team 1207 played 923 games.\n",
      "Team 1108 played 866 games.\n",
      "Team 1182 played 924 games.\n",
      "Team 1274 played 915 games.\n",
      "Team 1362 played 867 games.\n",
      "Team 1164 played 893 games.\n",
      "Team 1118 played 27 games.\n",
      "Team 1420 played 845 games.\n",
      "Team 1457 played 801 games.\n",
      "Team 1148 played 844 games.\n",
      "Team 1372 played 795 games.\n",
      "Team 1157 played 784 games.\n",
      "Team 1421 played 799 games.\n",
      "Team 1358 played 806 games.\n",
      "Team 1460 played 827 games.\n",
      "Team 1198 played 812 games.\n",
      "Team 1291 played 815 games.\n",
      "Team 1381 played 735 games.\n",
      "Team 1251 played 755 games.\n",
      "Team 1282 played 745 games.\n",
      "Team 1169 played 724 games.\n",
      "Team 1302 played 200 games.\n",
      "Team 1454 played 737 games.\n",
      "Team 1170 played 660 games.\n",
      "Team 1138 played 728 games.\n",
      "Team 1158 played 720 games.\n",
      "Team 1422 played 719 games.\n",
      "Team 1369 played 682 games.\n",
      "Team 1404 played 643 games.\n",
      "Team 1194 played 647 games.\n",
      "Team 1407 played 639 games.\n",
      "Team 1142 played 597 games.\n",
      "Team 1214 played 627 games.\n",
      "Team 1459 played 575 games.\n",
      "Team 1240 played 568 games.\n",
      "Team 1313 played 563 games.\n",
      "Team 1115 played 520 games.\n",
      "Team 1176 played 526 games.\n",
      "Team 1346 played 522 games.\n",
      "Team 1237 played 519 games.\n",
      "Team 1340 played 497 games.\n",
      "Team 1107 played 512 games.\n",
      "Team 1357 played 500 games.\n",
      "Team 1324 played 506 games.\n",
      "Team 1189 played 481 games.\n",
      "Team 1125 played 506 games.\n",
      "Team 1105 played 447 games.\n",
      "Team 1392 played 493 games.\n",
      "Team 1219 played 466 games.\n",
      "Team 1127 played 442 games.\n",
      "Team 1289 played 48 games.\n",
      "Team 1415 played 418 games.\n",
      "Team 1236 played 400 games.\n",
      "Team 1394 played 390 games.\n",
      "Team 1205 played 405 games.\n",
      "Team 1128 played 106 games.\n",
      "Team 1252 played 401 games.\n",
      "Team 1366 played 384 games.\n",
      "Team 1294 played 336 games.\n",
      "Team 1255 played 344 games.\n",
      "Team 1430 played 325 games.\n",
      "Team 1413 played 348 games.\n",
      "Team 1355 played 327 games.\n",
      "Team 1244 played 322 games.\n",
      "Team 1295 played 308 games.\n",
      "Team 1316 played 327 games.\n",
      "Team 1445 played 107 games.\n",
      "Team 1312 played 276 games.\n",
      "Team 1146 played 267 games.\n",
      "Team 1167 played 260 games.\n",
      "Team 1300 played 252 games.\n",
      "Team 1367 played 267 games.\n",
      "Team 1342 played 260 games.\n",
      "Team 1195 played 273 games.\n",
      "Team 1188 played 207 games.\n",
      "Team 1377 played 210 games.\n",
      "Team 1315 played 217 games.\n",
      "Team 1136 played 240 games.\n",
      "Team 1370 played 222 games.\n",
      "Team 1303 played 129 games.\n",
      "Team 1297 played 113 games.\n",
      "Team 1213 played 84 games.\n",
      "Team 1262 played 83 games.\n",
      "Team 1101 played 76 games.\n",
      "Team 1230 played 64 games.\n"
     ]
    }
   ],
   "source": [
    "# Create an empty dictionary to keep track of the number of games for each team\n",
    "games_count = {}\n",
    "\n",
    "# Iterate over the rows of the DataFrame\n",
    "for index, row in df.iterrows():\n",
    "    # Get the winning team and update the count\n",
    "    winning_team = row['Wteam']\n",
    "    if winning_team in games_count:\n",
    "        games_count[winning_team] += 1\n",
    "    else:\n",
    "        games_count[winning_team] = 1\n",
    "\n",
    "    # Get the losing team and update the count\n",
    "    losing_team = row['Lteam']\n",
    "    if losing_team in games_count:\n",
    "        games_count[losing_team] += 1\n",
    "    else:\n",
    "        games_count[losing_team] = 1\n",
    "\n",
    "# Print the total number of games played by each team\n",
    "for team, count in games_count.items():\n",
    "    print(f\"Team {team} played {count} games.\")"
   ]
  },
  {
   "attachments": {},
   "cell_type": "markdown",
   "metadata": {},
   "source": [
    "**Q**: For each season, find the game with the highest score difference (winning score - losing score). This will require iterating over the rows of the DataFrame, keeping track of the highest score difference for each season, and updating it if a game with a higher score difference is found."
   ]
  },
  {
   "cell_type": "code",
   "execution_count": 47,
   "metadata": {
    "ExecuteTime": {
     "end_time": "2023-06-06T18:18:15.884462Z",
     "start_time": "2023-06-06T18:18:05.725732Z"
    }
   },
   "outputs": [
    {
     "name": "stdout",
     "output_type": "stream",
     "text": [
      "In season 1985, the game with the highest score difference is game #236 with a score difference of 60.\n",
      "In season 1986, the game with the highest score difference is game #4731 with a score difference of 84.\n",
      "In season 1987, the game with the highest score difference is game #8240 with a score difference of 73.\n",
      "In season 1988, the game with the highest score difference is game #12046 with a score difference of 68.\n",
      "In season 1989, the game with the highest score difference is game #16677 with a score difference of 70.\n",
      "In season 1990, the game with the highest score difference is game #19502 with a score difference of 76.\n",
      "In season 1991, the game with the highest score difference is game #25161 with a score difference of 68.\n",
      "In season 1992, the game with the highest score difference is game #27997 with a score difference of 82.\n",
      "In season 1993, the game with the highest score difference is game #33858 with a score difference of 81.\n",
      "In season 1994, the game with the highest score difference is game #36404 with a score difference of 69.\n",
      "In season 1995, the game with the highest score difference is game #39858 with a score difference of 74.\n",
      "In season 1996, the game with the highest score difference is game #44653 with a score difference of 91.\n",
      "In season 1997, the game with the highest score difference is game #49033 with a score difference of 80.\n",
      "In season 1998, the game with the highest score difference is game #52600 with a score difference of 66.\n",
      "In season 1999, the game with the highest score difference is game #57618 with a score difference of 75.\n",
      "In season 2000, the game with the highest score difference is game #60616 with a score difference of 75.\n",
      "In season 2001, the game with the highest score difference is game #65999 with a score difference of 75.\n",
      "In season 2002, the game with the highest score difference is game #70737 with a score difference of 59.\n",
      "In season 2003, the game with the highest score difference is game #74791 with a score difference of 72.\n",
      "In season 2004, the game with the highest score difference is game #79181 with a score difference of 70.\n",
      "In season 2005, the game with the highest score difference is game #83372 with a score difference of 64.\n",
      "In season 2006, the game with the highest score difference is game #89542 with a score difference of 72.\n",
      "In season 2007, the game with the highest score difference is game #94507 with a score difference of 74.\n",
      "In season 2008, the game with the highest score difference is game #97737 with a score difference of 70.\n",
      "In season 2009, the game with the highest score difference is game #103723 with a score difference of 68.\n",
      "In season 2010, the game with the highest score difference is game #108405 with a score difference of 75.\n",
      "In season 2011, the game with the highest score difference is game #114015 with a score difference of 69.\n",
      "In season 2012, the game with the highest score difference is game #118699 with a score difference of 62.\n",
      "In season 2013, the game with the highest score difference is game #124057 with a score difference of 58.\n",
      "In season 2014, the game with the highest score difference is game #131373 with a score difference of 74.\n",
      "In season 2015, the game with the highest score difference is game #134590 with a score difference of 69.\n",
      "In season 2016, the game with the highest score difference is game #140040 with a score difference of 73.\n"
     ]
    }
   ],
   "source": [
    "# Create an empty dictionary to store the highest score difference for each season\n",
    "highest_score_diff = {}\n",
    "\n",
    "# Iterate over the rows of the DataFrame\n",
    "for index, row in df.iterrows():\n",
    "    season = row['Season']\n",
    "    score_diff = row['Wscore'] - row['Lscore']\n",
    "\n",
    "    if season in highest_score_diff:\n",
    "        # Check if the current score difference is higher than the stored highest score difference for the season\n",
    "        if score_diff > highest_score_diff[season]['score_diff']:\n",
    "            highest_score_diff[season] = {'game': index, 'score_diff': score_diff}\n",
    "    else:\n",
    "        highest_score_diff[season] = {'game': index, 'score_diff': score_diff}\n",
    "\n",
    "# Print the game with the highest score difference for each season\n",
    "for season, data in highest_score_diff.items():\n",
    "    game_index = data['game']\n",
    "    score_diff = data['score_diff']\n",
    "    print(f\"In season {season}, the game with the highest score difference is game #{game_index} with a score difference of {score_diff}.\")"
   ]
  },
  {
   "attachments": {},
   "cell_type": "markdown",
   "metadata": {},
   "source": [
    "Remember, iterating over a DataFrame should generally be avoided if a vectorized operation can be used instead, as vectorized operations are usually much faster. However, these tasks are designed to give practice with DataFrame iteration for cases where it might be necessary."
   ]
  },
  {
   "attachments": {},
   "cell_type": "markdown",
   "metadata": {},
   "source": [
    "Vectorized Operation Example: Create a new column 'HighScoringGame' in the DataFrame using a vectorized operation. This column should contain 'Yes' if the winning score is greater than 100 and 'No' otherwise. Use the np.where function from the numpy library for this task."
   ]
  },
  {
   "cell_type": "code",
   "execution_count": 48,
   "metadata": {
    "ExecuteTime": {
     "end_time": "2023-06-06T18:18:29.268519Z",
     "start_time": "2023-06-06T18:18:29.186905Z"
    }
   },
   "outputs": [],
   "source": [
    "import numpy as np\n",
    "df['HighScoringGame'] = np.where(df['Wscore'] > 100, 'Yes', 'No')"
   ]
  },
  {
   "attachments": {},
   "cell_type": "markdown",
   "metadata": {},
   "source": [
    "**Q**: Vectorized Operation: Calculate the total number of games played by each team, whether they won or lost. Instead of iterating over the DataFrame, use the value_counts() function on the winning team and losing team columns separately, and then add the two Series together."
   ]
  },
  {
   "cell_type": "code",
   "execution_count": 49,
   "metadata": {
    "ExecuteTime": {
     "end_time": "2023-06-06T18:19:20.151197Z",
     "start_time": "2023-06-06T18:19:20.107528Z"
    }
   },
   "outputs": [
    {
     "name": "stdout",
     "output_type": "stream",
     "text": [
      "1101     76\n",
      "1102    840\n",
      "1103    910\n",
      "1104    975\n",
      "1105    447\n",
      "       ... \n",
      "1460    827\n",
      "1461    914\n",
      "1462    954\n",
      "1463    838\n",
      "1464    856\n",
      "Length: 364, dtype: int64\n"
     ]
    }
   ],
   "source": [
    "# Calculate the total number of games played by each team using vectorized operations\n",
    "games_count = df['Wteam'].value_counts() + df['Lteam'].value_counts()\n",
    "\n",
    "# Print the total number of games played by each team\n",
    "print(games_count)\n"
   ]
  },
  {
   "attachments": {},
   "cell_type": "markdown",
   "metadata": {},
   "source": [
    "**Q**: For each season, find the game with the highest score difference (winning score - losing score). Instead of iterating over the DataFrame, create a new column 'ScoreDifference' using vectorized subtraction, then use the groupby() function and idxmax() function to find the game with the highest score difference for each season."
   ]
  },
  {
   "cell_type": "code",
   "execution_count": 50,
   "metadata": {
    "ExecuteTime": {
     "end_time": "2023-06-06T18:20:09.284753Z",
     "start_time": "2023-06-06T18:20:09.185606Z"
    }
   },
   "outputs": [
    {
     "name": "stdout",
     "output_type": "stream",
     "text": [
      "In season 1985, the game with the highest score difference is game #236 with a score difference of 60.\n",
      "In season 1986, the game with the highest score difference is game #4731 with a score difference of 84.\n",
      "In season 1987, the game with the highest score difference is game #8240 with a score difference of 73.\n",
      "In season 1988, the game with the highest score difference is game #12046 with a score difference of 68.\n",
      "In season 1989, the game with the highest score difference is game #16677 with a score difference of 70.\n",
      "In season 1990, the game with the highest score difference is game #19502 with a score difference of 76.\n",
      "In season 1991, the game with the highest score difference is game #25161 with a score difference of 68.\n",
      "In season 1992, the game with the highest score difference is game #27997 with a score difference of 82.\n",
      "In season 1993, the game with the highest score difference is game #33858 with a score difference of 81.\n",
      "In season 1994, the game with the highest score difference is game #36404 with a score difference of 69.\n",
      "In season 1995, the game with the highest score difference is game #39858 with a score difference of 74.\n",
      "In season 1996, the game with the highest score difference is game #44653 with a score difference of 91.\n",
      "In season 1997, the game with the highest score difference is game #49033 with a score difference of 80.\n",
      "In season 1998, the game with the highest score difference is game #52600 with a score difference of 66.\n",
      "In season 1999, the game with the highest score difference is game #57618 with a score difference of 75.\n",
      "In season 2000, the game with the highest score difference is game #60616 with a score difference of 75.\n",
      "In season 2001, the game with the highest score difference is game #65999 with a score difference of 75.\n",
      "In season 2002, the game with the highest score difference is game #70737 with a score difference of 59.\n",
      "In season 2003, the game with the highest score difference is game #74791 with a score difference of 72.\n",
      "In season 2004, the game with the highest score difference is game #79181 with a score difference of 70.\n",
      "In season 2005, the game with the highest score difference is game #83372 with a score difference of 64.\n",
      "In season 2006, the game with the highest score difference is game #89542 with a score difference of 72.\n",
      "In season 2007, the game with the highest score difference is game #94507 with a score difference of 74.\n",
      "In season 2008, the game with the highest score difference is game #97737 with a score difference of 70.\n",
      "In season 2009, the game with the highest score difference is game #103723 with a score difference of 68.\n",
      "In season 2010, the game with the highest score difference is game #108405 with a score difference of 75.\n",
      "In season 2011, the game with the highest score difference is game #114015 with a score difference of 69.\n",
      "In season 2012, the game with the highest score difference is game #118699 with a score difference of 62.\n",
      "In season 2013, the game with the highest score difference is game #124057 with a score difference of 58.\n",
      "In season 2014, the game with the highest score difference is game #131373 with a score difference of 74.\n",
      "In season 2015, the game with the highest score difference is game #134590 with a score difference of 69.\n",
      "In season 2016, the game with the highest score difference is game #140040 with a score difference of 73.\n"
     ]
    },
    {
     "name": "stderr",
     "output_type": "stream",
     "text": [
      "/var/folders/jp/76_36xgd3h55bg0npgjn08100000gn/T/ipykernel_15948/3919501788.py:8: FutureWarning: iteritems is deprecated and will be removed in a future version. Use .items instead.\n",
      "  for season, game_index in highest_score_diff_games.iteritems():\n"
     ]
    }
   ],
   "source": [
    "# Create a new column 'ScoreDifference' using vectorized subtraction\n",
    "df['ScoreDifference'] = df['Wscore'] - df['Lscore']\n",
    "\n",
    "# Find the game with the highest score difference for each season\n",
    "highest_score_diff_games = df.groupby('Season')['ScoreDifference'].idxmax()\n",
    "\n",
    "# Print the game with the highest score difference for each season\n",
    "for season, game_index in highest_score_diff_games.iteritems():\n",
    "    score_diff = df.at[game_index, 'ScoreDifference']\n",
    "    print(f\"In season {season}, the game with the highest score difference is game #{game_index} with a score difference of {score_diff}.\")\n",
    "# Write your code here"
   ]
  },
  {
   "attachments": {},
   "cell_type": "markdown",
   "metadata": {},
   "source": [
    "# Extracting Rows and Columns"
   ]
  },
  {
   "attachments": {},
   "cell_type": "markdown",
   "metadata": {},
   "source": [
    "The bracket indexing operator is one way to extract certain columns from a dataframe."
   ]
  },
  {
   "cell_type": "code",
   "execution_count": 38,
   "metadata": {
    "collapsed": false,
    "scrolled": true
   },
   "outputs": [
    {
     "data": {
      "text/html": [
       "<div>\n",
       "<style scoped>\n",
       "    .dataframe tbody tr th:only-of-type {\n",
       "        vertical-align: middle;\n",
       "    }\n",
       "\n",
       "    .dataframe tbody tr th {\n",
       "        vertical-align: top;\n",
       "    }\n",
       "\n",
       "    .dataframe thead th {\n",
       "        text-align: right;\n",
       "    }\n",
       "</style>\n",
       "<table border=\"1\" class=\"dataframe\">\n",
       "  <thead>\n",
       "    <tr style=\"text-align: right;\">\n",
       "      <th></th>\n",
       "      <th>Wscore</th>\n",
       "      <th>Lscore</th>\n",
       "    </tr>\n",
       "  </thead>\n",
       "  <tbody>\n",
       "    <tr>\n",
       "      <th>0</th>\n",
       "      <td>81</td>\n",
       "      <td>64</td>\n",
       "    </tr>\n",
       "    <tr>\n",
       "      <th>1</th>\n",
       "      <td>77</td>\n",
       "      <td>70</td>\n",
       "    </tr>\n",
       "    <tr>\n",
       "      <th>2</th>\n",
       "      <td>63</td>\n",
       "      <td>56</td>\n",
       "    </tr>\n",
       "    <tr>\n",
       "      <th>3</th>\n",
       "      <td>70</td>\n",
       "      <td>54</td>\n",
       "    </tr>\n",
       "    <tr>\n",
       "      <th>4</th>\n",
       "      <td>86</td>\n",
       "      <td>74</td>\n",
       "    </tr>\n",
       "  </tbody>\n",
       "</table>\n",
       "</div>"
      ],
      "text/plain": [
       "   Wscore  Lscore\n",
       "0      81      64\n",
       "1      77      70\n",
       "2      63      56\n",
       "3      70      54\n",
       "4      86      74"
      ]
     },
     "execution_count": 38,
     "metadata": {},
     "output_type": "execute_result"
    }
   ],
   "source": [
    "df[['Wscore', 'Lscore']].head()"
   ]
  },
  {
   "attachments": {},
   "cell_type": "markdown",
   "metadata": {},
   "source": [
    "Notice that you can acheive the same result by using the loc function. Loc is a veryyyy versatile function that can help you in a lot of accessing and extracting tasks. "
   ]
  },
  {
   "cell_type": "code",
   "execution_count": 39,
   "metadata": {
    "collapsed": false
   },
   "outputs": [
    {
     "data": {
      "text/html": [
       "<div>\n",
       "<style scoped>\n",
       "    .dataframe tbody tr th:only-of-type {\n",
       "        vertical-align: middle;\n",
       "    }\n",
       "\n",
       "    .dataframe tbody tr th {\n",
       "        vertical-align: top;\n",
       "    }\n",
       "\n",
       "    .dataframe thead th {\n",
       "        text-align: right;\n",
       "    }\n",
       "</style>\n",
       "<table border=\"1\" class=\"dataframe\">\n",
       "  <thead>\n",
       "    <tr style=\"text-align: right;\">\n",
       "      <th></th>\n",
       "      <th>Wscore</th>\n",
       "      <th>Lscore</th>\n",
       "    </tr>\n",
       "  </thead>\n",
       "  <tbody>\n",
       "    <tr>\n",
       "      <th>0</th>\n",
       "      <td>81</td>\n",
       "      <td>64</td>\n",
       "    </tr>\n",
       "    <tr>\n",
       "      <th>1</th>\n",
       "      <td>77</td>\n",
       "      <td>70</td>\n",
       "    </tr>\n",
       "    <tr>\n",
       "      <th>2</th>\n",
       "      <td>63</td>\n",
       "      <td>56</td>\n",
       "    </tr>\n",
       "    <tr>\n",
       "      <th>3</th>\n",
       "      <td>70</td>\n",
       "      <td>54</td>\n",
       "    </tr>\n",
       "    <tr>\n",
       "      <th>4</th>\n",
       "      <td>86</td>\n",
       "      <td>74</td>\n",
       "    </tr>\n",
       "  </tbody>\n",
       "</table>\n",
       "</div>"
      ],
      "text/plain": [
       "   Wscore  Lscore\n",
       "0      81      64\n",
       "1      77      70\n",
       "2      63      56\n",
       "3      70      54\n",
       "4      86      74"
      ]
     },
     "execution_count": 39,
     "metadata": {},
     "output_type": "execute_result"
    }
   ],
   "source": [
    "df.loc[:, ['Wscore', 'Lscore']].head()"
   ]
  },
  {
   "attachments": {},
   "cell_type": "markdown",
   "metadata": {},
   "source": [
    "Note the difference is the return types when you use brackets and when you use double brackets. "
   ]
  },
  {
   "cell_type": "code",
   "execution_count": 40,
   "metadata": {
    "collapsed": false
   },
   "outputs": [
    {
     "data": {
      "text/plain": [
       "pandas.core.series.Series"
      ]
     },
     "execution_count": 40,
     "metadata": {},
     "output_type": "execute_result"
    }
   ],
   "source": [
    "type(df['Wscore'])"
   ]
  },
  {
   "cell_type": "code",
   "execution_count": 41,
   "metadata": {
    "collapsed": false
   },
   "outputs": [
    {
     "data": {
      "text/plain": [
       "pandas.core.frame.DataFrame"
      ]
     },
     "execution_count": 41,
     "metadata": {},
     "output_type": "execute_result"
    }
   ],
   "source": [
    "type(df[['Wscore']])"
   ]
  },
  {
   "attachments": {},
   "cell_type": "markdown",
   "metadata": {},
   "source": [
    "You've seen before that you can access columns through df['col name']. You can access rows by using slicing operations. "
   ]
  },
  {
   "cell_type": "code",
   "execution_count": 42,
   "metadata": {
    "collapsed": false
   },
   "outputs": [
    {
     "data": {
      "text/html": [
       "<div>\n",
       "<style scoped>\n",
       "    .dataframe tbody tr th:only-of-type {\n",
       "        vertical-align: middle;\n",
       "    }\n",
       "\n",
       "    .dataframe tbody tr th {\n",
       "        vertical-align: top;\n",
       "    }\n",
       "\n",
       "    .dataframe thead th {\n",
       "        text-align: right;\n",
       "    }\n",
       "</style>\n",
       "<table border=\"1\" class=\"dataframe\">\n",
       "  <thead>\n",
       "    <tr style=\"text-align: right;\">\n",
       "      <th></th>\n",
       "      <th>Season</th>\n",
       "      <th>Daynum</th>\n",
       "      <th>Wteam</th>\n",
       "      <th>Wscore</th>\n",
       "      <th>Lteam</th>\n",
       "      <th>Lscore</th>\n",
       "      <th>Wloc</th>\n",
       "      <th>Numot</th>\n",
       "    </tr>\n",
       "  </thead>\n",
       "  <tbody>\n",
       "    <tr>\n",
       "      <th>0</th>\n",
       "      <td>1985</td>\n",
       "      <td>20</td>\n",
       "      <td>1228</td>\n",
       "      <td>81</td>\n",
       "      <td>1328</td>\n",
       "      <td>64</td>\n",
       "      <td>N</td>\n",
       "      <td>0</td>\n",
       "    </tr>\n",
       "    <tr>\n",
       "      <th>1</th>\n",
       "      <td>1985</td>\n",
       "      <td>25</td>\n",
       "      <td>1106</td>\n",
       "      <td>77</td>\n",
       "      <td>1354</td>\n",
       "      <td>70</td>\n",
       "      <td>H</td>\n",
       "      <td>0</td>\n",
       "    </tr>\n",
       "    <tr>\n",
       "      <th>2</th>\n",
       "      <td>1985</td>\n",
       "      <td>25</td>\n",
       "      <td>1112</td>\n",
       "      <td>63</td>\n",
       "      <td>1223</td>\n",
       "      <td>56</td>\n",
       "      <td>H</td>\n",
       "      <td>0</td>\n",
       "    </tr>\n",
       "  </tbody>\n",
       "</table>\n",
       "</div>"
      ],
      "text/plain": [
       "   Season  Daynum  Wteam  Wscore  Lteam  Lscore Wloc  Numot\n",
       "0    1985      20   1228      81   1328      64    N      0\n",
       "1    1985      25   1106      77   1354      70    H      0\n",
       "2    1985      25   1112      63   1223      56    H      0"
      ]
     },
     "execution_count": 42,
     "metadata": {},
     "output_type": "execute_result"
    }
   ],
   "source": [
    "df[0:3]"
   ]
  },
  {
   "attachments": {},
   "cell_type": "markdown",
   "metadata": {},
   "source": [
    "Here's an equivalent using iloc"
   ]
  },
  {
   "cell_type": "code",
   "execution_count": 43,
   "metadata": {
    "collapsed": false
   },
   "outputs": [
    {
     "data": {
      "text/html": [
       "<div>\n",
       "<style scoped>\n",
       "    .dataframe tbody tr th:only-of-type {\n",
       "        vertical-align: middle;\n",
       "    }\n",
       "\n",
       "    .dataframe tbody tr th {\n",
       "        vertical-align: top;\n",
       "    }\n",
       "\n",
       "    .dataframe thead th {\n",
       "        text-align: right;\n",
       "    }\n",
       "</style>\n",
       "<table border=\"1\" class=\"dataframe\">\n",
       "  <thead>\n",
       "    <tr style=\"text-align: right;\">\n",
       "      <th></th>\n",
       "      <th>Season</th>\n",
       "      <th>Daynum</th>\n",
       "      <th>Wteam</th>\n",
       "      <th>Wscore</th>\n",
       "      <th>Lteam</th>\n",
       "      <th>Lscore</th>\n",
       "      <th>Wloc</th>\n",
       "      <th>Numot</th>\n",
       "    </tr>\n",
       "  </thead>\n",
       "  <tbody>\n",
       "    <tr>\n",
       "      <th>0</th>\n",
       "      <td>1985</td>\n",
       "      <td>20</td>\n",
       "      <td>1228</td>\n",
       "      <td>81</td>\n",
       "      <td>1328</td>\n",
       "      <td>64</td>\n",
       "      <td>N</td>\n",
       "      <td>0</td>\n",
       "    </tr>\n",
       "    <tr>\n",
       "      <th>1</th>\n",
       "      <td>1985</td>\n",
       "      <td>25</td>\n",
       "      <td>1106</td>\n",
       "      <td>77</td>\n",
       "      <td>1354</td>\n",
       "      <td>70</td>\n",
       "      <td>H</td>\n",
       "      <td>0</td>\n",
       "    </tr>\n",
       "    <tr>\n",
       "      <th>2</th>\n",
       "      <td>1985</td>\n",
       "      <td>25</td>\n",
       "      <td>1112</td>\n",
       "      <td>63</td>\n",
       "      <td>1223</td>\n",
       "      <td>56</td>\n",
       "      <td>H</td>\n",
       "      <td>0</td>\n",
       "    </tr>\n",
       "  </tbody>\n",
       "</table>\n",
       "</div>"
      ],
      "text/plain": [
       "   Season  Daynum  Wteam  Wscore  Lteam  Lscore Wloc  Numot\n",
       "0    1985      20   1228      81   1328      64    N      0\n",
       "1    1985      25   1106      77   1354      70    H      0\n",
       "2    1985      25   1112      63   1223      56    H      0"
      ]
     },
     "execution_count": 43,
     "metadata": {},
     "output_type": "execute_result"
    }
   ],
   "source": [
    "df.iloc[0:3,:]"
   ]
  },
  {
   "attachments": {},
   "cell_type": "markdown",
   "metadata": {},
   "source": [
    "# Data Cleaning"
   ]
  },
  {
   "attachments": {},
   "cell_type": "markdown",
   "metadata": {},
   "source": [
    "One of the big jobs of doing well in Kaggle competitions is that of data cleaning. A lot of times, the CSV file you're given (especially like in the Titanic dataset), you'll have a lot of missing values in the dataset, which you have to identify. The following **isnull** function will figure out if there are any missing values in the dataframe, and will then sum up the total for each column. In this case, we have a pretty clean dataset."
   ]
  },
  {
   "cell_type": "code",
   "execution_count": 44,
   "metadata": {
    "collapsed": false
   },
   "outputs": [
    {
     "data": {
      "text/plain": [
       "Season    0\n",
       "Daynum    0\n",
       "Wteam     0\n",
       "Wscore    0\n",
       "Lteam     0\n",
       "Lscore    0\n",
       "Wloc      0\n",
       "Numot     0\n",
       "dtype: int64"
      ]
     },
     "execution_count": 44,
     "metadata": {},
     "output_type": "execute_result"
    }
   ],
   "source": [
    "df.isnull().sum()"
   ]
  },
  {
   "attachments": {},
   "cell_type": "markdown",
   "metadata": {},
   "source": [
    "If you do end up having missing values in your datasets, be sure to get familiar with these two functions. \n",
    "* **dropna()** - This function allows you to drop all(or some) of the rows that have missing values. \n",
    "* **fillna()** - This function allows you replace the rows that have missing values with the value that you pass in."
   ]
  },
  {
   "attachments": {},
   "cell_type": "markdown",
   "metadata": {},
   "source": [
    "# Other Useful Functions"
   ]
  },
  {
   "attachments": {},
   "cell_type": "markdown",
   "metadata": {},
   "source": [
    "* **drop()** - This function removes the column or row that you pass in (You also have the specify the axis). \n",
    "* **agg()** - The aggregate function lets you compute summary statistics about each group\n",
    "* **apply()** - Lets you apply a specific function to any/all elements in a Dataframe or Series\n",
    "* **get_dummies()** - Helpful for turning categorical data into one hot vectors.\n",
    "* **drop_duplicates()** - Lets you remove identical rows"
   ]
  },
  {
   "attachments": {},
   "cell_type": "markdown",
   "metadata": {
    "collapsed": true
   },
   "source": [
    "# Lots of Other Great Resources"
   ]
  },
  {
   "attachments": {},
   "cell_type": "markdown",
   "metadata": {},
   "source": [
    "Pandas has been around for a while and there are a lot of other good resources if you're still interested on getting the most out of this library. \n",
    "* http://pandas.pydata.org/pandas-docs/stable/10min.html\n",
    "* https://www.datacamp.com/community/tutorials/pandas-tutorial-dataframe-python\n",
    "* http://www.gregreda.com/2013/10/26/intro-to-pandas-data-structures/\n",
    "* https://www.dataquest.io/blog/pandas-python-tutorial/\n",
    "* https://drive.google.com/file/d/0ByIrJAE4KMTtTUtiVExiUGVkRkE/view\n",
    "* https://www.youtube.com/playlist?list=PL5-da3qGB5ICCsgW1MxlZ0Hq8LL5U3u9y"
   ]
  }
 ],
 "metadata": {
  "anaconda-cloud": {},
  "kernelspec": {
   "display_name": "Python 3",
   "language": "python",
   "name": "python3"
  },
  "language_info": {
   "codemirror_mode": {
    "name": "ipython",
    "version": 3
   },
   "file_extension": ".py",
   "mimetype": "text/x-python",
   "name": "python",
   "nbconvert_exporter": "python",
   "pygments_lexer": "ipython3",
   "version": "3.10.4 (v3.10.4:9d38120e33, Mar 23 2022, 17:29:05) [Clang 13.0.0 (clang-1300.0.29.30)]"
  },
  "vscode": {
   "interpreter": {
    "hash": "aee8b7b246df8f9039afb4144a1f6fd8d2ca17a180786b69acc140d282b71a49"
   }
  }
 },
 "nbformat": 4,
 "nbformat_minor": 1
}
