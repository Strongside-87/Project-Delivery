{
 "cells": [
  {
   "attachments": {},
   "cell_type": "markdown",
   "metadata": {},
   "source": [
    "# Introduction"
   ]
  },
  {
   "attachments": {},
   "cell_type": "markdown",
   "metadata": {},
   "source": [
    "Hopefully, this short tutorial can show you a lot of different commands that will help you gain the most insights into your dataset. "
   ]
  },
  {
   "cell_type": "code",
   "execution_count": 1,
   "metadata": {
    "collapsed": true,
    "ExecuteTime": {
     "end_time": "2023-06-18T11:18:21.504052Z",
     "start_time": "2023-06-18T11:18:19.647780Z"
    }
   },
   "outputs": [],
   "source": [
    "import pandas as pd\n",
    "from src.utils import load_data_from_google_drive"
   ]
  },
  {
   "attachments": {},
   "cell_type": "markdown",
   "metadata": {},
   "source": [
    "# Loading in Data"
   ]
  },
  {
   "attachments": {},
   "cell_type": "markdown",
   "metadata": {},
   "source": [
    "The first step in any ML problem is identifying what format your data is in, and then loading it into whatever framework you're using. For Kaggle compeitions, a lot of data can be found in CSV files, so that's the example we're going to use. "
   ]
  },
  {
   "attachments": {},
   "cell_type": "markdown",
   "metadata": {},
   "source": [
    "We're going to be looking at a sports dataset that shows the results from NCAA basketball games from 1985 to 2016. This dataset is in a CSV file, and the function we're going to use to read in the file is called **pd.read_csv()**. This function returns a **dataframe** variable. The dataframe is the golden jewel data structure for Pandas. It is defined as \"a two-dimensional size-mutable, potentially heterogeneous tabular data structure with labeled axes (rows and columns)\"."
   ]
  },
  {
   "attachments": {},
   "cell_type": "markdown",
   "metadata": {},
   "source": [
    "Just think of it as a table for now. "
   ]
  },
  {
   "cell_type": "code",
   "execution_count": 2,
   "metadata": {
    "collapsed": false,
    "ExecuteTime": {
     "end_time": "2023-06-18T11:18:27.266114Z",
     "start_time": "2023-06-18T11:18:24.551550Z"
    }
   },
   "outputs": [],
   "source": [
    "df = load_data_from_google_drive(url='https://drive.google.com/file/d/184JcLbSpArA_uq0DgAv2k892KChJVPHt/view?usp=share_link')"
   ]
  },
  {
   "cell_type": "code",
   "execution_count": 3,
   "metadata": {
    "ExecuteTime": {
     "end_time": "2023-06-18T11:18:28.592104Z",
     "start_time": "2023-06-18T11:18:28.544326Z"
    }
   },
   "outputs": [
    {
     "data": {
      "text/plain": "        Season  Daynum  Wteam  Wscore  Lteam  Lscore Wloc  Numot\n0         1985      20   1228      81   1328      64    N      0\n1         1985      25   1106      77   1354      70    H      0\n2         1985      25   1112      63   1223      56    H      0\n3         1985      25   1165      70   1432      54    H      0\n4         1985      25   1192      86   1447      74    H      0\n...        ...     ...    ...     ...    ...     ...  ...    ...\n145284    2016     132   1114      70   1419      50    N      0\n145285    2016     132   1163      72   1272      58    N      0\n145286    2016     132   1246      82   1401      77    N      1\n145287    2016     132   1277      66   1345      62    N      0\n145288    2016     132   1386      87   1433      74    N      0\n\n[145289 rows x 8 columns]",
      "text/html": "<div>\n<style scoped>\n    .dataframe tbody tr th:only-of-type {\n        vertical-align: middle;\n    }\n\n    .dataframe tbody tr th {\n        vertical-align: top;\n    }\n\n    .dataframe thead th {\n        text-align: right;\n    }\n</style>\n<table border=\"1\" class=\"dataframe\">\n  <thead>\n    <tr style=\"text-align: right;\">\n      <th></th>\n      <th>Season</th>\n      <th>Daynum</th>\n      <th>Wteam</th>\n      <th>Wscore</th>\n      <th>Lteam</th>\n      <th>Lscore</th>\n      <th>Wloc</th>\n      <th>Numot</th>\n    </tr>\n  </thead>\n  <tbody>\n    <tr>\n      <th>0</th>\n      <td>1985</td>\n      <td>20</td>\n      <td>1228</td>\n      <td>81</td>\n      <td>1328</td>\n      <td>64</td>\n      <td>N</td>\n      <td>0</td>\n    </tr>\n    <tr>\n      <th>1</th>\n      <td>1985</td>\n      <td>25</td>\n      <td>1106</td>\n      <td>77</td>\n      <td>1354</td>\n      <td>70</td>\n      <td>H</td>\n      <td>0</td>\n    </tr>\n    <tr>\n      <th>2</th>\n      <td>1985</td>\n      <td>25</td>\n      <td>1112</td>\n      <td>63</td>\n      <td>1223</td>\n      <td>56</td>\n      <td>H</td>\n      <td>0</td>\n    </tr>\n    <tr>\n      <th>3</th>\n      <td>1985</td>\n      <td>25</td>\n      <td>1165</td>\n      <td>70</td>\n      <td>1432</td>\n      <td>54</td>\n      <td>H</td>\n      <td>0</td>\n    </tr>\n    <tr>\n      <th>4</th>\n      <td>1985</td>\n      <td>25</td>\n      <td>1192</td>\n      <td>86</td>\n      <td>1447</td>\n      <td>74</td>\n      <td>H</td>\n      <td>0</td>\n    </tr>\n    <tr>\n      <th>...</th>\n      <td>...</td>\n      <td>...</td>\n      <td>...</td>\n      <td>...</td>\n      <td>...</td>\n      <td>...</td>\n      <td>...</td>\n      <td>...</td>\n    </tr>\n    <tr>\n      <th>145284</th>\n      <td>2016</td>\n      <td>132</td>\n      <td>1114</td>\n      <td>70</td>\n      <td>1419</td>\n      <td>50</td>\n      <td>N</td>\n      <td>0</td>\n    </tr>\n    <tr>\n      <th>145285</th>\n      <td>2016</td>\n      <td>132</td>\n      <td>1163</td>\n      <td>72</td>\n      <td>1272</td>\n      <td>58</td>\n      <td>N</td>\n      <td>0</td>\n    </tr>\n    <tr>\n      <th>145286</th>\n      <td>2016</td>\n      <td>132</td>\n      <td>1246</td>\n      <td>82</td>\n      <td>1401</td>\n      <td>77</td>\n      <td>N</td>\n      <td>1</td>\n    </tr>\n    <tr>\n      <th>145287</th>\n      <td>2016</td>\n      <td>132</td>\n      <td>1277</td>\n      <td>66</td>\n      <td>1345</td>\n      <td>62</td>\n      <td>N</td>\n      <td>0</td>\n    </tr>\n    <tr>\n      <th>145288</th>\n      <td>2016</td>\n      <td>132</td>\n      <td>1386</td>\n      <td>87</td>\n      <td>1433</td>\n      <td>74</td>\n      <td>N</td>\n      <td>0</td>\n    </tr>\n  </tbody>\n</table>\n<p>145289 rows × 8 columns</p>\n</div>"
     },
     "execution_count": 3,
     "metadata": {},
     "output_type": "execute_result"
    }
   ],
   "source": [
    "df"
   ]
  },
  {
   "attachments": {},
   "cell_type": "markdown",
   "metadata": {},
   "source": [
    "# The Basics"
   ]
  },
  {
   "attachments": {},
   "cell_type": "markdown",
   "metadata": {},
   "source": [
    "Now that we have our dataframe in our variable df, let's look at what it contains. We can use the function **head()** to see the first couple rows of the dataframe (or the function **tail()** to see the last few rows)."
   ]
  },
  {
   "cell_type": "code",
   "execution_count": 4,
   "metadata": {
    "collapsed": false,
    "ExecuteTime": {
     "end_time": "2023-06-18T11:18:32.234153Z",
     "start_time": "2023-06-18T11:18:32.226920Z"
    }
   },
   "outputs": [
    {
     "data": {
      "text/plain": "   Season  Daynum  Wteam  Wscore  Lteam  Lscore Wloc  Numot\n0    1985      20   1228      81   1328      64    N      0\n1    1985      25   1106      77   1354      70    H      0\n2    1985      25   1112      63   1223      56    H      0\n3    1985      25   1165      70   1432      54    H      0\n4    1985      25   1192      86   1447      74    H      0",
      "text/html": "<div>\n<style scoped>\n    .dataframe tbody tr th:only-of-type {\n        vertical-align: middle;\n    }\n\n    .dataframe tbody tr th {\n        vertical-align: top;\n    }\n\n    .dataframe thead th {\n        text-align: right;\n    }\n</style>\n<table border=\"1\" class=\"dataframe\">\n  <thead>\n    <tr style=\"text-align: right;\">\n      <th></th>\n      <th>Season</th>\n      <th>Daynum</th>\n      <th>Wteam</th>\n      <th>Wscore</th>\n      <th>Lteam</th>\n      <th>Lscore</th>\n      <th>Wloc</th>\n      <th>Numot</th>\n    </tr>\n  </thead>\n  <tbody>\n    <tr>\n      <th>0</th>\n      <td>1985</td>\n      <td>20</td>\n      <td>1228</td>\n      <td>81</td>\n      <td>1328</td>\n      <td>64</td>\n      <td>N</td>\n      <td>0</td>\n    </tr>\n    <tr>\n      <th>1</th>\n      <td>1985</td>\n      <td>25</td>\n      <td>1106</td>\n      <td>77</td>\n      <td>1354</td>\n      <td>70</td>\n      <td>H</td>\n      <td>0</td>\n    </tr>\n    <tr>\n      <th>2</th>\n      <td>1985</td>\n      <td>25</td>\n      <td>1112</td>\n      <td>63</td>\n      <td>1223</td>\n      <td>56</td>\n      <td>H</td>\n      <td>0</td>\n    </tr>\n    <tr>\n      <th>3</th>\n      <td>1985</td>\n      <td>25</td>\n      <td>1165</td>\n      <td>70</td>\n      <td>1432</td>\n      <td>54</td>\n      <td>H</td>\n      <td>0</td>\n    </tr>\n    <tr>\n      <th>4</th>\n      <td>1985</td>\n      <td>25</td>\n      <td>1192</td>\n      <td>86</td>\n      <td>1447</td>\n      <td>74</td>\n      <td>H</td>\n      <td>0</td>\n    </tr>\n  </tbody>\n</table>\n</div>"
     },
     "execution_count": 4,
     "metadata": {},
     "output_type": "execute_result"
    }
   ],
   "source": [
    "df.head()"
   ]
  },
  {
   "cell_type": "code",
   "execution_count": 5,
   "metadata": {
    "collapsed": false,
    "ExecuteTime": {
     "end_time": "2023-06-18T11:18:35.062567Z",
     "start_time": "2023-06-18T11:18:35.027717Z"
    }
   },
   "outputs": [
    {
     "data": {
      "text/plain": "        Season  Daynum  Wteam  Wscore  Lteam  Lscore Wloc  Numot\n145284    2016     132   1114      70   1419      50    N      0\n145285    2016     132   1163      72   1272      58    N      0\n145286    2016     132   1246      82   1401      77    N      1\n145287    2016     132   1277      66   1345      62    N      0\n145288    2016     132   1386      87   1433      74    N      0",
      "text/html": "<div>\n<style scoped>\n    .dataframe tbody tr th:only-of-type {\n        vertical-align: middle;\n    }\n\n    .dataframe tbody tr th {\n        vertical-align: top;\n    }\n\n    .dataframe thead th {\n        text-align: right;\n    }\n</style>\n<table border=\"1\" class=\"dataframe\">\n  <thead>\n    <tr style=\"text-align: right;\">\n      <th></th>\n      <th>Season</th>\n      <th>Daynum</th>\n      <th>Wteam</th>\n      <th>Wscore</th>\n      <th>Lteam</th>\n      <th>Lscore</th>\n      <th>Wloc</th>\n      <th>Numot</th>\n    </tr>\n  </thead>\n  <tbody>\n    <tr>\n      <th>145284</th>\n      <td>2016</td>\n      <td>132</td>\n      <td>1114</td>\n      <td>70</td>\n      <td>1419</td>\n      <td>50</td>\n      <td>N</td>\n      <td>0</td>\n    </tr>\n    <tr>\n      <th>145285</th>\n      <td>2016</td>\n      <td>132</td>\n      <td>1163</td>\n      <td>72</td>\n      <td>1272</td>\n      <td>58</td>\n      <td>N</td>\n      <td>0</td>\n    </tr>\n    <tr>\n      <th>145286</th>\n      <td>2016</td>\n      <td>132</td>\n      <td>1246</td>\n      <td>82</td>\n      <td>1401</td>\n      <td>77</td>\n      <td>N</td>\n      <td>1</td>\n    </tr>\n    <tr>\n      <th>145287</th>\n      <td>2016</td>\n      <td>132</td>\n      <td>1277</td>\n      <td>66</td>\n      <td>1345</td>\n      <td>62</td>\n      <td>N</td>\n      <td>0</td>\n    </tr>\n    <tr>\n      <th>145288</th>\n      <td>2016</td>\n      <td>132</td>\n      <td>1386</td>\n      <td>87</td>\n      <td>1433</td>\n      <td>74</td>\n      <td>N</td>\n      <td>0</td>\n    </tr>\n  </tbody>\n</table>\n</div>"
     },
     "execution_count": 5,
     "metadata": {},
     "output_type": "execute_result"
    }
   ],
   "source": [
    "df.tail()"
   ]
  },
  {
   "attachments": {},
   "cell_type": "markdown",
   "metadata": {},
   "source": [
    "We can see the dimensions of the dataframe using the the **shape** attribute"
   ]
  },
  {
   "cell_type": "code",
   "execution_count": 6,
   "metadata": {
    "collapsed": false,
    "ExecuteTime": {
     "end_time": "2023-06-18T11:18:38.512943Z",
     "start_time": "2023-06-18T11:18:38.489579Z"
    }
   },
   "outputs": [
    {
     "data": {
      "text/plain": "(145289, 8)"
     },
     "execution_count": 6,
     "metadata": {},
     "output_type": "execute_result"
    }
   ],
   "source": [
    "df.shape"
   ]
  },
  {
   "attachments": {},
   "cell_type": "markdown",
   "metadata": {
    "collapsed": true
   },
   "source": [
    "We can also extract all the column names as a list, by using the **columns** attribute and can extract the rows with the **index** attribute"
   ]
  },
  {
   "cell_type": "code",
   "execution_count": 7,
   "metadata": {
    "collapsed": false,
    "ExecuteTime": {
     "end_time": "2023-06-18T11:18:40.551566Z",
     "start_time": "2023-06-18T11:18:40.529298Z"
    }
   },
   "outputs": [
    {
     "data": {
      "text/plain": "['Season', 'Daynum', 'Wteam', 'Wscore', 'Lteam', 'Lscore', 'Wloc', 'Numot']"
     },
     "execution_count": 7,
     "metadata": {},
     "output_type": "execute_result"
    }
   ],
   "source": [
    "df.columns.tolist()"
   ]
  },
  {
   "attachments": {},
   "cell_type": "markdown",
   "metadata": {},
   "source": [
    "In order to get a better idea of the type of data that we are dealing with, we can call the **describe()** function to see statistics like mean, min, etc about each column of the dataset. "
   ]
  },
  {
   "cell_type": "code",
   "execution_count": 8,
   "metadata": {
    "collapsed": false,
    "ExecuteTime": {
     "end_time": "2023-06-18T11:18:43.068051Z",
     "start_time": "2023-06-18T11:18:43.017946Z"
    }
   },
   "outputs": [
    {
     "data": {
      "text/plain": "              Season         Daynum          Wteam         Wscore  \\\ncount  145289.000000  145289.000000  145289.000000  145289.000000   \nmean     2001.574834      75.223816    1286.720646      76.600321   \nstd         9.233342      33.287418     104.570275      12.173033   \nmin      1985.000000       0.000000    1101.000000      34.000000   \n25%      1994.000000      47.000000    1198.000000      68.000000   \n50%      2002.000000      78.000000    1284.000000      76.000000   \n75%      2010.000000     103.000000    1379.000000      84.000000   \nmax      2016.000000     132.000000    1464.000000     186.000000   \n\n               Lteam         Lscore          Numot  \ncount  145289.000000  145289.000000  145289.000000  \nmean     1282.864064      64.497009       0.044387  \nstd       104.829234      11.380625       0.247819  \nmin      1101.000000      20.000000       0.000000  \n25%      1191.000000      57.000000       0.000000  \n50%      1280.000000      64.000000       0.000000  \n75%      1375.000000      72.000000       0.000000  \nmax      1464.000000     150.000000       6.000000  ",
      "text/html": "<div>\n<style scoped>\n    .dataframe tbody tr th:only-of-type {\n        vertical-align: middle;\n    }\n\n    .dataframe tbody tr th {\n        vertical-align: top;\n    }\n\n    .dataframe thead th {\n        text-align: right;\n    }\n</style>\n<table border=\"1\" class=\"dataframe\">\n  <thead>\n    <tr style=\"text-align: right;\">\n      <th></th>\n      <th>Season</th>\n      <th>Daynum</th>\n      <th>Wteam</th>\n      <th>Wscore</th>\n      <th>Lteam</th>\n      <th>Lscore</th>\n      <th>Numot</th>\n    </tr>\n  </thead>\n  <tbody>\n    <tr>\n      <th>count</th>\n      <td>145289.000000</td>\n      <td>145289.000000</td>\n      <td>145289.000000</td>\n      <td>145289.000000</td>\n      <td>145289.000000</td>\n      <td>145289.000000</td>\n      <td>145289.000000</td>\n    </tr>\n    <tr>\n      <th>mean</th>\n      <td>2001.574834</td>\n      <td>75.223816</td>\n      <td>1286.720646</td>\n      <td>76.600321</td>\n      <td>1282.864064</td>\n      <td>64.497009</td>\n      <td>0.044387</td>\n    </tr>\n    <tr>\n      <th>std</th>\n      <td>9.233342</td>\n      <td>33.287418</td>\n      <td>104.570275</td>\n      <td>12.173033</td>\n      <td>104.829234</td>\n      <td>11.380625</td>\n      <td>0.247819</td>\n    </tr>\n    <tr>\n      <th>min</th>\n      <td>1985.000000</td>\n      <td>0.000000</td>\n      <td>1101.000000</td>\n      <td>34.000000</td>\n      <td>1101.000000</td>\n      <td>20.000000</td>\n      <td>0.000000</td>\n    </tr>\n    <tr>\n      <th>25%</th>\n      <td>1994.000000</td>\n      <td>47.000000</td>\n      <td>1198.000000</td>\n      <td>68.000000</td>\n      <td>1191.000000</td>\n      <td>57.000000</td>\n      <td>0.000000</td>\n    </tr>\n    <tr>\n      <th>50%</th>\n      <td>2002.000000</td>\n      <td>78.000000</td>\n      <td>1284.000000</td>\n      <td>76.000000</td>\n      <td>1280.000000</td>\n      <td>64.000000</td>\n      <td>0.000000</td>\n    </tr>\n    <tr>\n      <th>75%</th>\n      <td>2010.000000</td>\n      <td>103.000000</td>\n      <td>1379.000000</td>\n      <td>84.000000</td>\n      <td>1375.000000</td>\n      <td>72.000000</td>\n      <td>0.000000</td>\n    </tr>\n    <tr>\n      <th>max</th>\n      <td>2016.000000</td>\n      <td>132.000000</td>\n      <td>1464.000000</td>\n      <td>186.000000</td>\n      <td>1464.000000</td>\n      <td>150.000000</td>\n      <td>6.000000</td>\n    </tr>\n  </tbody>\n</table>\n</div>"
     },
     "execution_count": 8,
     "metadata": {},
     "output_type": "execute_result"
    }
   ],
   "source": [
    "df.describe()"
   ]
  },
  {
   "attachments": {},
   "cell_type": "markdown",
   "metadata": {},
   "source": [
    "Okay, so now let's looking at information that we want to extract from the dataframe. Let's say I wanted to know the max value of a certain column. The function **max()** will show you the maximum values of all columns"
   ]
  },
  {
   "cell_type": "code",
   "execution_count": 9,
   "metadata": {
    "collapsed": false,
    "ExecuteTime": {
     "end_time": "2023-06-18T11:18:49.003354Z",
     "start_time": "2023-06-18T11:18:48.935424Z"
    }
   },
   "outputs": [
    {
     "data": {
      "text/plain": "Season    2016\nDaynum     132\nWteam     1464\nWscore     186\nLteam     1464\nLscore     150\nWloc         N\nNumot        6\ndtype: object"
     },
     "execution_count": 9,
     "metadata": {},
     "output_type": "execute_result"
    }
   ],
   "source": [
    "df.max()"
   ]
  },
  {
   "attachments": {},
   "cell_type": "markdown",
   "metadata": {},
   "source": [
    "Then, if you'd like to specifically get the max value for a particular column, you pass in the name of the column using the bracket indexing operator"
   ]
  },
  {
   "cell_type": "code",
   "execution_count": 10,
   "metadata": {
    "collapsed": false,
    "ExecuteTime": {
     "end_time": "2023-06-18T11:18:51.606245Z",
     "start_time": "2023-06-18T11:18:51.568753Z"
    }
   },
   "outputs": [
    {
     "data": {
      "text/plain": "186"
     },
     "execution_count": 10,
     "metadata": {},
     "output_type": "execute_result"
    }
   ],
   "source": [
    "df['Wscore'].max()"
   ]
  },
  {
   "attachments": {},
   "cell_type": "markdown",
   "metadata": {},
   "source": [
    "If you'd like to find the mean of the Losing teams' score. "
   ]
  },
  {
   "cell_type": "code",
   "execution_count": 11,
   "metadata": {
    "collapsed": false,
    "ExecuteTime": {
     "end_time": "2023-06-18T11:18:53.084235Z",
     "start_time": "2023-06-18T11:18:53.062670Z"
    }
   },
   "outputs": [
    {
     "data": {
      "text/plain": "64.49700940883343"
     },
     "execution_count": 11,
     "metadata": {},
     "output_type": "execute_result"
    }
   ],
   "source": [
    "df['Lscore'].mean()"
   ]
  },
  {
   "attachments": {},
   "cell_type": "markdown",
   "metadata": {},
   "source": [
    "But what if that's not enough? Let's say we want to actually see the game(row) where this max score happened. We can call the **argmax()** function to identify the row index"
   ]
  },
  {
   "cell_type": "code",
   "execution_count": 12,
   "metadata": {
    "collapsed": false,
    "ExecuteTime": {
     "end_time": "2023-06-18T11:18:55.243451Z",
     "start_time": "2023-06-18T11:18:55.220862Z"
    }
   },
   "outputs": [
    {
     "data": {
      "text/plain": "24970"
     },
     "execution_count": 12,
     "metadata": {},
     "output_type": "execute_result"
    }
   ],
   "source": [
    "df['Wscore'].argmax()"
   ]
  },
  {
   "attachments": {},
   "cell_type": "markdown",
   "metadata": {},
   "source": [
    "One of the most useful functions that you can call on certain columns in a dataframe is the **value_counts()** function. It shows how many times each item appears in the column. This particular command shows the number of games in each season"
   ]
  },
  {
   "cell_type": "code",
   "execution_count": 13,
   "metadata": {
    "collapsed": false,
    "ExecuteTime": {
     "end_time": "2023-06-18T11:18:57.056185Z",
     "start_time": "2023-06-18T11:18:57.037069Z"
    }
   },
   "outputs": [
    {
     "data": {
      "text/plain": "2016    5369\n2014    5362\n2015    5354\n2013    5320\n2010    5263\n2012    5253\n2009    5249\n2011    5246\n2008    5163\n2007    5043\n2006    4757\n2005    4675\n2003    4616\n2004    4571\n2002    4555\n2000    4519\n2001    4467\n1999    4222\n1998    4167\n1997    4155\n1992    4127\n1991    4123\n1996    4122\n1995    4077\n1994    4060\n1990    4045\n1989    4037\n1993    3982\n1988    3955\n1987    3915\n1986    3783\n1985    3737\nName: Season, dtype: int64"
     },
     "execution_count": 13,
     "metadata": {},
     "output_type": "execute_result"
    }
   ],
   "source": [
    "df['Season'].value_counts()"
   ]
  },
  {
   "attachments": {},
   "cell_type": "markdown",
   "metadata": {},
   "source": [
    "**Q**: How many unique seasons are there in the dataset? Use the nunique() function."
   ]
  },
  {
   "cell_type": "code",
   "execution_count": 14,
   "metadata": {
    "ExecuteTime": {
     "end_time": "2023-06-18T11:19:36.698233Z",
     "start_time": "2023-06-18T11:19:36.682268Z"
    }
   },
   "outputs": [
    {
     "data": {
      "text/plain": "32"
     },
     "execution_count": 14,
     "metadata": {},
     "output_type": "execute_result"
    }
   ],
   "source": [
    "df['Season'].nunique()\n"
   ]
  },
  {
   "attachments": {},
   "cell_type": "markdown",
   "metadata": {},
   "source": [
    "**Q**: Find the team with the most wins. Use the value_counts() function on the Wteam column."
   ]
  },
  {
   "cell_type": "code",
   "execution_count": 15,
   "metadata": {
    "ExecuteTime": {
     "end_time": "2023-06-18T11:19:45.425451Z",
     "start_time": "2023-06-18T11:19:45.408027Z"
    }
   },
   "outputs": [
    {
     "data": {
      "text/plain": "1181    819\n1242    804\n1246    765\n1314    761\n1112    746\n       ... \n1101     18\n1446     14\n1118      6\n1289      6\n1327      3\nName: Wteam, Length: 364, dtype: int64"
     },
     "execution_count": 15,
     "metadata": {},
     "output_type": "execute_result"
    }
   ],
   "source": [
    "df['Wteam'].value_counts()"
   ]
  },
  {
   "attachments": {},
   "cell_type": "markdown",
   "metadata": {},
   "source": [
    "# Acessing Values"
   ]
  },
  {
   "attachments": {},
   "cell_type": "markdown",
   "metadata": {},
   "source": [
    "Then, in order to get attributes about the game, we need to use the **iloc[]** function. Iloc is definitely one of the more important functions. The main idea is that you want to use it whenever you have the integer index of a certain row that you want to access. As per Pandas documentation, iloc is an \"integer-location based indexing for selection by position.\""
   ]
  },
  {
   "cell_type": "code",
   "execution_count": 16,
   "metadata": {
    "collapsed": false,
    "ExecuteTime": {
     "end_time": "2023-06-18T11:20:08.698516Z",
     "start_time": "2023-06-18T11:20:08.675458Z"
    }
   },
   "outputs": [
    {
     "data": {
      "text/plain": "       Season  Daynum  Wteam  Wscore  Lteam  Lscore Wloc  Numot\n24970    1991      68   1258     186   1109     140    H      0",
      "text/html": "<div>\n<style scoped>\n    .dataframe tbody tr th:only-of-type {\n        vertical-align: middle;\n    }\n\n    .dataframe tbody tr th {\n        vertical-align: top;\n    }\n\n    .dataframe thead th {\n        text-align: right;\n    }\n</style>\n<table border=\"1\" class=\"dataframe\">\n  <thead>\n    <tr style=\"text-align: right;\">\n      <th></th>\n      <th>Season</th>\n      <th>Daynum</th>\n      <th>Wteam</th>\n      <th>Wscore</th>\n      <th>Lteam</th>\n      <th>Lscore</th>\n      <th>Wloc</th>\n      <th>Numot</th>\n    </tr>\n  </thead>\n  <tbody>\n    <tr>\n      <th>24970</th>\n      <td>1991</td>\n      <td>68</td>\n      <td>1258</td>\n      <td>186</td>\n      <td>1109</td>\n      <td>140</td>\n      <td>H</td>\n      <td>0</td>\n    </tr>\n  </tbody>\n</table>\n</div>"
     },
     "execution_count": 16,
     "metadata": {},
     "output_type": "execute_result"
    }
   ],
   "source": [
    "df.iloc[[df['Wscore'].argmax()]]"
   ]
  },
  {
   "attachments": {},
   "cell_type": "markdown",
   "metadata": {},
   "source": [
    "Let's take this a step further. Let's say you want to know the game with the highest scoring winning team (this is what we just calculated), but you then want to know how many points the losing team scored. "
   ]
  },
  {
   "cell_type": "code",
   "execution_count": 17,
   "metadata": {
    "collapsed": false,
    "ExecuteTime": {
     "end_time": "2023-06-18T11:20:11.509732Z",
     "start_time": "2023-06-18T11:20:11.472350Z"
    }
   },
   "outputs": [
    {
     "data": {
      "text/plain": "24970    140\nName: Lscore, dtype: int64"
     },
     "execution_count": 17,
     "metadata": {},
     "output_type": "execute_result"
    }
   ],
   "source": [
    "df.iloc[[df['Wscore'].argmax()]]['Lscore']"
   ]
  },
  {
   "attachments": {},
   "cell_type": "markdown",
   "metadata": {},
   "source": [
    "When you see data displayed in the above format, you're dealing with a Pandas **Series** object, not a dataframe object."
   ]
  },
  {
   "cell_type": "code",
   "execution_count": 18,
   "metadata": {
    "collapsed": false,
    "ExecuteTime": {
     "end_time": "2023-06-18T11:20:13.504575Z",
     "start_time": "2023-06-18T11:20:13.483093Z"
    }
   },
   "outputs": [
    {
     "data": {
      "text/plain": "pandas.core.series.Series"
     },
     "execution_count": 18,
     "metadata": {},
     "output_type": "execute_result"
    }
   ],
   "source": [
    "type(df.iloc[[df['Wscore'].argmax()]]['Lscore'])"
   ]
  },
  {
   "cell_type": "code",
   "execution_count": 20,
   "metadata": {
    "collapsed": false,
    "ExecuteTime": {
     "end_time": "2023-06-18T11:20:34.325736Z",
     "start_time": "2023-06-18T11:20:34.315520Z"
    }
   },
   "outputs": [
    {
     "data": {
      "text/plain": "pandas.core.frame.DataFrame"
     },
     "execution_count": 20,
     "metadata": {},
     "output_type": "execute_result"
    }
   ],
   "source": [
    "type(df.iloc[[df['Wscore'].argmax()]])"
   ]
  },
  {
   "attachments": {},
   "cell_type": "markdown",
   "metadata": {},
   "source": [
    "The following is a summary of the 3 data structures in Pandas (Haven't ever really used Panels yet)\n",
    "\n",
    "![](DataStructures.png)"
   ]
  },
  {
   "attachments": {},
   "cell_type": "markdown",
   "metadata": {},
   "source": [
    "When you want to access values in a Series, you'll want to just treat the Series like a Python dictionary, so you'd access the value according to its key (which is normally an integer index)"
   ]
  },
  {
   "cell_type": "code",
   "execution_count": 19,
   "metadata": {
    "collapsed": false,
    "ExecuteTime": {
     "end_time": "2023-06-18T11:20:28.610323Z",
     "start_time": "2023-06-18T11:20:28.568863Z"
    }
   },
   "outputs": [
    {
     "data": {
      "text/plain": "140"
     },
     "execution_count": 19,
     "metadata": {},
     "output_type": "execute_result"
    }
   ],
   "source": [
    "df.iloc[[df['Wscore'].argmax()]]['Lscore'][24970]"
   ]
  },
  {
   "attachments": {},
   "cell_type": "markdown",
   "metadata": {},
   "source": [
    "The other really important function in Pandas is the **loc** function. Contrary to iloc, which is an integer based indexing, loc is a \"Purely label-location based indexer for selection by label\". Since all the games are ordered from 0 to 145288, iloc and loc are going to be pretty interchangable in this type of dataset"
   ]
  },
  {
   "cell_type": "code",
   "execution_count": 21,
   "metadata": {
    "collapsed": false,
    "ExecuteTime": {
     "end_time": "2023-06-18T11:20:38.477908Z",
     "start_time": "2023-06-18T11:20:38.470641Z"
    }
   },
   "outputs": [
    {
     "data": {
      "text/plain": "   Season  Daynum  Wteam  Wscore  Lteam  Lscore Wloc  Numot\n0    1985      20   1228      81   1328      64    N      0\n1    1985      25   1106      77   1354      70    H      0\n2    1985      25   1112      63   1223      56    H      0",
      "text/html": "<div>\n<style scoped>\n    .dataframe tbody tr th:only-of-type {\n        vertical-align: middle;\n    }\n\n    .dataframe tbody tr th {\n        vertical-align: top;\n    }\n\n    .dataframe thead th {\n        text-align: right;\n    }\n</style>\n<table border=\"1\" class=\"dataframe\">\n  <thead>\n    <tr style=\"text-align: right;\">\n      <th></th>\n      <th>Season</th>\n      <th>Daynum</th>\n      <th>Wteam</th>\n      <th>Wscore</th>\n      <th>Lteam</th>\n      <th>Lscore</th>\n      <th>Wloc</th>\n      <th>Numot</th>\n    </tr>\n  </thead>\n  <tbody>\n    <tr>\n      <th>0</th>\n      <td>1985</td>\n      <td>20</td>\n      <td>1228</td>\n      <td>81</td>\n      <td>1328</td>\n      <td>64</td>\n      <td>N</td>\n      <td>0</td>\n    </tr>\n    <tr>\n      <th>1</th>\n      <td>1985</td>\n      <td>25</td>\n      <td>1106</td>\n      <td>77</td>\n      <td>1354</td>\n      <td>70</td>\n      <td>H</td>\n      <td>0</td>\n    </tr>\n    <tr>\n      <th>2</th>\n      <td>1985</td>\n      <td>25</td>\n      <td>1112</td>\n      <td>63</td>\n      <td>1223</td>\n      <td>56</td>\n      <td>H</td>\n      <td>0</td>\n    </tr>\n  </tbody>\n</table>\n</div>"
     },
     "execution_count": 21,
     "metadata": {},
     "output_type": "execute_result"
    }
   ],
   "source": [
    "df.iloc[:3]"
   ]
  },
  {
   "cell_type": "code",
   "execution_count": 22,
   "metadata": {
    "collapsed": false,
    "ExecuteTime": {
     "end_time": "2023-06-18T11:20:40.025721Z",
     "start_time": "2023-06-18T11:20:39.992550Z"
    }
   },
   "outputs": [
    {
     "data": {
      "text/plain": "   Season  Daynum  Wteam  Wscore  Lteam  Lscore Wloc  Numot\n0    1985      20   1228      81   1328      64    N      0\n1    1985      25   1106      77   1354      70    H      0\n2    1985      25   1112      63   1223      56    H      0\n3    1985      25   1165      70   1432      54    H      0",
      "text/html": "<div>\n<style scoped>\n    .dataframe tbody tr th:only-of-type {\n        vertical-align: middle;\n    }\n\n    .dataframe tbody tr th {\n        vertical-align: top;\n    }\n\n    .dataframe thead th {\n        text-align: right;\n    }\n</style>\n<table border=\"1\" class=\"dataframe\">\n  <thead>\n    <tr style=\"text-align: right;\">\n      <th></th>\n      <th>Season</th>\n      <th>Daynum</th>\n      <th>Wteam</th>\n      <th>Wscore</th>\n      <th>Lteam</th>\n      <th>Lscore</th>\n      <th>Wloc</th>\n      <th>Numot</th>\n    </tr>\n  </thead>\n  <tbody>\n    <tr>\n      <th>0</th>\n      <td>1985</td>\n      <td>20</td>\n      <td>1228</td>\n      <td>81</td>\n      <td>1328</td>\n      <td>64</td>\n      <td>N</td>\n      <td>0</td>\n    </tr>\n    <tr>\n      <th>1</th>\n      <td>1985</td>\n      <td>25</td>\n      <td>1106</td>\n      <td>77</td>\n      <td>1354</td>\n      <td>70</td>\n      <td>H</td>\n      <td>0</td>\n    </tr>\n    <tr>\n      <th>2</th>\n      <td>1985</td>\n      <td>25</td>\n      <td>1112</td>\n      <td>63</td>\n      <td>1223</td>\n      <td>56</td>\n      <td>H</td>\n      <td>0</td>\n    </tr>\n    <tr>\n      <th>3</th>\n      <td>1985</td>\n      <td>25</td>\n      <td>1165</td>\n      <td>70</td>\n      <td>1432</td>\n      <td>54</td>\n      <td>H</td>\n      <td>0</td>\n    </tr>\n  </tbody>\n</table>\n</div>"
     },
     "execution_count": 22,
     "metadata": {},
     "output_type": "execute_result"
    }
   ],
   "source": [
    "df.loc[:3]"
   ]
  },
  {
   "attachments": {},
   "cell_type": "markdown",
   "metadata": {},
   "source": [
    "Notice the slight difference in that iloc is exclusive of the second number, while loc is inclusive. "
   ]
  },
  {
   "attachments": {},
   "cell_type": "markdown",
   "metadata": {},
   "source": [
    "Below is an example of how you can use loc to acheive the same task as we did previously with iloc"
   ]
  },
  {
   "cell_type": "code",
   "execution_count": 23,
   "metadata": {
    "collapsed": false,
    "ExecuteTime": {
     "end_time": "2023-06-18T11:20:44.204135Z",
     "start_time": "2023-06-18T11:20:44.166815Z"
    }
   },
   "outputs": [
    {
     "data": {
      "text/plain": "140"
     },
     "execution_count": 23,
     "metadata": {},
     "output_type": "execute_result"
    }
   ],
   "source": [
    "df.loc[df['Wscore'].argmax(), 'Lscore']"
   ]
  },
  {
   "attachments": {},
   "cell_type": "markdown",
   "metadata": {},
   "source": [
    "A faster version uses the **at()** function. At() is really useful wheneever you know the row label and the column label of the particular value that you want to get. "
   ]
  },
  {
   "cell_type": "code",
   "execution_count": 24,
   "metadata": {
    "collapsed": false,
    "ExecuteTime": {
     "end_time": "2023-06-18T11:20:47.303840Z",
     "start_time": "2023-06-18T11:20:47.279770Z"
    }
   },
   "outputs": [
    {
     "data": {
      "text/plain": "140"
     },
     "execution_count": 24,
     "metadata": {},
     "output_type": "execute_result"
    }
   ],
   "source": [
    "df.at[df['Wscore'].argmax(), 'Lscore']"
   ]
  },
  {
   "attachments": {},
   "cell_type": "markdown",
   "metadata": {},
   "source": [
    "If you'd like to see more discussion on how loc and iloc are different, check out this great Stack Overflow post: http://stackoverflow.com/questions/31593201/pandas-iloc-vs-ix-vs-loc-explanation. Just remember that **iloc looks at position** and **loc looks at labels**. Loc becomes very important when your row labels aren't integers. "
   ]
  },
  {
   "attachments": {},
   "cell_type": "markdown",
   "metadata": {},
   "source": [
    "# Sorting"
   ]
  },
  {
   "attachments": {},
   "cell_type": "markdown",
   "metadata": {},
   "source": [
    "Let's say that we want to sort the dataframe in increasing order for the scores of the losing team"
   ]
  },
  {
   "cell_type": "code",
   "execution_count": 25,
   "metadata": {
    "collapsed": false,
    "scrolled": true,
    "ExecuteTime": {
     "end_time": "2023-06-18T11:20:55.879695Z",
     "start_time": "2023-06-18T11:20:55.792187Z"
    }
   },
   "outputs": [
    {
     "data": {
      "text/plain": "        Season  Daynum  Wteam  Wscore  Lteam  Lscore Wloc  Numot\n100027    2008      66   1203      49   1387      20    H      0\n49310     1997      66   1157      61   1204      21    H      0\n89021     2006      44   1284      41   1343      21    A      0\n85042     2005      66   1131      73   1216      22    H      0\n103660    2009      26   1326      59   1359      22    H      0",
      "text/html": "<div>\n<style scoped>\n    .dataframe tbody tr th:only-of-type {\n        vertical-align: middle;\n    }\n\n    .dataframe tbody tr th {\n        vertical-align: top;\n    }\n\n    .dataframe thead th {\n        text-align: right;\n    }\n</style>\n<table border=\"1\" class=\"dataframe\">\n  <thead>\n    <tr style=\"text-align: right;\">\n      <th></th>\n      <th>Season</th>\n      <th>Daynum</th>\n      <th>Wteam</th>\n      <th>Wscore</th>\n      <th>Lteam</th>\n      <th>Lscore</th>\n      <th>Wloc</th>\n      <th>Numot</th>\n    </tr>\n  </thead>\n  <tbody>\n    <tr>\n      <th>100027</th>\n      <td>2008</td>\n      <td>66</td>\n      <td>1203</td>\n      <td>49</td>\n      <td>1387</td>\n      <td>20</td>\n      <td>H</td>\n      <td>0</td>\n    </tr>\n    <tr>\n      <th>49310</th>\n      <td>1997</td>\n      <td>66</td>\n      <td>1157</td>\n      <td>61</td>\n      <td>1204</td>\n      <td>21</td>\n      <td>H</td>\n      <td>0</td>\n    </tr>\n    <tr>\n      <th>89021</th>\n      <td>2006</td>\n      <td>44</td>\n      <td>1284</td>\n      <td>41</td>\n      <td>1343</td>\n      <td>21</td>\n      <td>A</td>\n      <td>0</td>\n    </tr>\n    <tr>\n      <th>85042</th>\n      <td>2005</td>\n      <td>66</td>\n      <td>1131</td>\n      <td>73</td>\n      <td>1216</td>\n      <td>22</td>\n      <td>H</td>\n      <td>0</td>\n    </tr>\n    <tr>\n      <th>103660</th>\n      <td>2009</td>\n      <td>26</td>\n      <td>1326</td>\n      <td>59</td>\n      <td>1359</td>\n      <td>22</td>\n      <td>H</td>\n      <td>0</td>\n    </tr>\n  </tbody>\n</table>\n</div>"
     },
     "execution_count": 25,
     "metadata": {},
     "output_type": "execute_result"
    }
   ],
   "source": [
    "df.sort_values('Lscore').head()"
   ]
  },
  {
   "attachments": {},
   "cell_type": "markdown",
   "metadata": {},
   "source": [
    "**Q**: Make three dataframes that are sorted by season, winning team, and winning score respectively. Then, Using iloc, select the rows from index 100 to 200 and the columns for season, winning team, and winning score, respectively. "
   ]
  },
  {
   "cell_type": "code",
   "execution_count": 28,
   "metadata": {
    "ExecuteTime": {
     "end_time": "2023-06-18T11:31:33.231114Z",
     "start_time": "2023-06-18T11:31:33.178498Z"
    }
   },
   "outputs": [
    {
     "data": {
      "text/plain": "     Season  Wscore  Wteam\n100    1985      86   1409\n101    1985      90   1444\n102    1985      89   1451\n103    1985      78   1139\n104    1985      78   1154",
      "text/html": "<div>\n<style scoped>\n    .dataframe tbody tr th:only-of-type {\n        vertical-align: middle;\n    }\n\n    .dataframe tbody tr th {\n        vertical-align: top;\n    }\n\n    .dataframe thead th {\n        text-align: right;\n    }\n</style>\n<table border=\"1\" class=\"dataframe\">\n  <thead>\n    <tr style=\"text-align: right;\">\n      <th></th>\n      <th>Season</th>\n      <th>Wscore</th>\n      <th>Wteam</th>\n    </tr>\n  </thead>\n  <tbody>\n    <tr>\n      <th>100</th>\n      <td>1985</td>\n      <td>86</td>\n      <td>1409</td>\n    </tr>\n    <tr>\n      <th>101</th>\n      <td>1985</td>\n      <td>90</td>\n      <td>1444</td>\n    </tr>\n    <tr>\n      <th>102</th>\n      <td>1985</td>\n      <td>89</td>\n      <td>1451</td>\n    </tr>\n    <tr>\n      <th>103</th>\n      <td>1985</td>\n      <td>78</td>\n      <td>1139</td>\n    </tr>\n    <tr>\n      <th>104</th>\n      <td>1985</td>\n      <td>78</td>\n      <td>1154</td>\n    </tr>\n  </tbody>\n</table>\n</div>"
     },
     "execution_count": 28,
     "metadata": {},
     "output_type": "execute_result"
    }
   ],
   "source": [
    "#Sorted by:\n",
    "\n",
    "#Season\n",
    "df_season = df.sort_values('Season')\n",
    "\n",
    "#Winning team\n",
    "df_winning_team =df.sort_values('Wteam')\n",
    "\n",
    "#Winning score\n",
    "df_winning_score = df.sort_values('Wscore')\n",
    "\n",
    "#index 100-200 by using iloc\n",
    "data_index = df.iloc[100:201, [0,3,2]]\n",
    "data_index.head()"
   ]
  },
  {
   "attachments": {},
   "cell_type": "markdown",
   "metadata": {},
   "source": [
    "**Q**: From these three subsets you obtained above, find the season and winning team for the game with the highest winning score."
   ]
  },
  {
   "cell_type": "code",
   "execution_count": 33,
   "metadata": {
    "ExecuteTime": {
     "end_time": "2023-06-18T12:33:49.902438Z",
     "start_time": "2023-06-18T12:33:49.893747Z"
    }
   },
   "outputs": [
    {
     "name": "stdout",
     "output_type": "stream",
     "text": [
      "Season: 1991\n",
      "The winning team is: 1258\n",
      "The winnig score of the winning team: 186\n"
     ]
    }
   ],
   "source": [
    "#The row with highest wining score(row_hws)\n",
    "import pandas as pd\n",
    "max_score_row = df[df['Wscore'] == df['Wscore'].max()]\n",
    "\n",
    "print(\"Season:\", max_score_row['Season'].values[0])\n",
    "print(\"The winning team is:\", max_score_row['Wteam'].values[0])\n",
    "print(\"The winnig score of the winning team:\",max_score_row['Wscore'].values[0])\n",
    "\n"
   ]
  },
  {
   "attachments": {},
   "cell_type": "markdown",
   "metadata": {},
   "source": [
    "# Filtering Rows Conditionally"
   ]
  },
  {
   "attachments": {},
   "cell_type": "markdown",
   "metadata": {},
   "source": [
    "Now, let's say we want to find all of the rows that satisy a particular condition. For example, I want to find all of the games where the winning team scored more than 150 points. The idea behind this command is you want to access the column 'Wscore' of the dataframe df (df['Wscore']), find which entries are above 150 (df['Wscore'] > 150), and then returns only those specific rows in a dataframe format (df[df['Wscore'] > 150])."
   ]
  },
  {
   "cell_type": "code",
   "execution_count": 34,
   "metadata": {
    "collapsed": false,
    "ExecuteTime": {
     "end_time": "2023-06-18T12:34:47.241182Z",
     "start_time": "2023-06-18T12:34:47.214647Z"
    }
   },
   "outputs": [
    {
     "data": {
      "text/plain": "       Season  Daynum  Wteam  Wscore  Lteam  Lscore Wloc  Numot\n5269     1986      75   1258     151   1109     107    H      0\n12046    1988      40   1328     152   1147      84    H      0\n12355    1988      52   1328     151   1173      99    N      0\n16040    1989      40   1328     152   1331     122    H      0\n16853    1989      68   1258     162   1109     144    A      0\n17867    1989      92   1258     181   1109     150    H      0\n19653    1990      30   1328     173   1109     101    H      0\n19971    1990      38   1258     152   1109     137    A      0\n20022    1990      40   1116     166   1109     101    H      0\n22145    1990      97   1258     157   1362     115    H      0\n23582    1991      26   1318     152   1258     123    N      0\n24341    1991      47   1328     172   1258     112    H      0\n24970    1991      68   1258     186   1109     140    H      0\n25656    1991      84   1106     151   1212      97    H      0\n28687    1992      54   1261     159   1319      86    H      0\n35023    1993     112   1380     155   1341      91    A      0\n40060    1995      32   1375     156   1341     114    H      0\n52600    1998      33   1395     153   1410      87    H      0",
      "text/html": "<div>\n<style scoped>\n    .dataframe tbody tr th:only-of-type {\n        vertical-align: middle;\n    }\n\n    .dataframe tbody tr th {\n        vertical-align: top;\n    }\n\n    .dataframe thead th {\n        text-align: right;\n    }\n</style>\n<table border=\"1\" class=\"dataframe\">\n  <thead>\n    <tr style=\"text-align: right;\">\n      <th></th>\n      <th>Season</th>\n      <th>Daynum</th>\n      <th>Wteam</th>\n      <th>Wscore</th>\n      <th>Lteam</th>\n      <th>Lscore</th>\n      <th>Wloc</th>\n      <th>Numot</th>\n    </tr>\n  </thead>\n  <tbody>\n    <tr>\n      <th>5269</th>\n      <td>1986</td>\n      <td>75</td>\n      <td>1258</td>\n      <td>151</td>\n      <td>1109</td>\n      <td>107</td>\n      <td>H</td>\n      <td>0</td>\n    </tr>\n    <tr>\n      <th>12046</th>\n      <td>1988</td>\n      <td>40</td>\n      <td>1328</td>\n      <td>152</td>\n      <td>1147</td>\n      <td>84</td>\n      <td>H</td>\n      <td>0</td>\n    </tr>\n    <tr>\n      <th>12355</th>\n      <td>1988</td>\n      <td>52</td>\n      <td>1328</td>\n      <td>151</td>\n      <td>1173</td>\n      <td>99</td>\n      <td>N</td>\n      <td>0</td>\n    </tr>\n    <tr>\n      <th>16040</th>\n      <td>1989</td>\n      <td>40</td>\n      <td>1328</td>\n      <td>152</td>\n      <td>1331</td>\n      <td>122</td>\n      <td>H</td>\n      <td>0</td>\n    </tr>\n    <tr>\n      <th>16853</th>\n      <td>1989</td>\n      <td>68</td>\n      <td>1258</td>\n      <td>162</td>\n      <td>1109</td>\n      <td>144</td>\n      <td>A</td>\n      <td>0</td>\n    </tr>\n    <tr>\n      <th>17867</th>\n      <td>1989</td>\n      <td>92</td>\n      <td>1258</td>\n      <td>181</td>\n      <td>1109</td>\n      <td>150</td>\n      <td>H</td>\n      <td>0</td>\n    </tr>\n    <tr>\n      <th>19653</th>\n      <td>1990</td>\n      <td>30</td>\n      <td>1328</td>\n      <td>173</td>\n      <td>1109</td>\n      <td>101</td>\n      <td>H</td>\n      <td>0</td>\n    </tr>\n    <tr>\n      <th>19971</th>\n      <td>1990</td>\n      <td>38</td>\n      <td>1258</td>\n      <td>152</td>\n      <td>1109</td>\n      <td>137</td>\n      <td>A</td>\n      <td>0</td>\n    </tr>\n    <tr>\n      <th>20022</th>\n      <td>1990</td>\n      <td>40</td>\n      <td>1116</td>\n      <td>166</td>\n      <td>1109</td>\n      <td>101</td>\n      <td>H</td>\n      <td>0</td>\n    </tr>\n    <tr>\n      <th>22145</th>\n      <td>1990</td>\n      <td>97</td>\n      <td>1258</td>\n      <td>157</td>\n      <td>1362</td>\n      <td>115</td>\n      <td>H</td>\n      <td>0</td>\n    </tr>\n    <tr>\n      <th>23582</th>\n      <td>1991</td>\n      <td>26</td>\n      <td>1318</td>\n      <td>152</td>\n      <td>1258</td>\n      <td>123</td>\n      <td>N</td>\n      <td>0</td>\n    </tr>\n    <tr>\n      <th>24341</th>\n      <td>1991</td>\n      <td>47</td>\n      <td>1328</td>\n      <td>172</td>\n      <td>1258</td>\n      <td>112</td>\n      <td>H</td>\n      <td>0</td>\n    </tr>\n    <tr>\n      <th>24970</th>\n      <td>1991</td>\n      <td>68</td>\n      <td>1258</td>\n      <td>186</td>\n      <td>1109</td>\n      <td>140</td>\n      <td>H</td>\n      <td>0</td>\n    </tr>\n    <tr>\n      <th>25656</th>\n      <td>1991</td>\n      <td>84</td>\n      <td>1106</td>\n      <td>151</td>\n      <td>1212</td>\n      <td>97</td>\n      <td>H</td>\n      <td>0</td>\n    </tr>\n    <tr>\n      <th>28687</th>\n      <td>1992</td>\n      <td>54</td>\n      <td>1261</td>\n      <td>159</td>\n      <td>1319</td>\n      <td>86</td>\n      <td>H</td>\n      <td>0</td>\n    </tr>\n    <tr>\n      <th>35023</th>\n      <td>1993</td>\n      <td>112</td>\n      <td>1380</td>\n      <td>155</td>\n      <td>1341</td>\n      <td>91</td>\n      <td>A</td>\n      <td>0</td>\n    </tr>\n    <tr>\n      <th>40060</th>\n      <td>1995</td>\n      <td>32</td>\n      <td>1375</td>\n      <td>156</td>\n      <td>1341</td>\n      <td>114</td>\n      <td>H</td>\n      <td>0</td>\n    </tr>\n    <tr>\n      <th>52600</th>\n      <td>1998</td>\n      <td>33</td>\n      <td>1395</td>\n      <td>153</td>\n      <td>1410</td>\n      <td>87</td>\n      <td>H</td>\n      <td>0</td>\n    </tr>\n  </tbody>\n</table>\n</div>"
     },
     "execution_count": 34,
     "metadata": {},
     "output_type": "execute_result"
    }
   ],
   "source": [
    "df[df['Wscore'] > 150]"
   ]
  },
  {
   "attachments": {},
   "cell_type": "markdown",
   "metadata": {},
   "source": [
    "This also works if you have multiple conditions. Let's say we want to find out when the winning team scores more than 150 points and when the losing team scores below 100. "
   ]
  },
  {
   "cell_type": "code",
   "execution_count": 35,
   "metadata": {
    "collapsed": false,
    "ExecuteTime": {
     "end_time": "2023-06-18T12:34:51.927787Z",
     "start_time": "2023-06-18T12:34:51.903097Z"
    }
   },
   "outputs": [
    {
     "data": {
      "text/plain": "       Season  Daynum  Wteam  Wscore  Lteam  Lscore Wloc  Numot\n12046    1988      40   1328     152   1147      84    H      0\n12355    1988      52   1328     151   1173      99    N      0\n25656    1991      84   1106     151   1212      97    H      0\n28687    1992      54   1261     159   1319      86    H      0\n35023    1993     112   1380     155   1341      91    A      0\n52600    1998      33   1395     153   1410      87    H      0",
      "text/html": "<div>\n<style scoped>\n    .dataframe tbody tr th:only-of-type {\n        vertical-align: middle;\n    }\n\n    .dataframe tbody tr th {\n        vertical-align: top;\n    }\n\n    .dataframe thead th {\n        text-align: right;\n    }\n</style>\n<table border=\"1\" class=\"dataframe\">\n  <thead>\n    <tr style=\"text-align: right;\">\n      <th></th>\n      <th>Season</th>\n      <th>Daynum</th>\n      <th>Wteam</th>\n      <th>Wscore</th>\n      <th>Lteam</th>\n      <th>Lscore</th>\n      <th>Wloc</th>\n      <th>Numot</th>\n    </tr>\n  </thead>\n  <tbody>\n    <tr>\n      <th>12046</th>\n      <td>1988</td>\n      <td>40</td>\n      <td>1328</td>\n      <td>152</td>\n      <td>1147</td>\n      <td>84</td>\n      <td>H</td>\n      <td>0</td>\n    </tr>\n    <tr>\n      <th>12355</th>\n      <td>1988</td>\n      <td>52</td>\n      <td>1328</td>\n      <td>151</td>\n      <td>1173</td>\n      <td>99</td>\n      <td>N</td>\n      <td>0</td>\n    </tr>\n    <tr>\n      <th>25656</th>\n      <td>1991</td>\n      <td>84</td>\n      <td>1106</td>\n      <td>151</td>\n      <td>1212</td>\n      <td>97</td>\n      <td>H</td>\n      <td>0</td>\n    </tr>\n    <tr>\n      <th>28687</th>\n      <td>1992</td>\n      <td>54</td>\n      <td>1261</td>\n      <td>159</td>\n      <td>1319</td>\n      <td>86</td>\n      <td>H</td>\n      <td>0</td>\n    </tr>\n    <tr>\n      <th>35023</th>\n      <td>1993</td>\n      <td>112</td>\n      <td>1380</td>\n      <td>155</td>\n      <td>1341</td>\n      <td>91</td>\n      <td>A</td>\n      <td>0</td>\n    </tr>\n    <tr>\n      <th>52600</th>\n      <td>1998</td>\n      <td>33</td>\n      <td>1395</td>\n      <td>153</td>\n      <td>1410</td>\n      <td>87</td>\n      <td>H</td>\n      <td>0</td>\n    </tr>\n  </tbody>\n</table>\n</div>"
     },
     "execution_count": 35,
     "metadata": {},
     "output_type": "execute_result"
    }
   ],
   "source": [
    "df[(df['Wscore'] > 150) & (df['Lscore'] < 100)]"
   ]
  },
  {
   "attachments": {},
   "cell_type": "markdown",
   "metadata": {},
   "source": [
    "**Q**: Create a new column in the DataFrame called 'ScoreDifference' which is the absolute difference between the winning score and the losing score. Filter the DataFrame to only include games where the 'ScoreDifference' is greater than the average 'ScoreDifference' for all games."
   ]
  },
  {
   "cell_type": "code",
   "execution_count": 38,
   "metadata": {
    "ExecuteTime": {
     "end_time": "2023-06-18T13:12:23.456391Z",
     "start_time": "2023-06-18T13:12:23.399864Z"
    }
   },
   "outputs": [
    {
     "data": {
      "text/plain": "        Season  Daynum  Wteam  Wscore  Lteam  Lscore Wloc  Numot  \\\n0         1985      20   1228      81   1328      64    N      0   \n3         1985      25   1165      70   1432      54    H      0   \n6         1985      25   1228      64   1226      44    N      0   \n8         1985      25   1260      98   1133      80    H      0   \n10        1985      25   1307     103   1288      71    H      0   \n...        ...     ...    ...     ...    ...     ...  ...    ...   \n145280    2016     131   1401      71   1261      38    N      0   \n145282    2016     131   1433      76   1172      54    N      0   \n145284    2016     132   1114      70   1419      50    N      0   \n145285    2016     132   1163      72   1272      58    N      0   \n145288    2016     132   1386      87   1433      74    N      0   \n\n        ScoreDifference  \n0                    17  \n3                    16  \n6                    20  \n8                    18  \n10                   32  \n...                 ...  \n145280               33  \n145282               22  \n145284               20  \n145285               14  \n145288               13  \n\n[57227 rows x 9 columns]",
      "text/html": "<div>\n<style scoped>\n    .dataframe tbody tr th:only-of-type {\n        vertical-align: middle;\n    }\n\n    .dataframe tbody tr th {\n        vertical-align: top;\n    }\n\n    .dataframe thead th {\n        text-align: right;\n    }\n</style>\n<table border=\"1\" class=\"dataframe\">\n  <thead>\n    <tr style=\"text-align: right;\">\n      <th></th>\n      <th>Season</th>\n      <th>Daynum</th>\n      <th>Wteam</th>\n      <th>Wscore</th>\n      <th>Lteam</th>\n      <th>Lscore</th>\n      <th>Wloc</th>\n      <th>Numot</th>\n      <th>ScoreDifference</th>\n    </tr>\n  </thead>\n  <tbody>\n    <tr>\n      <th>0</th>\n      <td>1985</td>\n      <td>20</td>\n      <td>1228</td>\n      <td>81</td>\n      <td>1328</td>\n      <td>64</td>\n      <td>N</td>\n      <td>0</td>\n      <td>17</td>\n    </tr>\n    <tr>\n      <th>3</th>\n      <td>1985</td>\n      <td>25</td>\n      <td>1165</td>\n      <td>70</td>\n      <td>1432</td>\n      <td>54</td>\n      <td>H</td>\n      <td>0</td>\n      <td>16</td>\n    </tr>\n    <tr>\n      <th>6</th>\n      <td>1985</td>\n      <td>25</td>\n      <td>1228</td>\n      <td>64</td>\n      <td>1226</td>\n      <td>44</td>\n      <td>N</td>\n      <td>0</td>\n      <td>20</td>\n    </tr>\n    <tr>\n      <th>8</th>\n      <td>1985</td>\n      <td>25</td>\n      <td>1260</td>\n      <td>98</td>\n      <td>1133</td>\n      <td>80</td>\n      <td>H</td>\n      <td>0</td>\n      <td>18</td>\n    </tr>\n    <tr>\n      <th>10</th>\n      <td>1985</td>\n      <td>25</td>\n      <td>1307</td>\n      <td>103</td>\n      <td>1288</td>\n      <td>71</td>\n      <td>H</td>\n      <td>0</td>\n      <td>32</td>\n    </tr>\n    <tr>\n      <th>...</th>\n      <td>...</td>\n      <td>...</td>\n      <td>...</td>\n      <td>...</td>\n      <td>...</td>\n      <td>...</td>\n      <td>...</td>\n      <td>...</td>\n      <td>...</td>\n    </tr>\n    <tr>\n      <th>145280</th>\n      <td>2016</td>\n      <td>131</td>\n      <td>1401</td>\n      <td>71</td>\n      <td>1261</td>\n      <td>38</td>\n      <td>N</td>\n      <td>0</td>\n      <td>33</td>\n    </tr>\n    <tr>\n      <th>145282</th>\n      <td>2016</td>\n      <td>131</td>\n      <td>1433</td>\n      <td>76</td>\n      <td>1172</td>\n      <td>54</td>\n      <td>N</td>\n      <td>0</td>\n      <td>22</td>\n    </tr>\n    <tr>\n      <th>145284</th>\n      <td>2016</td>\n      <td>132</td>\n      <td>1114</td>\n      <td>70</td>\n      <td>1419</td>\n      <td>50</td>\n      <td>N</td>\n      <td>0</td>\n      <td>20</td>\n    </tr>\n    <tr>\n      <th>145285</th>\n      <td>2016</td>\n      <td>132</td>\n      <td>1163</td>\n      <td>72</td>\n      <td>1272</td>\n      <td>58</td>\n      <td>N</td>\n      <td>0</td>\n      <td>14</td>\n    </tr>\n    <tr>\n      <th>145288</th>\n      <td>2016</td>\n      <td>132</td>\n      <td>1386</td>\n      <td>87</td>\n      <td>1433</td>\n      <td>74</td>\n      <td>N</td>\n      <td>0</td>\n      <td>13</td>\n    </tr>\n  </tbody>\n</table>\n<p>57227 rows × 9 columns</p>\n</div>"
     },
     "execution_count": 38,
     "metadata": {},
     "output_type": "execute_result"
    }
   ],
   "source": [
    "#The column\n",
    "df['ScoreDifference'] = abs(df['Wscore'] - df['Lscore'])\n",
    "\n",
    "#Averge for alle games\n",
    "average_difference = df['ScoreDifference'].mean()\n",
    "\n",
    "#Filters the dataframe\n",
    "filtered_df = df[df['ScoreDifference'] > average_difference]\n",
    "\n",
    "#Prints the result\n",
    "filtered_df"
   ]
  },
  {
   "attachments": {},
   "cell_type": "markdown",
   "metadata": {},
   "source": [
    "**Q**: From this filtered DataFrame, find the season and teams involved in the game with the highest 'ScoreDifference'."
   ]
  },
  {
   "cell_type": "code",
   "execution_count": 41,
   "metadata": {
    "ExecuteTime": {
     "end_time": "2023-06-18T13:22:31.669699Z",
     "start_time": "2023-06-18T13:22:31.649017Z"
    }
   },
   "outputs": [
    {
     "name": "stdout",
     "output_type": "stream",
     "text": [
      "Season: 1996\n",
      "Wining Team: 1409\n",
      "Losing team: 1341\n"
     ]
    }
   ],
   "source": [
    "max_diff_row = filtered_df[filtered_df['ScoreDifference'] == filtered_df['ScoreDifference'].max()]\n",
    "\n",
    "print(\"Season:\", max_diff_row['Season'].values[0])\n",
    "print(\"Wining Team:\", max_diff_row['Wteam'].values[0])\n",
    "print(\"Losing team:\", max_diff_row['Lteam'].values[0])\n"
   ]
  },
  {
   "attachments": {},
   "cell_type": "markdown",
   "metadata": {},
   "source": [
    "# Grouping"
   ]
  },
  {
   "attachments": {},
   "cell_type": "markdown",
   "metadata": {},
   "source": [
    "Another important function in Pandas is **groupby()**. This is a function that allows you to group entries by certain attributes (e.g Grouping entries by Wteam number) and then perform operations on them. The following function groups all the entries (games) with the same Wteam number and finds the mean for each group. "
   ]
  },
  {
   "cell_type": "code",
   "execution_count": 42,
   "metadata": {
    "collapsed": false,
    "ExecuteTime": {
     "end_time": "2023-06-18T13:23:03.300290Z",
     "start_time": "2023-06-18T13:23:03.255225Z"
    }
   },
   "outputs": [
    {
     "data": {
      "text/plain": "Wteam\n1101    78.111111\n1102    69.893204\n1103    75.839768\n1104    75.825944\n1105    74.960894\nName: Wscore, dtype: float64"
     },
     "execution_count": 42,
     "metadata": {},
     "output_type": "execute_result"
    }
   ],
   "source": [
    "df.groupby('Wteam')['Wscore'].mean().head()"
   ]
  },
  {
   "attachments": {},
   "cell_type": "markdown",
   "metadata": {},
   "source": [
    "This next command groups all the games with the same Wteam number and finds where how many times that specific team won at home, on the road, or at a neutral site"
   ]
  },
  {
   "cell_type": "code",
   "execution_count": 43,
   "metadata": {
    "collapsed": false,
    "scrolled": false,
    "ExecuteTime": {
     "end_time": "2023-06-18T13:23:09.478435Z",
     "start_time": "2023-06-18T13:23:09.411655Z"
    }
   },
   "outputs": [
    {
     "data": {
      "text/plain": "Wteam  Wloc\n1101   H        12\n       A         3\n       N         3\n1102   H       204\n       A        73\n       N        32\n1103   H       324\n       A       153\n       N        41\nName: Wloc, dtype: int64"
     },
     "execution_count": 43,
     "metadata": {},
     "output_type": "execute_result"
    }
   ],
   "source": [
    "df.groupby('Wteam')['Wloc'].value_counts().head(9)"
   ]
  },
  {
   "attachments": {},
   "cell_type": "markdown",
   "metadata": {},
   "source": [
    "Each dataframe has a **values** attribute which is useful because it basically displays your dataframe in a numpy array style format"
   ]
  },
  {
   "cell_type": "code",
   "execution_count": 44,
   "metadata": {
    "collapsed": false,
    "ExecuteTime": {
     "end_time": "2023-06-18T13:23:13.720877Z",
     "start_time": "2023-06-18T13:23:13.688670Z"
    }
   },
   "outputs": [
    {
     "data": {
      "text/plain": "array([[1985, 20, 1228, ..., 'N', 0, 17],\n       [1985, 25, 1106, ..., 'H', 0, 7],\n       [1985, 25, 1112, ..., 'H', 0, 7],\n       ...,\n       [2016, 132, 1246, ..., 'N', 1, 5],\n       [2016, 132, 1277, ..., 'N', 0, 4],\n       [2016, 132, 1386, ..., 'N', 0, 13]], dtype=object)"
     },
     "execution_count": 44,
     "metadata": {},
     "output_type": "execute_result"
    }
   ],
   "source": [
    "df.values"
   ]
  },
  {
   "attachments": {},
   "cell_type": "markdown",
   "metadata": {},
   "source": [
    "Now, you can simply just access elements like you would in an array. "
   ]
  },
  {
   "cell_type": "code",
   "execution_count": 45,
   "metadata": {
    "collapsed": false,
    "ExecuteTime": {
     "end_time": "2023-06-18T13:23:18.458103Z",
     "start_time": "2023-06-18T13:23:18.389628Z"
    }
   },
   "outputs": [
    {
     "data": {
      "text/plain": "1985"
     },
     "execution_count": 45,
     "metadata": {},
     "output_type": "execute_result"
    }
   ],
   "source": [
    "df.values[0][0]"
   ]
  },
  {
   "attachments": {},
   "cell_type": "markdown",
   "metadata": {},
   "source": [
    "**Q**: Group the DataFrame by season and find the average winning score for each season."
   ]
  },
  {
   "cell_type": "code",
   "execution_count": 47,
   "metadata": {
    "ExecuteTime": {
     "end_time": "2023-06-19T06:53:34.207195Z",
     "start_time": "2023-06-19T06:53:34.142941Z"
    }
   },
   "outputs": [
    {
     "name": "stdout",
     "output_type": "stream",
     "text": [
      "Season\n",
      "1985    74.723040\n",
      "1986    74.813640\n",
      "1987    77.993870\n",
      "1988    79.773704\n",
      "1989    81.728511\n",
      "1990    80.846477\n",
      "1991    82.733932\n",
      "1992    79.992004\n",
      "1993    79.508790\n",
      "1994    81.160345\n",
      "1995    80.096149\n",
      "1996    78.205483\n",
      "1997    76.300842\n",
      "1998    77.229902\n",
      "1999    76.043581\n",
      "2000    76.310467\n",
      "2001    77.088650\n",
      "2002    76.963557\n",
      "2003    75.795061\n",
      "2004    74.971122\n",
      "2005    74.693690\n",
      "2006    74.587555\n",
      "2007    74.829467\n",
      "2008    74.962425\n",
      "2009    74.033721\n",
      "2010    74.652480\n",
      "2011    74.374190\n",
      "2012    73.379973\n",
      "2013    72.840789\n",
      "2014    76.101268\n",
      "2015    72.680799\n",
      "2016    78.295958\n",
      "Name: Wscore, dtype: float64\n"
     ]
    }
   ],
   "source": [
    "#Grouped by season\n",
    "season_group = df.groupby('Season')\n",
    "\n",
    "#Average winning score for each season and printing the result\n",
    "average_wscore = season_group['Wscore'].mean()\n",
    "print(average_wscore)"
   ]
  },
  {
   "attachments": {},
   "cell_type": "markdown",
   "metadata": {},
   "source": [
    "**Q**: Group the DataFrame by winning team and find the maximum winning score for each team across all seasons."
   ]
  },
  {
   "cell_type": "code",
   "execution_count": 48,
   "metadata": {
    "ExecuteTime": {
     "end_time": "2023-06-19T07:04:08.594749Z",
     "start_time": "2023-06-19T07:04:08.554518Z"
    }
   },
   "outputs": [
    {
     "name": "stdout",
     "output_type": "stream",
     "text": [
      "Wteam\n",
      "1101     95\n",
      "1102    111\n",
      "1103    109\n",
      "1104    114\n",
      "1105    114\n",
      "       ... \n",
      "1460    136\n",
      "1461    112\n",
      "1462    125\n",
      "1463    105\n",
      "1464    115\n",
      "Name: Wscore, Length: 364, dtype: int64\n"
     ]
    }
   ],
   "source": [
    "#Grouped by Winning Team\n",
    "team_group = df.groupby('Wteam')\n",
    "\n",
    "#The max winning score for each team and printing the result\n",
    "max_wscore = team_group['Wscore'].max()\n",
    "print(max_wscore)\n"
   ]
  },
  {
   "attachments": {},
   "cell_type": "markdown",
   "metadata": {},
   "source": [
    "**Q**: Group the DataFrame by both season and winning team. Find the team with the highest average winning score for each season."
   ]
  },
  {
   "cell_type": "code",
   "execution_count": 51,
   "metadata": {
    "ExecuteTime": {
     "end_time": "2023-06-19T07:14:03.501197Z",
     "start_time": "2023-06-19T07:14:03.453198Z"
    }
   },
   "outputs": [
    {
     "name": "stdout",
     "output_type": "stream",
     "text": [
      "Season\n",
      "1985    (1985, 1328)\n",
      "1986    (1986, 1109)\n",
      "1987    (1987, 1380)\n",
      "1988    (1988, 1258)\n",
      "1989    (1989, 1258)\n",
      "1990    (1990, 1258)\n",
      "1991    (1991, 1380)\n",
      "1992    (1992, 1380)\n",
      "1993    (1993, 1380)\n",
      "1994    (1994, 1380)\n",
      "1995    (1995, 1206)\n",
      "1996    (1996, 1206)\n",
      "1997    (1997, 1254)\n",
      "1998    (1998, 1395)\n",
      "1999    (1999, 1317)\n",
      "2000    (2000, 1395)\n",
      "2001    (2001, 1395)\n",
      "2002    (2002, 1242)\n",
      "2003    (2003, 1395)\n",
      "2004    (2004, 1194)\n",
      "2005    (2005, 1311)\n",
      "2006    (2006, 1190)\n",
      "2007    (2007, 1440)\n",
      "2008    (2008, 1440)\n",
      "2009    (2009, 1377)\n",
      "2010    (2010, 1440)\n",
      "2011    (2011, 1449)\n",
      "2012    (2012, 1370)\n",
      "2013    (2013, 1377)\n",
      "2014    (2014, 1322)\n",
      "2015    (2015, 1322)\n",
      "2016    (2016, 1146)\n",
      "Name: Wscore, dtype: object\n"
     ]
    }
   ],
   "source": [
    "#Grouped by Season  and winning Team\n",
    "group_df = df.groupby(['Season','Wteam'])\n",
    "\n",
    "#Average score for individual teams\n",
    "average_scores = group_df['Wscore'].mean()\n",
    "\n",
    "#Team with the highest average score and the result\n",
    "team_with_highest_average_score = average_scores.groupby('Season').idxmax()\n",
    "print(team_with_highest_average_score)"
   ]
  },
  {
   "attachments": {},
   "cell_type": "markdown",
   "metadata": {},
   "source": [
    "**Q**: Create a new DataFrame that counts the number of wins for each team in each season. This will involve grouping by both season and winning team, and then using the count() function."
   ]
  },
  {
   "cell_type": "code",
   "execution_count": 54,
   "metadata": {
    "ExecuteTime": {
     "end_time": "2023-06-19T12:24:36.910107Z",
     "start_time": "2023-06-19T12:24:36.870610Z"
    }
   },
   "outputs": [
    {
     "name": "stdout",
     "output_type": "stream",
     "text": [
      "       Season  Wteam  Wins\n",
      "0        1985   1102     5\n",
      "1        1985   1103     9\n",
      "2        1985   1104    21\n",
      "3        1985   1106    10\n",
      "4        1985   1108    19\n",
      "...       ...    ...   ...\n",
      "10167    2016   1460    20\n",
      "10168    2016   1461    12\n",
      "10169    2016   1462    27\n",
      "10170    2016   1463    21\n",
      "10171    2016   1464     9\n",
      "\n",
      "[10172 rows x 3 columns]\n"
     ]
    }
   ],
   "source": [
    "#I use the same grouping as in the task above\n",
    "group_df = df.groupby(['Season','Wteam'])\n",
    "\n",
    "#new column that has correct values and counts the number of wins per season\n",
    "season_wins = group_df['Wscore'].count().reset_index(name = \"Wins\")\n",
    "#result\n",
    "print(season_wins)"
   ]
  },
  {
   "attachments": {},
   "cell_type": "markdown",
   "metadata": {},
   "source": [
    "**Q**: For each season, find the team with the most wins. This will involve creating a DataFrame similar to the one in task 5, and then using the idxmax() function for each season."
   ]
  },
  {
   "cell_type": "code",
   "execution_count": 67,
   "metadata": {
    "ExecuteTime": {
     "end_time": "2023-06-19T13:18:13.137083Z",
     "start_time": "2023-06-19T13:18:13.095953Z"
    }
   },
   "outputs": [
    {
     "name": "stdout",
     "output_type": "stream",
     "text": [
      "        Wteam  Wins\n",
      "Season             \n",
      "1985      281   217\n",
      "1986      563   342\n",
      "1987      852   818\n",
      "1988     1142   861\n",
      "1989     1435  1323\n",
      "1990     1727  1551\n",
      "1991     2022  1739\n",
      "1992     2319  2088\n",
      "1993     2616  2423\n",
      "1994     2917  2665\n",
      "1995     3218  2928\n",
      "1996     3522  3357\n",
      "1997     3827  3638\n",
      "1998     4133  3943\n",
      "1999     4442  4201\n",
      "2000     4758  4709\n",
      "2001     5076  4829\n",
      "2002     5397  5121\n",
      "2003     5724  5456\n",
      "2004     6050  5981\n",
      "2005     6379  6165\n",
      "2006     6713  6452\n",
      "2007     7049  6841\n",
      "2008     7390  7209\n",
      "2009     7737  7552\n",
      "2010     8084  7870\n",
      "2011     8429  8217\n",
      "2012     8774  8565\n",
      "2013     9120  8878\n",
      "2014     9471  9462\n",
      "2015     9820  9609\n",
      "2016    10171  9955\n"
     ]
    }
   ],
   "source": [
    "#I use the same structure as the above two tasks\n",
    "#First grouping\n",
    "group_df = df.groupby(['Season','Wteam'])\n",
    "\n",
    "# Make a new column for the wins per season\n",
    "season_wins = group_df['Wscore'].count().reset_index(name = \"Wins\")\n",
    "\n",
    "#Findt the most winning team\n",
    "team_most_wins = season_wins.groupby('Season').idxmax()\n",
    "\n",
    "#result\n",
    "print(team_most_wins)\n"
   ]
  },
  {
   "attachments": {},
   "cell_type": "markdown",
   "metadata": {},
   "source": [
    "**Q**: Group the DataFrame by losing team and find the average losing score for each team across all seasons. Compare this with the average winning score for each team from task 3. Are there teams that have a higher average losing score than winning score?"
   ]
  },
  {
   "cell_type": "code",
   "execution_count": 71,
   "metadata": {
    "ExecuteTime": {
     "end_time": "2023-06-19T14:10:11.656687Z",
     "start_time": "2023-06-19T14:10:11.632219Z"
    }
   },
   "outputs": [
    {
     "name": "stdout",
     "output_type": "stream",
     "text": [
      "Empty DataFrame\n",
      "Columns: [Lteam, Lscore, Wteam, Wscore]\n",
      "Index: []\n"
     ]
    }
   ],
   "source": [
    "#Finds the average for all the losing teams.\n",
    "losing_group =df.groupby('Lteam')\n",
    "average_loss_score = losing_group['Lscore'].mean()\n",
    "\n",
    "#Finds the average for all the winning teams.\n",
    "winning_group = df.groupby('Wteam')\n",
    "average_win_score = winning_group['Wscore'].mean()\n",
    "\n",
    "#Merge the two datasets\n",
    "comparison = pd.merge(average_loss_score.reset_index(), average_win_score.reset_index(), left_on = 'Lteam', right_on='Wteam', suffixes=('_loss', '_win'))\n",
    "\n",
    "#Losing teams that have a higher average score than the winning teams' average score\n",
    "higher_losing_average = comparison[comparison['Lscore'] > comparison['Wscore']]\n",
    "\n",
    "#result\n",
    "print(higher_losing_average)"
   ]
  },
  {
   "attachments": {},
   "cell_type": "markdown",
   "metadata": {},
   "source": [
    "# Dataframe Iteration"
   ]
  },
  {
   "attachments": {},
   "cell_type": "markdown",
   "metadata": {},
   "source": [
    "In order to iterate through dataframes, we can use the **iterrows()** function. Below is an example of what the first two rows look like. Each row in iterrows is a Series object"
   ]
  },
  {
   "cell_type": "code",
   "execution_count": 72,
   "metadata": {
    "collapsed": false,
    "ExecuteTime": {
     "end_time": "2023-06-19T14:12:13.976128Z",
     "start_time": "2023-06-19T14:12:13.873323Z"
    }
   },
   "outputs": [
    {
     "name": "stdout",
     "output_type": "stream",
     "text": [
      "Season             1985\n",
      "Daynum               20\n",
      "Wteam              1228\n",
      "Wscore               81\n",
      "Lteam              1328\n",
      "Lscore               64\n",
      "Wloc                  N\n",
      "Numot                 0\n",
      "ScoreDifference      17\n",
      "Name: 0, dtype: object\n",
      "Season             1985\n",
      "Daynum               25\n",
      "Wteam              1106\n",
      "Wscore               77\n",
      "Lteam              1354\n",
      "Lscore               70\n",
      "Wloc                  H\n",
      "Numot                 0\n",
      "ScoreDifference       7\n",
      "Name: 1, dtype: object\n"
     ]
    }
   ],
   "source": [
    "for index, row in df.iterrows():\n",
    "    print(row)\n",
    "    if index == 1:\n",
    "        break"
   ]
  },
  {
   "attachments": {},
   "cell_type": "markdown",
   "metadata": {},
   "source": [
    "**Q**: Create a new column 'HighScoringGame' that is 'Yes' if the winning score is greater than 100 and 'No' otherwise. This will require iterating over the rows of the DataFrame and checking the value of the winning score for each row."
   ]
  },
  {
   "cell_type": "code",
   "execution_count": 74,
   "metadata": {
    "ExecuteTime": {
     "end_time": "2023-06-19T14:35:44.976213Z",
     "start_time": "2023-06-19T14:34:27.028796Z"
    }
   },
   "outputs": [
    {
     "data": {
      "text/plain": "        Season  Daynum  Wteam  Wscore  Lteam  Lscore Wloc  Numot  \\\n0         1985      20   1228      81   1328      64    N      0   \n1         1985      25   1106      77   1354      70    H      0   \n2         1985      25   1112      63   1223      56    H      0   \n3         1985      25   1165      70   1432      54    H      0   \n4         1985      25   1192      86   1447      74    H      0   \n...        ...     ...    ...     ...    ...     ...  ...    ...   \n145284    2016     132   1114      70   1419      50    N      0   \n145285    2016     132   1163      72   1272      58    N      0   \n145286    2016     132   1246      82   1401      77    N      1   \n145287    2016     132   1277      66   1345      62    N      0   \n145288    2016     132   1386      87   1433      74    N      0   \n\n        ScoreDifference HighScoringGame  \n0                    17              No  \n1                     7              No  \n2                     7              No  \n3                    16              No  \n4                    12              No  \n...                 ...             ...  \n145284               20              No  \n145285               14              No  \n145286                5              No  \n145287                4              No  \n145288               13              No  \n\n[145289 rows x 10 columns]",
      "text/html": "<div>\n<style scoped>\n    .dataframe tbody tr th:only-of-type {\n        vertical-align: middle;\n    }\n\n    .dataframe tbody tr th {\n        vertical-align: top;\n    }\n\n    .dataframe thead th {\n        text-align: right;\n    }\n</style>\n<table border=\"1\" class=\"dataframe\">\n  <thead>\n    <tr style=\"text-align: right;\">\n      <th></th>\n      <th>Season</th>\n      <th>Daynum</th>\n      <th>Wteam</th>\n      <th>Wscore</th>\n      <th>Lteam</th>\n      <th>Lscore</th>\n      <th>Wloc</th>\n      <th>Numot</th>\n      <th>ScoreDifference</th>\n      <th>HighScoringGame</th>\n    </tr>\n  </thead>\n  <tbody>\n    <tr>\n      <th>0</th>\n      <td>1985</td>\n      <td>20</td>\n      <td>1228</td>\n      <td>81</td>\n      <td>1328</td>\n      <td>64</td>\n      <td>N</td>\n      <td>0</td>\n      <td>17</td>\n      <td>No</td>\n    </tr>\n    <tr>\n      <th>1</th>\n      <td>1985</td>\n      <td>25</td>\n      <td>1106</td>\n      <td>77</td>\n      <td>1354</td>\n      <td>70</td>\n      <td>H</td>\n      <td>0</td>\n      <td>7</td>\n      <td>No</td>\n    </tr>\n    <tr>\n      <th>2</th>\n      <td>1985</td>\n      <td>25</td>\n      <td>1112</td>\n      <td>63</td>\n      <td>1223</td>\n      <td>56</td>\n      <td>H</td>\n      <td>0</td>\n      <td>7</td>\n      <td>No</td>\n    </tr>\n    <tr>\n      <th>3</th>\n      <td>1985</td>\n      <td>25</td>\n      <td>1165</td>\n      <td>70</td>\n      <td>1432</td>\n      <td>54</td>\n      <td>H</td>\n      <td>0</td>\n      <td>16</td>\n      <td>No</td>\n    </tr>\n    <tr>\n      <th>4</th>\n      <td>1985</td>\n      <td>25</td>\n      <td>1192</td>\n      <td>86</td>\n      <td>1447</td>\n      <td>74</td>\n      <td>H</td>\n      <td>0</td>\n      <td>12</td>\n      <td>No</td>\n    </tr>\n    <tr>\n      <th>...</th>\n      <td>...</td>\n      <td>...</td>\n      <td>...</td>\n      <td>...</td>\n      <td>...</td>\n      <td>...</td>\n      <td>...</td>\n      <td>...</td>\n      <td>...</td>\n      <td>...</td>\n    </tr>\n    <tr>\n      <th>145284</th>\n      <td>2016</td>\n      <td>132</td>\n      <td>1114</td>\n      <td>70</td>\n      <td>1419</td>\n      <td>50</td>\n      <td>N</td>\n      <td>0</td>\n      <td>20</td>\n      <td>No</td>\n    </tr>\n    <tr>\n      <th>145285</th>\n      <td>2016</td>\n      <td>132</td>\n      <td>1163</td>\n      <td>72</td>\n      <td>1272</td>\n      <td>58</td>\n      <td>N</td>\n      <td>0</td>\n      <td>14</td>\n      <td>No</td>\n    </tr>\n    <tr>\n      <th>145286</th>\n      <td>2016</td>\n      <td>132</td>\n      <td>1246</td>\n      <td>82</td>\n      <td>1401</td>\n      <td>77</td>\n      <td>N</td>\n      <td>1</td>\n      <td>5</td>\n      <td>No</td>\n    </tr>\n    <tr>\n      <th>145287</th>\n      <td>2016</td>\n      <td>132</td>\n      <td>1277</td>\n      <td>66</td>\n      <td>1345</td>\n      <td>62</td>\n      <td>N</td>\n      <td>0</td>\n      <td>4</td>\n      <td>No</td>\n    </tr>\n    <tr>\n      <th>145288</th>\n      <td>2016</td>\n      <td>132</td>\n      <td>1386</td>\n      <td>87</td>\n      <td>1433</td>\n      <td>74</td>\n      <td>N</td>\n      <td>0</td>\n      <td>13</td>\n      <td>No</td>\n    </tr>\n  </tbody>\n</table>\n<p>145289 rows × 10 columns</p>\n</div>"
     },
     "execution_count": 74,
     "metadata": {},
     "output_type": "execute_result"
    }
   ],
   "source": [
    "# Iteration through the rows in the dataframe\n",
    "# Method form above\n",
    "for index, row in df.iterrows():\n",
    "# Loop through the winning score\n",
    "    if row['Wscore'] > 100:\n",
    "\n",
    "# If the winning score is higher than 100, the value will be set to yes\n",
    "        df.loc[index, 'HighScoringGame'] = 'Yes'\n",
    "# If the score is below 100, the value is set to No\n",
    "    else:\n",
    "        df.loc[index, 'HighScoringGame'] = 'No'\n",
    "#result\n",
    "df\n",
    "#you can also use print() to the result, but it does not give a very good overview"
   ]
  },
  {
   "attachments": {},
   "cell_type": "markdown",
   "metadata": {},
   "source": [
    "**Q**: Calculate the total number of games played by each team, whether they won or lost. This will require iterating over the rows of the DataFrame and updating a dictionary that keeps track of the number of games for each team."
   ]
  },
  {
   "cell_type": "code",
   "execution_count": 84,
   "metadata": {
    "ExecuteTime": {
     "end_time": "2023-06-19T21:43:46.484819Z",
     "start_time": "2023-06-19T21:43:39.943455Z"
    }
   },
   "outputs": [
    {
     "name": "stdout",
     "output_type": "stream",
     "text": [
      "Team 81 has played 4362 games\n",
      "Team 64 has played 3203 games\n",
      "Team 77 has played 4795 games\n",
      "Team 70 has played 4601 games\n",
      "Team 63 has played 2825 games\n",
      "Team 56 has played 1061 games\n",
      "Team 86 has played 3184 games\n",
      "Team 74 has played 5000 games\n",
      "Team 79 has played 4679 games\n",
      "Team 78 has played 4740 games\n",
      "Team 58 has played 1478 games\n",
      "Team 98 has played 914 games\n",
      "Team 80 has played 4551 games\n",
      "Team 97 has played 1028 games\n",
      "Team 89 has played 2479 games\n",
      "Team 103 has played 487 games\n",
      "Team 71 has played 4716 games\n",
      "Team 75 has played 5020 games\n",
      "Team 91 has played 2048 games\n",
      "Team 72 has played 4746 games\n",
      "Team 87 has played 3017 games\n",
      "Team 65 has played 3386 games\n",
      "Team 62 has played 2432 games\n",
      "Team 92 has played 1886 games\n",
      "Team 50 has played 284 games\n",
      "Team 47 has played 120 games\n",
      "Team 40 has played 13 games\n",
      "Team 55 has played 849 games\n",
      "Team 52 has played 443 games\n",
      "Team 76 has played 4973 games\n",
      "Team 59 has played 1716 games\n",
      "Team 106 has played 276 games\n",
      "Team 95 has played 1273 games\n",
      "Team 66 has played 3729 games\n",
      "Team 49 has played 199 games\n",
      "Team 109 has played 212 games\n",
      "Team 94 has played 1455 games\n",
      "Team 54 has played 711 games\n",
      "Team 85 has played 3375 games\n",
      "Team 67 has played 3936 games\n",
      "Team 73 has played 5050 games\n",
      "Team 61 has played 2206 games\n",
      "Team 68 has played 4155 games\n",
      "Team 60 has played 1960 games\n",
      "Team 104 has played 428 games\n",
      "Team 93 has played 1635 games\n",
      "Team 69 has played 4544 games\n",
      "Team 102 has played 567 games\n",
      "Team 90 has played 2236 games\n",
      "Team 99 has played 840 games\n",
      "Team 82 has played 4023 games\n",
      "Team 84 has played 3535 games\n",
      "Team 96 has played 1141 games\n",
      "Team 57 has played 1270 games\n",
      "Team 44 has played 51 games\n",
      "Team 46 has played 97 games\n",
      "Team 112 has played 131 games\n",
      "Team 51 has played 364 games\n",
      "Team 48 has played 157 games\n",
      "Team 83 has played 3855 games\n",
      "Team 111 has played 161 games\n",
      "Team 128 has played 19 games\n",
      "Team 88 has played 2653 games\n",
      "Team 53 has played 575 games\n",
      "Team 45 has played 83 games\n",
      "Team 100 has played 727 games\n",
      "Team 115 has played 106 games\n",
      "Team 101 has played 562 games\n",
      "Team 110 has played 187 games\n",
      "Team 108 has played 242 games\n",
      "Team 107 has played 301 games\n",
      "Team 105 has played 369 games\n",
      "Team 121 has played 38 games\n",
      "Team 142 has played 5 games\n",
      "Team 140 has played 5 games\n",
      "Team 114 has played 108 games\n",
      "Team 117 has played 83 games\n",
      "Team 42 has played 27 games\n",
      "Team 36 has played 4 games\n",
      "Team 37 has played 6 games\n",
      "Team 34 has played 3 games\n",
      "Team 127 has played 19 games\n",
      "Team 113 has played 116 games\n",
      "Team 43 has played 36 games\n",
      "Team 41 has played 18 games\n",
      "Team 116 has played 92 games\n",
      "Team 132 has played 7 games\n",
      "Team 129 has played 15 games\n",
      "Team 119 has played 49 games\n",
      "Team 122 has played 32 games\n",
      "Team 151 has played 3 games\n",
      "Team 35 has played 2 games\n",
      "Team 138 has played 4 games\n",
      "Team 126 has played 17 games\n",
      "Team 118 has played 52 games\n",
      "Team 123 has played 38 games\n",
      "Team 133 has played 7 games\n",
      "Team 120 has played 40 games\n",
      "Team 124 has played 23 games\n",
      "Team 130 has played 9 games\n",
      "Team 152 has played 4 games\n",
      "Team 139 has played 4 games\n",
      "Team 144 has played 6 games\n",
      "Team 125 has played 16 games\n",
      "Team 134 has played 7 games\n",
      "Team 141 has played 6 games\n",
      "Team 135 has played 4 games\n",
      "Team 136 has played 7 games\n",
      "Team 131 has played 9 games\n",
      "Team 162 has played 1 games\n",
      "Team 181 has played 1 games\n",
      "Team 150 has played 4 games\n",
      "Team 147 has played 2 games\n",
      "Team 145 has played 1 games\n",
      "Team 173 has played 1 games\n",
      "Team 166 has played 1 games\n",
      "Team 39 has played 6 games\n",
      "Team 148 has played 2 games\n",
      "Team 157 has played 1 games\n",
      "Team 137 has played 4 games\n",
      "Team 149 has played 1 games\n",
      "Team 172 has played 1 games\n",
      "Team 186 has played 1 games\n",
      "Team 159 has played 1 games\n",
      "Team 146 has played 1 games\n",
      "Team 143 has played 2 games\n",
      "Team 155 has played 1 games\n",
      "Team 156 has played 1 games\n",
      "Team 38 has played 6 games\n",
      "Team 153 has played 1 games\n"
     ]
    }
   ],
   "source": [
    "# A dictionary to store the number\n",
    "played_games = {}\n",
    "\n",
    "#The same method as in task above\n",
    "#Iteration through the rows\n",
    "for index, row in df.iterrows():\n",
    "    # rows for the different teams\n",
    "    team_win = row['Wscore']\n",
    "    team_loss = row['Lscore']\n",
    "\n",
    "    #Loop for updating the games for winnings\n",
    "    if team_win in played_games:\n",
    "        played_games[team_win] += 1\n",
    "    else:\n",
    "        played_games[team_win] = 1\n",
    "\n",
    "      #Loop for updating the games for losers\n",
    "        if team_loss in played_games:\n",
    "            played_games[team_loss] += 1\n",
    "        else:\n",
    "            played_games[team_loss] =1\n",
    "\n",
    "for team, games in played_games.items():\n",
    "    print(f'Team {team} has played {games} games')\n"
   ]
  },
  {
   "attachments": {},
   "cell_type": "markdown",
   "metadata": {},
   "source": [
    "**Q**: For each season, find the game with the highest score difference (winning score - losing score). This will require iterating over the rows of the DataFrame, keeping track of the highest score difference for each season, and updating it if a game with a higher score difference is found."
   ]
  },
  {
   "cell_type": "code",
   "execution_count": 86,
   "metadata": {
    "ExecuteTime": {
     "end_time": "2023-06-19T21:44:56.236971Z",
     "start_time": "2023-06-19T21:44:50.285771Z"
    }
   },
   "outputs": [
    {
     "name": "stdout",
     "output_type": "stream",
     "text": [
      "{}\n"
     ]
    }
   ],
   "source": [
    "# Write your code here\n",
    "highest_score_difference ={}\n",
    "\n",
    "for index, row in df.iterrows():\n",
    "    score_difference = row['ScoreDifference']\n",
    "    season = row['Season']\n",
    "\n",
    "    if season in highest_score_difference:\n",
    "\n",
    "        if score_difference > highest_score_difference[season]:\n",
    "            highest_score_difference[season] = row\n",
    "\n",
    "        else:\n",
    "            highest_score_difference[season] = row\n",
    "\n",
    "print(highest_score_difference)\n",
    "\n"
   ]
  },
  {
   "attachments": {},
   "cell_type": "markdown",
   "metadata": {},
   "source": [
    "Remember, iterating over a DataFrame should generally be avoided if a vectorized operation can be used instead, as vectorized operations are usually much faster. However, these tasks are designed to give practice with DataFrame iteration for cases where it might be necessary."
   ]
  },
  {
   "attachments": {},
   "cell_type": "markdown",
   "metadata": {},
   "source": [
    "Vectorized Operation Example: Create a new column 'HighScoringGame' in the DataFrame using a vectorized operation. This column should contain 'Yes' if the winning score is greater than 100 and 'No' otherwise. Use the np.where function from the numpy library for this task."
   ]
  },
  {
   "cell_type": "code",
   "execution_count": 87,
   "metadata": {
    "ExecuteTime": {
     "end_time": "2023-06-19T21:45:12.828806Z",
     "start_time": "2023-06-19T21:45:12.782066Z"
    }
   },
   "outputs": [],
   "source": [
    "import numpy as np\n",
    "df['HighScoringGame'] = np.where(df['Wscore'] > 100, 'Yes', 'No')"
   ]
  },
  {
   "attachments": {},
   "cell_type": "markdown",
   "metadata": {},
   "source": [
    "**Q**: Vectorized Operation: Calculate the total number of games played by each team, whether they won or lost. Instead of iterating over the DataFrame, use the value_counts() function on the winning team and losing team columns separately, and then add the two Series together."
   ]
  },
  {
   "cell_type": "code",
   "execution_count": 89,
   "metadata": {
    "ExecuteTime": {
     "end_time": "2023-06-19T21:49:53.832161Z",
     "start_time": "2023-06-19T21:49:53.780774Z"
    }
   },
   "outputs": [
    {
     "data": {
      "text/plain": "1101     76\n1102    840\n1103    910\n1104    975\n1105    447\n       ... \n1460    827\n1461    914\n1462    954\n1463    838\n1464    856\nLength: 364, dtype: int64"
     },
     "execution_count": 89,
     "metadata": {},
     "output_type": "execute_result"
    }
   ],
   "source": [
    "\n",
    "win_counts = df['Wteam'].value_counts()\n",
    "\n",
    "loss_counts = df['Lteam'].value_counts()\n",
    "\n",
    "total_games = win_counts.add(loss_counts, fill_value=0)\n",
    "\n",
    "total_games\n"
   ]
  },
  {
   "attachments": {},
   "cell_type": "markdown",
   "metadata": {},
   "source": [
    "**Q**: For each season, find the game with the highest score difference (winning score - losing score). Instead of iterating over the DataFrame, create a new column 'ScoreDifference' using vectorized subtraction, then use the groupby() function and idxmax() function to find the game with the highest score difference for each season."
   ]
  },
  {
   "cell_type": "code",
   "execution_count": 90,
   "metadata": {
    "ExecuteTime": {
     "end_time": "2023-06-19T21:52:51.941332Z",
     "start_time": "2023-06-19T21:52:51.887433Z"
    }
   },
   "outputs": [
    {
     "data": {
      "text/plain": "        Season  Daynum  Wteam  Wscore  Lteam  Lscore Wloc  Numot  \\\n236       1985      33   1361     128   1288      68    H      0   \n4731      1986      60   1314     129   1264      45    N      0   \n8240      1987      51   1155     112   1118      39    H      0   \n12046     1988      40   1328     152   1147      84    H      0   \n16677     1989      64   1242     115   1135      45    H      0   \n19502     1990      26   1181     130   1217      54    H      0   \n25161     1991      73   1163     115   1148      47    H      0   \n27997     1992      30   1116     128   1126      46    H      0   \n33858     1993      86   1328     146   1197      65    H      0   \n36404     1994      47   1228     121   1152      52    H      0   \n39858     1995      26   1246     124   1404      50    H      0   \n44653     1996      48   1409     141   1341      50    H      0   \n49033     1997      56   1278     114   1106      34    H      0   \n52600     1998      33   1395     153   1410      87    H      0   \n57618     1999      58   1268     132   1317      57    H      0   \n60616     2000      19   1261     112   1212      37    H      0   \n65999     2001      41   1196     125   1197      50    H      0   \n70737     2002      50   1328     109   1183      50    H      0   \n74791     2003      33   1403     107   1311      35    H      0   \n79181     2004      29   1328      94   1115      24    H      0   \n83372     2005      18   1403     119   1421      55    H      0   \n89542     2006      60   1400     110   1341      38    H      0   \n94507     2007      59   1401     101   1212      27    H      0   \n97737     2008       4   1182     129   1224      59    H      0   \n103723    2009      27   1314     116   1421      48    H      0   \n108405    2010      15   1397     124   1421      49    H      0   \n114015    2011      22   1388     121   1152      52    H      0   \n118699    2012      11   1345      96   1296      34    H      0   \n124057    2013       7   1235      98   1105      40    H      0   \n131373    2014      61   1256     126   1255      52    H      0   \n134590    2015      11   1181     113   1342      44    H      0   \n140040    2016      12   1139     144   1154      71    H      0   \n\n        ScoreDifference HighScoringGame  \n236                  60             Yes  \n4731                 84             Yes  \n8240                 73             Yes  \n12046                68             Yes  \n16677                70             Yes  \n19502                76             Yes  \n25161                68             Yes  \n27997                82             Yes  \n33858                81             Yes  \n36404                69             Yes  \n39858                74             Yes  \n44653                91             Yes  \n49033                80             Yes  \n52600                66             Yes  \n57618                75             Yes  \n60616                75             Yes  \n65999                75             Yes  \n70737                59             Yes  \n74791                72             Yes  \n79181                70              No  \n83372                64             Yes  \n89542                72             Yes  \n94507                74             Yes  \n97737                70             Yes  \n103723               68             Yes  \n108405               75             Yes  \n114015               69             Yes  \n118699               62              No  \n124057               58              No  \n131373               74             Yes  \n134590               69             Yes  \n140040               73             Yes  ",
      "text/html": "<div>\n<style scoped>\n    .dataframe tbody tr th:only-of-type {\n        vertical-align: middle;\n    }\n\n    .dataframe tbody tr th {\n        vertical-align: top;\n    }\n\n    .dataframe thead th {\n        text-align: right;\n    }\n</style>\n<table border=\"1\" class=\"dataframe\">\n  <thead>\n    <tr style=\"text-align: right;\">\n      <th></th>\n      <th>Season</th>\n      <th>Daynum</th>\n      <th>Wteam</th>\n      <th>Wscore</th>\n      <th>Lteam</th>\n      <th>Lscore</th>\n      <th>Wloc</th>\n      <th>Numot</th>\n      <th>ScoreDifference</th>\n      <th>HighScoringGame</th>\n    </tr>\n  </thead>\n  <tbody>\n    <tr>\n      <th>236</th>\n      <td>1985</td>\n      <td>33</td>\n      <td>1361</td>\n      <td>128</td>\n      <td>1288</td>\n      <td>68</td>\n      <td>H</td>\n      <td>0</td>\n      <td>60</td>\n      <td>Yes</td>\n    </tr>\n    <tr>\n      <th>4731</th>\n      <td>1986</td>\n      <td>60</td>\n      <td>1314</td>\n      <td>129</td>\n      <td>1264</td>\n      <td>45</td>\n      <td>N</td>\n      <td>0</td>\n      <td>84</td>\n      <td>Yes</td>\n    </tr>\n    <tr>\n      <th>8240</th>\n      <td>1987</td>\n      <td>51</td>\n      <td>1155</td>\n      <td>112</td>\n      <td>1118</td>\n      <td>39</td>\n      <td>H</td>\n      <td>0</td>\n      <td>73</td>\n      <td>Yes</td>\n    </tr>\n    <tr>\n      <th>12046</th>\n      <td>1988</td>\n      <td>40</td>\n      <td>1328</td>\n      <td>152</td>\n      <td>1147</td>\n      <td>84</td>\n      <td>H</td>\n      <td>0</td>\n      <td>68</td>\n      <td>Yes</td>\n    </tr>\n    <tr>\n      <th>16677</th>\n      <td>1989</td>\n      <td>64</td>\n      <td>1242</td>\n      <td>115</td>\n      <td>1135</td>\n      <td>45</td>\n      <td>H</td>\n      <td>0</td>\n      <td>70</td>\n      <td>Yes</td>\n    </tr>\n    <tr>\n      <th>19502</th>\n      <td>1990</td>\n      <td>26</td>\n      <td>1181</td>\n      <td>130</td>\n      <td>1217</td>\n      <td>54</td>\n      <td>H</td>\n      <td>0</td>\n      <td>76</td>\n      <td>Yes</td>\n    </tr>\n    <tr>\n      <th>25161</th>\n      <td>1991</td>\n      <td>73</td>\n      <td>1163</td>\n      <td>115</td>\n      <td>1148</td>\n      <td>47</td>\n      <td>H</td>\n      <td>0</td>\n      <td>68</td>\n      <td>Yes</td>\n    </tr>\n    <tr>\n      <th>27997</th>\n      <td>1992</td>\n      <td>30</td>\n      <td>1116</td>\n      <td>128</td>\n      <td>1126</td>\n      <td>46</td>\n      <td>H</td>\n      <td>0</td>\n      <td>82</td>\n      <td>Yes</td>\n    </tr>\n    <tr>\n      <th>33858</th>\n      <td>1993</td>\n      <td>86</td>\n      <td>1328</td>\n      <td>146</td>\n      <td>1197</td>\n      <td>65</td>\n      <td>H</td>\n      <td>0</td>\n      <td>81</td>\n      <td>Yes</td>\n    </tr>\n    <tr>\n      <th>36404</th>\n      <td>1994</td>\n      <td>47</td>\n      <td>1228</td>\n      <td>121</td>\n      <td>1152</td>\n      <td>52</td>\n      <td>H</td>\n      <td>0</td>\n      <td>69</td>\n      <td>Yes</td>\n    </tr>\n    <tr>\n      <th>39858</th>\n      <td>1995</td>\n      <td>26</td>\n      <td>1246</td>\n      <td>124</td>\n      <td>1404</td>\n      <td>50</td>\n      <td>H</td>\n      <td>0</td>\n      <td>74</td>\n      <td>Yes</td>\n    </tr>\n    <tr>\n      <th>44653</th>\n      <td>1996</td>\n      <td>48</td>\n      <td>1409</td>\n      <td>141</td>\n      <td>1341</td>\n      <td>50</td>\n      <td>H</td>\n      <td>0</td>\n      <td>91</td>\n      <td>Yes</td>\n    </tr>\n    <tr>\n      <th>49033</th>\n      <td>1997</td>\n      <td>56</td>\n      <td>1278</td>\n      <td>114</td>\n      <td>1106</td>\n      <td>34</td>\n      <td>H</td>\n      <td>0</td>\n      <td>80</td>\n      <td>Yes</td>\n    </tr>\n    <tr>\n      <th>52600</th>\n      <td>1998</td>\n      <td>33</td>\n      <td>1395</td>\n      <td>153</td>\n      <td>1410</td>\n      <td>87</td>\n      <td>H</td>\n      <td>0</td>\n      <td>66</td>\n      <td>Yes</td>\n    </tr>\n    <tr>\n      <th>57618</th>\n      <td>1999</td>\n      <td>58</td>\n      <td>1268</td>\n      <td>132</td>\n      <td>1317</td>\n      <td>57</td>\n      <td>H</td>\n      <td>0</td>\n      <td>75</td>\n      <td>Yes</td>\n    </tr>\n    <tr>\n      <th>60616</th>\n      <td>2000</td>\n      <td>19</td>\n      <td>1261</td>\n      <td>112</td>\n      <td>1212</td>\n      <td>37</td>\n      <td>H</td>\n      <td>0</td>\n      <td>75</td>\n      <td>Yes</td>\n    </tr>\n    <tr>\n      <th>65999</th>\n      <td>2001</td>\n      <td>41</td>\n      <td>1196</td>\n      <td>125</td>\n      <td>1197</td>\n      <td>50</td>\n      <td>H</td>\n      <td>0</td>\n      <td>75</td>\n      <td>Yes</td>\n    </tr>\n    <tr>\n      <th>70737</th>\n      <td>2002</td>\n      <td>50</td>\n      <td>1328</td>\n      <td>109</td>\n      <td>1183</td>\n      <td>50</td>\n      <td>H</td>\n      <td>0</td>\n      <td>59</td>\n      <td>Yes</td>\n    </tr>\n    <tr>\n      <th>74791</th>\n      <td>2003</td>\n      <td>33</td>\n      <td>1403</td>\n      <td>107</td>\n      <td>1311</td>\n      <td>35</td>\n      <td>H</td>\n      <td>0</td>\n      <td>72</td>\n      <td>Yes</td>\n    </tr>\n    <tr>\n      <th>79181</th>\n      <td>2004</td>\n      <td>29</td>\n      <td>1328</td>\n      <td>94</td>\n      <td>1115</td>\n      <td>24</td>\n      <td>H</td>\n      <td>0</td>\n      <td>70</td>\n      <td>No</td>\n    </tr>\n    <tr>\n      <th>83372</th>\n      <td>2005</td>\n      <td>18</td>\n      <td>1403</td>\n      <td>119</td>\n      <td>1421</td>\n      <td>55</td>\n      <td>H</td>\n      <td>0</td>\n      <td>64</td>\n      <td>Yes</td>\n    </tr>\n    <tr>\n      <th>89542</th>\n      <td>2006</td>\n      <td>60</td>\n      <td>1400</td>\n      <td>110</td>\n      <td>1341</td>\n      <td>38</td>\n      <td>H</td>\n      <td>0</td>\n      <td>72</td>\n      <td>Yes</td>\n    </tr>\n    <tr>\n      <th>94507</th>\n      <td>2007</td>\n      <td>59</td>\n      <td>1401</td>\n      <td>101</td>\n      <td>1212</td>\n      <td>27</td>\n      <td>H</td>\n      <td>0</td>\n      <td>74</td>\n      <td>Yes</td>\n    </tr>\n    <tr>\n      <th>97737</th>\n      <td>2008</td>\n      <td>4</td>\n      <td>1182</td>\n      <td>129</td>\n      <td>1224</td>\n      <td>59</td>\n      <td>H</td>\n      <td>0</td>\n      <td>70</td>\n      <td>Yes</td>\n    </tr>\n    <tr>\n      <th>103723</th>\n      <td>2009</td>\n      <td>27</td>\n      <td>1314</td>\n      <td>116</td>\n      <td>1421</td>\n      <td>48</td>\n      <td>H</td>\n      <td>0</td>\n      <td>68</td>\n      <td>Yes</td>\n    </tr>\n    <tr>\n      <th>108405</th>\n      <td>2010</td>\n      <td>15</td>\n      <td>1397</td>\n      <td>124</td>\n      <td>1421</td>\n      <td>49</td>\n      <td>H</td>\n      <td>0</td>\n      <td>75</td>\n      <td>Yes</td>\n    </tr>\n    <tr>\n      <th>114015</th>\n      <td>2011</td>\n      <td>22</td>\n      <td>1388</td>\n      <td>121</td>\n      <td>1152</td>\n      <td>52</td>\n      <td>H</td>\n      <td>0</td>\n      <td>69</td>\n      <td>Yes</td>\n    </tr>\n    <tr>\n      <th>118699</th>\n      <td>2012</td>\n      <td>11</td>\n      <td>1345</td>\n      <td>96</td>\n      <td>1296</td>\n      <td>34</td>\n      <td>H</td>\n      <td>0</td>\n      <td>62</td>\n      <td>No</td>\n    </tr>\n    <tr>\n      <th>124057</th>\n      <td>2013</td>\n      <td>7</td>\n      <td>1235</td>\n      <td>98</td>\n      <td>1105</td>\n      <td>40</td>\n      <td>H</td>\n      <td>0</td>\n      <td>58</td>\n      <td>No</td>\n    </tr>\n    <tr>\n      <th>131373</th>\n      <td>2014</td>\n      <td>61</td>\n      <td>1256</td>\n      <td>126</td>\n      <td>1255</td>\n      <td>52</td>\n      <td>H</td>\n      <td>0</td>\n      <td>74</td>\n      <td>Yes</td>\n    </tr>\n    <tr>\n      <th>134590</th>\n      <td>2015</td>\n      <td>11</td>\n      <td>1181</td>\n      <td>113</td>\n      <td>1342</td>\n      <td>44</td>\n      <td>H</td>\n      <td>0</td>\n      <td>69</td>\n      <td>Yes</td>\n    </tr>\n    <tr>\n      <th>140040</th>\n      <td>2016</td>\n      <td>12</td>\n      <td>1139</td>\n      <td>144</td>\n      <td>1154</td>\n      <td>71</td>\n      <td>H</td>\n      <td>0</td>\n      <td>73</td>\n      <td>Yes</td>\n    </tr>\n  </tbody>\n</table>\n</div>"
     },
     "execution_count": 90,
     "metadata": {},
     "output_type": "execute_result"
    }
   ],
   "source": [
    "\n",
    "df['ScoreDifference'] = df['Wscore'] - df['Lscore']\n",
    "\n",
    "grouped = df.groupby('Season')\n",
    "\n",
    "highest_scoring_games = grouped['ScoreDifference'].idxmax()\n",
    "\n",
    "games = df.loc[highest_scoring_games]\n",
    "games"
   ]
  },
  {
   "attachments": {},
   "cell_type": "markdown",
   "metadata": {},
   "source": [
    "# Extracting Rows and Columns"
   ]
  },
  {
   "attachments": {},
   "cell_type": "markdown",
   "metadata": {},
   "source": [
    "The bracket indexing operator is one way to extract certain columns from a dataframe."
   ]
  },
  {
   "cell_type": "code",
   "execution_count": 91,
   "metadata": {
    "collapsed": false,
    "scrolled": true,
    "ExecuteTime": {
     "end_time": "2023-06-19T21:53:13.422020Z",
     "start_time": "2023-06-19T21:53:13.360213Z"
    }
   },
   "outputs": [
    {
     "data": {
      "text/plain": "   Wscore  Lscore\n0      81      64\n1      77      70\n2      63      56\n3      70      54\n4      86      74",
      "text/html": "<div>\n<style scoped>\n    .dataframe tbody tr th:only-of-type {\n        vertical-align: middle;\n    }\n\n    .dataframe tbody tr th {\n        vertical-align: top;\n    }\n\n    .dataframe thead th {\n        text-align: right;\n    }\n</style>\n<table border=\"1\" class=\"dataframe\">\n  <thead>\n    <tr style=\"text-align: right;\">\n      <th></th>\n      <th>Wscore</th>\n      <th>Lscore</th>\n    </tr>\n  </thead>\n  <tbody>\n    <tr>\n      <th>0</th>\n      <td>81</td>\n      <td>64</td>\n    </tr>\n    <tr>\n      <th>1</th>\n      <td>77</td>\n      <td>70</td>\n    </tr>\n    <tr>\n      <th>2</th>\n      <td>63</td>\n      <td>56</td>\n    </tr>\n    <tr>\n      <th>3</th>\n      <td>70</td>\n      <td>54</td>\n    </tr>\n    <tr>\n      <th>4</th>\n      <td>86</td>\n      <td>74</td>\n    </tr>\n  </tbody>\n</table>\n</div>"
     },
     "execution_count": 91,
     "metadata": {},
     "output_type": "execute_result"
    }
   ],
   "source": [
    "df[['Wscore', 'Lscore']].head()"
   ]
  },
  {
   "attachments": {},
   "cell_type": "markdown",
   "metadata": {},
   "source": [
    "Notice that you can acheive the same result by using the loc function. Loc is a veryyyy versatile function that can help you in a lot of accessing and extracting tasks. "
   ]
  },
  {
   "cell_type": "code",
   "execution_count": 93,
   "metadata": {
    "collapsed": false,
    "ExecuteTime": {
     "end_time": "2023-06-19T21:53:21.969576Z",
     "start_time": "2023-06-19T21:53:21.962251Z"
    }
   },
   "outputs": [
    {
     "data": {
      "text/plain": "   Wscore  Lscore\n0      81      64\n1      77      70\n2      63      56\n3      70      54\n4      86      74",
      "text/html": "<div>\n<style scoped>\n    .dataframe tbody tr th:only-of-type {\n        vertical-align: middle;\n    }\n\n    .dataframe tbody tr th {\n        vertical-align: top;\n    }\n\n    .dataframe thead th {\n        text-align: right;\n    }\n</style>\n<table border=\"1\" class=\"dataframe\">\n  <thead>\n    <tr style=\"text-align: right;\">\n      <th></th>\n      <th>Wscore</th>\n      <th>Lscore</th>\n    </tr>\n  </thead>\n  <tbody>\n    <tr>\n      <th>0</th>\n      <td>81</td>\n      <td>64</td>\n    </tr>\n    <tr>\n      <th>1</th>\n      <td>77</td>\n      <td>70</td>\n    </tr>\n    <tr>\n      <th>2</th>\n      <td>63</td>\n      <td>56</td>\n    </tr>\n    <tr>\n      <th>3</th>\n      <td>70</td>\n      <td>54</td>\n    </tr>\n    <tr>\n      <th>4</th>\n      <td>86</td>\n      <td>74</td>\n    </tr>\n  </tbody>\n</table>\n</div>"
     },
     "execution_count": 93,
     "metadata": {},
     "output_type": "execute_result"
    }
   ],
   "source": [
    "df.loc[:, ['Wscore', 'Lscore']].head()"
   ]
  },
  {
   "attachments": {},
   "cell_type": "markdown",
   "metadata": {},
   "source": [
    "Note the difference is the return types when you use brackets and when you use double brackets. "
   ]
  },
  {
   "cell_type": "code",
   "execution_count": 94,
   "metadata": {
    "collapsed": false,
    "ExecuteTime": {
     "end_time": "2023-06-19T21:53:25.912552Z",
     "start_time": "2023-06-19T21:53:25.635271Z"
    }
   },
   "outputs": [
    {
     "data": {
      "text/plain": "pandas.core.series.Series"
     },
     "execution_count": 94,
     "metadata": {},
     "output_type": "execute_result"
    }
   ],
   "source": [
    "type(df['Wscore'])"
   ]
  },
  {
   "cell_type": "code",
   "execution_count": 95,
   "metadata": {
    "collapsed": false,
    "ExecuteTime": {
     "end_time": "2023-06-19T21:53:27.475018Z",
     "start_time": "2023-06-19T21:53:27.427059Z"
    }
   },
   "outputs": [
    {
     "data": {
      "text/plain": "pandas.core.frame.DataFrame"
     },
     "execution_count": 95,
     "metadata": {},
     "output_type": "execute_result"
    }
   ],
   "source": [
    "type(df[['Wscore']])"
   ]
  },
  {
   "attachments": {},
   "cell_type": "markdown",
   "metadata": {},
   "source": [
    "You've seen before that you can access columns through df['col name']. You can access rows by using slicing operations. "
   ]
  },
  {
   "cell_type": "code",
   "execution_count": 96,
   "metadata": {
    "collapsed": false,
    "ExecuteTime": {
     "end_time": "2023-06-19T21:53:30.881609Z",
     "start_time": "2023-06-19T21:53:30.859742Z"
    }
   },
   "outputs": [
    {
     "data": {
      "text/plain": "   Season  Daynum  Wteam  Wscore  Lteam  Lscore Wloc  Numot  ScoreDifference  \\\n0    1985      20   1228      81   1328      64    N      0               17   \n1    1985      25   1106      77   1354      70    H      0                7   \n2    1985      25   1112      63   1223      56    H      0                7   \n\n  HighScoringGame  \n0              No  \n1              No  \n2              No  ",
      "text/html": "<div>\n<style scoped>\n    .dataframe tbody tr th:only-of-type {\n        vertical-align: middle;\n    }\n\n    .dataframe tbody tr th {\n        vertical-align: top;\n    }\n\n    .dataframe thead th {\n        text-align: right;\n    }\n</style>\n<table border=\"1\" class=\"dataframe\">\n  <thead>\n    <tr style=\"text-align: right;\">\n      <th></th>\n      <th>Season</th>\n      <th>Daynum</th>\n      <th>Wteam</th>\n      <th>Wscore</th>\n      <th>Lteam</th>\n      <th>Lscore</th>\n      <th>Wloc</th>\n      <th>Numot</th>\n      <th>ScoreDifference</th>\n      <th>HighScoringGame</th>\n    </tr>\n  </thead>\n  <tbody>\n    <tr>\n      <th>0</th>\n      <td>1985</td>\n      <td>20</td>\n      <td>1228</td>\n      <td>81</td>\n      <td>1328</td>\n      <td>64</td>\n      <td>N</td>\n      <td>0</td>\n      <td>17</td>\n      <td>No</td>\n    </tr>\n    <tr>\n      <th>1</th>\n      <td>1985</td>\n      <td>25</td>\n      <td>1106</td>\n      <td>77</td>\n      <td>1354</td>\n      <td>70</td>\n      <td>H</td>\n      <td>0</td>\n      <td>7</td>\n      <td>No</td>\n    </tr>\n    <tr>\n      <th>2</th>\n      <td>1985</td>\n      <td>25</td>\n      <td>1112</td>\n      <td>63</td>\n      <td>1223</td>\n      <td>56</td>\n      <td>H</td>\n      <td>0</td>\n      <td>7</td>\n      <td>No</td>\n    </tr>\n  </tbody>\n</table>\n</div>"
     },
     "execution_count": 96,
     "metadata": {},
     "output_type": "execute_result"
    }
   ],
   "source": [
    "df[0:3]"
   ]
  },
  {
   "attachments": {},
   "cell_type": "markdown",
   "metadata": {},
   "source": [
    "Here's an equivalent using iloc"
   ]
  },
  {
   "cell_type": "code",
   "execution_count": 97,
   "metadata": {
    "collapsed": false,
    "ExecuteTime": {
     "end_time": "2023-06-19T21:53:33.172586Z",
     "start_time": "2023-06-19T21:53:33.137558Z"
    }
   },
   "outputs": [
    {
     "data": {
      "text/plain": "   Season  Daynum  Wteam  Wscore  Lteam  Lscore Wloc  Numot  ScoreDifference  \\\n0    1985      20   1228      81   1328      64    N      0               17   \n1    1985      25   1106      77   1354      70    H      0                7   \n2    1985      25   1112      63   1223      56    H      0                7   \n\n  HighScoringGame  \n0              No  \n1              No  \n2              No  ",
      "text/html": "<div>\n<style scoped>\n    .dataframe tbody tr th:only-of-type {\n        vertical-align: middle;\n    }\n\n    .dataframe tbody tr th {\n        vertical-align: top;\n    }\n\n    .dataframe thead th {\n        text-align: right;\n    }\n</style>\n<table border=\"1\" class=\"dataframe\">\n  <thead>\n    <tr style=\"text-align: right;\">\n      <th></th>\n      <th>Season</th>\n      <th>Daynum</th>\n      <th>Wteam</th>\n      <th>Wscore</th>\n      <th>Lteam</th>\n      <th>Lscore</th>\n      <th>Wloc</th>\n      <th>Numot</th>\n      <th>ScoreDifference</th>\n      <th>HighScoringGame</th>\n    </tr>\n  </thead>\n  <tbody>\n    <tr>\n      <th>0</th>\n      <td>1985</td>\n      <td>20</td>\n      <td>1228</td>\n      <td>81</td>\n      <td>1328</td>\n      <td>64</td>\n      <td>N</td>\n      <td>0</td>\n      <td>17</td>\n      <td>No</td>\n    </tr>\n    <tr>\n      <th>1</th>\n      <td>1985</td>\n      <td>25</td>\n      <td>1106</td>\n      <td>77</td>\n      <td>1354</td>\n      <td>70</td>\n      <td>H</td>\n      <td>0</td>\n      <td>7</td>\n      <td>No</td>\n    </tr>\n    <tr>\n      <th>2</th>\n      <td>1985</td>\n      <td>25</td>\n      <td>1112</td>\n      <td>63</td>\n      <td>1223</td>\n      <td>56</td>\n      <td>H</td>\n      <td>0</td>\n      <td>7</td>\n      <td>No</td>\n    </tr>\n  </tbody>\n</table>\n</div>"
     },
     "execution_count": 97,
     "metadata": {},
     "output_type": "execute_result"
    }
   ],
   "source": [
    "df.iloc[0:3,:]"
   ]
  },
  {
   "attachments": {},
   "cell_type": "markdown",
   "metadata": {},
   "source": [
    "# Data Cleaning"
   ]
  },
  {
   "attachments": {},
   "cell_type": "markdown",
   "metadata": {},
   "source": [
    "One of the big jobs of doing well in Kaggle competitions is that of data cleaning. A lot of times, the CSV file you're given (especially like in the Titanic dataset), you'll have a lot of missing values in the dataset, which you have to identify. The following **isnull** function will figure out if there are any missing values in the dataframe, and will then sum up the total for each column. In this case, we have a pretty clean dataset."
   ]
  },
  {
   "cell_type": "code",
   "execution_count": 98,
   "metadata": {
    "collapsed": false,
    "ExecuteTime": {
     "end_time": "2023-06-19T21:53:37.330404Z",
     "start_time": "2023-06-19T21:53:37.312793Z"
    }
   },
   "outputs": [
    {
     "data": {
      "text/plain": "Season             0\nDaynum             0\nWteam              0\nWscore             0\nLteam              0\nLscore             0\nWloc               0\nNumot              0\nScoreDifference    0\nHighScoringGame    0\ndtype: int64"
     },
     "execution_count": 98,
     "metadata": {},
     "output_type": "execute_result"
    }
   ],
   "source": [
    "df.isnull().sum()"
   ]
  },
  {
   "attachments": {},
   "cell_type": "markdown",
   "metadata": {},
   "source": [
    "If you do end up having missing values in your datasets, be sure to get familiar with these two functions. \n",
    "* **dropna()** - This function allows you to drop all(or some) of the rows that have missing values. \n",
    "* **fillna()** - This function allows you replace the rows that have missing values with the value that you pass in."
   ]
  },
  {
   "attachments": {},
   "cell_type": "markdown",
   "metadata": {},
   "source": [
    "# Other Useful Functions"
   ]
  },
  {
   "attachments": {},
   "cell_type": "markdown",
   "metadata": {},
   "source": [
    "* **drop()** - This function removes the column or row that you pass in (You also have the specify the axis). \n",
    "* **agg()** - The aggregate function lets you compute summary statistics about each group\n",
    "* **apply()** - Lets you apply a specific function to any/all elements in a Dataframe or Series\n",
    "* **get_dummies()** - Helpful for turning categorical data into one hot vectors.\n",
    "* **drop_duplicates()** - Lets you remove identical rows"
   ]
  },
  {
   "attachments": {},
   "cell_type": "markdown",
   "metadata": {
    "collapsed": true
   },
   "source": [
    "# Lots of Other Great Resources"
   ]
  },
  {
   "attachments": {},
   "cell_type": "markdown",
   "metadata": {},
   "source": [
    "Pandas has been around for a while and there are a lot of other good resources if you're still interested on getting the most out of this library. \n",
    "* http://pandas.pydata.org/pandas-docs/stable/10min.html\n",
    "* https://www.datacamp.com/community/tutorials/pandas-tutorial-dataframe-python\n",
    "* http://www.gregreda.com/2013/10/26/intro-to-pandas-data-structures/\n",
    "* https://www.dataquest.io/blog/pandas-python-tutorial/\n",
    "* https://drive.google.com/file/d/0ByIrJAE4KMTtTUtiVExiUGVkRkE/view\n",
    "* https://www.youtube.com/playlist?list=PL5-da3qGB5ICCsgW1MxlZ0Hq8LL5U3u9y"
   ]
  }
 ],
 "metadata": {
  "anaconda-cloud": {},
  "kernelspec": {
   "display_name": "Python 3",
   "language": "python",
   "name": "python3"
  },
  "language_info": {
   "codemirror_mode": {
    "name": "ipython",
    "version": 3
   },
   "file_extension": ".py",
   "mimetype": "text/x-python",
   "name": "python",
   "nbconvert_exporter": "python",
   "pygments_lexer": "ipython3",
   "version": "3.10.4 (v3.10.4:9d38120e33, Mar 23 2022, 17:29:05) [Clang 13.0.0 (clang-1300.0.29.30)]"
  },
  "vscode": {
   "interpreter": {
    "hash": "aee8b7b246df8f9039afb4144a1f6fd8d2ca17a180786b69acc140d282b71a49"
   }
  }
 },
 "nbformat": 4,
 "nbformat_minor": 1
}
